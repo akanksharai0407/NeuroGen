{
  "nbformat": 4,
  "nbformat_minor": 0,
  "metadata": {
    "colab": {
      "provenance": [],
      "include_colab_link": true
    },
    "kernelspec": {
      "name": "python3",
      "display_name": "Python 3"
    },
    "language_info": {
      "name": "python"
    },
    "widgets": {
      "application/vnd.jupyter.widget-state+json": {
        "d3cc05e85b3f4681b6c91b815985bb0b": {
          "model_module": "@jupyter-widgets/controls",
          "model_name": "HBoxModel",
          "model_module_version": "1.5.0",
          "state": {
            "_dom_classes": [],
            "_model_module": "@jupyter-widgets/controls",
            "_model_module_version": "1.5.0",
            "_model_name": "HBoxModel",
            "_view_count": null,
            "_view_module": "@jupyter-widgets/controls",
            "_view_module_version": "1.5.0",
            "_view_name": "HBoxView",
            "box_style": "",
            "children": [
              "IPY_MODEL_2bed110dbb1f48db91672883a95314f7",
              "IPY_MODEL_230b6f79536340babade95a8d6478b11",
              "IPY_MODEL_80225dc1596345ba95e42d33afd07302"
            ],
            "layout": "IPY_MODEL_9fd652470cda44518d11da40a68e4d81"
          }
        },
        "2bed110dbb1f48db91672883a95314f7": {
          "model_module": "@jupyter-widgets/controls",
          "model_name": "HTMLModel",
          "model_module_version": "1.5.0",
          "state": {
            "_dom_classes": [],
            "_model_module": "@jupyter-widgets/controls",
            "_model_module_version": "1.5.0",
            "_model_name": "HTMLModel",
            "_view_count": null,
            "_view_module": "@jupyter-widgets/controls",
            "_view_module_version": "1.5.0",
            "_view_name": "HTMLView",
            "description": "",
            "description_tooltip": null,
            "layout": "IPY_MODEL_0e2ad4cd0af14976a84b363bfcf9eb36",
            "placeholder": "​",
            "style": "IPY_MODEL_2d6edbee47f34d988122d8bf2643351e",
            "value": "tokenizer_config.json: 100%"
          }
        },
        "230b6f79536340babade95a8d6478b11": {
          "model_module": "@jupyter-widgets/controls",
          "model_name": "FloatProgressModel",
          "model_module_version": "1.5.0",
          "state": {
            "_dom_classes": [],
            "_model_module": "@jupyter-widgets/controls",
            "_model_module_version": "1.5.0",
            "_model_name": "FloatProgressModel",
            "_view_count": null,
            "_view_module": "@jupyter-widgets/controls",
            "_view_module_version": "1.5.0",
            "_view_name": "ProgressView",
            "bar_style": "success",
            "description": "",
            "description_tooltip": null,
            "layout": "IPY_MODEL_dc5af2216635427bb7d54a0f6a918faa",
            "max": 26,
            "min": 0,
            "orientation": "horizontal",
            "style": "IPY_MODEL_017e51cb9cf644d9b882b678a890eaa6",
            "value": 26
          }
        },
        "80225dc1596345ba95e42d33afd07302": {
          "model_module": "@jupyter-widgets/controls",
          "model_name": "HTMLModel",
          "model_module_version": "1.5.0",
          "state": {
            "_dom_classes": [],
            "_model_module": "@jupyter-widgets/controls",
            "_model_module_version": "1.5.0",
            "_model_name": "HTMLModel",
            "_view_count": null,
            "_view_module": "@jupyter-widgets/controls",
            "_view_module_version": "1.5.0",
            "_view_name": "HTMLView",
            "description": "",
            "description_tooltip": null,
            "layout": "IPY_MODEL_0022503dd4904159b58696eec258de65",
            "placeholder": "​",
            "style": "IPY_MODEL_e598745073374c9085251b1cabcf5a26",
            "value": " 26.0/26.0 [00:00&lt;00:00, 1.22kB/s]"
          }
        },
        "9fd652470cda44518d11da40a68e4d81": {
          "model_module": "@jupyter-widgets/base",
          "model_name": "LayoutModel",
          "model_module_version": "1.2.0",
          "state": {
            "_model_module": "@jupyter-widgets/base",
            "_model_module_version": "1.2.0",
            "_model_name": "LayoutModel",
            "_view_count": null,
            "_view_module": "@jupyter-widgets/base",
            "_view_module_version": "1.2.0",
            "_view_name": "LayoutView",
            "align_content": null,
            "align_items": null,
            "align_self": null,
            "border": null,
            "bottom": null,
            "display": null,
            "flex": null,
            "flex_flow": null,
            "grid_area": null,
            "grid_auto_columns": null,
            "grid_auto_flow": null,
            "grid_auto_rows": null,
            "grid_column": null,
            "grid_gap": null,
            "grid_row": null,
            "grid_template_areas": null,
            "grid_template_columns": null,
            "grid_template_rows": null,
            "height": null,
            "justify_content": null,
            "justify_items": null,
            "left": null,
            "margin": null,
            "max_height": null,
            "max_width": null,
            "min_height": null,
            "min_width": null,
            "object_fit": null,
            "object_position": null,
            "order": null,
            "overflow": null,
            "overflow_x": null,
            "overflow_y": null,
            "padding": null,
            "right": null,
            "top": null,
            "visibility": null,
            "width": null
          }
        },
        "0e2ad4cd0af14976a84b363bfcf9eb36": {
          "model_module": "@jupyter-widgets/base",
          "model_name": "LayoutModel",
          "model_module_version": "1.2.0",
          "state": {
            "_model_module": "@jupyter-widgets/base",
            "_model_module_version": "1.2.0",
            "_model_name": "LayoutModel",
            "_view_count": null,
            "_view_module": "@jupyter-widgets/base",
            "_view_module_version": "1.2.0",
            "_view_name": "LayoutView",
            "align_content": null,
            "align_items": null,
            "align_self": null,
            "border": null,
            "bottom": null,
            "display": null,
            "flex": null,
            "flex_flow": null,
            "grid_area": null,
            "grid_auto_columns": null,
            "grid_auto_flow": null,
            "grid_auto_rows": null,
            "grid_column": null,
            "grid_gap": null,
            "grid_row": null,
            "grid_template_areas": null,
            "grid_template_columns": null,
            "grid_template_rows": null,
            "height": null,
            "justify_content": null,
            "justify_items": null,
            "left": null,
            "margin": null,
            "max_height": null,
            "max_width": null,
            "min_height": null,
            "min_width": null,
            "object_fit": null,
            "object_position": null,
            "order": null,
            "overflow": null,
            "overflow_x": null,
            "overflow_y": null,
            "padding": null,
            "right": null,
            "top": null,
            "visibility": null,
            "width": null
          }
        },
        "2d6edbee47f34d988122d8bf2643351e": {
          "model_module": "@jupyter-widgets/controls",
          "model_name": "DescriptionStyleModel",
          "model_module_version": "1.5.0",
          "state": {
            "_model_module": "@jupyter-widgets/controls",
            "_model_module_version": "1.5.0",
            "_model_name": "DescriptionStyleModel",
            "_view_count": null,
            "_view_module": "@jupyter-widgets/base",
            "_view_module_version": "1.2.0",
            "_view_name": "StyleView",
            "description_width": ""
          }
        },
        "dc5af2216635427bb7d54a0f6a918faa": {
          "model_module": "@jupyter-widgets/base",
          "model_name": "LayoutModel",
          "model_module_version": "1.2.0",
          "state": {
            "_model_module": "@jupyter-widgets/base",
            "_model_module_version": "1.2.0",
            "_model_name": "LayoutModel",
            "_view_count": null,
            "_view_module": "@jupyter-widgets/base",
            "_view_module_version": "1.2.0",
            "_view_name": "LayoutView",
            "align_content": null,
            "align_items": null,
            "align_self": null,
            "border": null,
            "bottom": null,
            "display": null,
            "flex": null,
            "flex_flow": null,
            "grid_area": null,
            "grid_auto_columns": null,
            "grid_auto_flow": null,
            "grid_auto_rows": null,
            "grid_column": null,
            "grid_gap": null,
            "grid_row": null,
            "grid_template_areas": null,
            "grid_template_columns": null,
            "grid_template_rows": null,
            "height": null,
            "justify_content": null,
            "justify_items": null,
            "left": null,
            "margin": null,
            "max_height": null,
            "max_width": null,
            "min_height": null,
            "min_width": null,
            "object_fit": null,
            "object_position": null,
            "order": null,
            "overflow": null,
            "overflow_x": null,
            "overflow_y": null,
            "padding": null,
            "right": null,
            "top": null,
            "visibility": null,
            "width": null
          }
        },
        "017e51cb9cf644d9b882b678a890eaa6": {
          "model_module": "@jupyter-widgets/controls",
          "model_name": "ProgressStyleModel",
          "model_module_version": "1.5.0",
          "state": {
            "_model_module": "@jupyter-widgets/controls",
            "_model_module_version": "1.5.0",
            "_model_name": "ProgressStyleModel",
            "_view_count": null,
            "_view_module": "@jupyter-widgets/base",
            "_view_module_version": "1.2.0",
            "_view_name": "StyleView",
            "bar_color": null,
            "description_width": ""
          }
        },
        "0022503dd4904159b58696eec258de65": {
          "model_module": "@jupyter-widgets/base",
          "model_name": "LayoutModel",
          "model_module_version": "1.2.0",
          "state": {
            "_model_module": "@jupyter-widgets/base",
            "_model_module_version": "1.2.0",
            "_model_name": "LayoutModel",
            "_view_count": null,
            "_view_module": "@jupyter-widgets/base",
            "_view_module_version": "1.2.0",
            "_view_name": "LayoutView",
            "align_content": null,
            "align_items": null,
            "align_self": null,
            "border": null,
            "bottom": null,
            "display": null,
            "flex": null,
            "flex_flow": null,
            "grid_area": null,
            "grid_auto_columns": null,
            "grid_auto_flow": null,
            "grid_auto_rows": null,
            "grid_column": null,
            "grid_gap": null,
            "grid_row": null,
            "grid_template_areas": null,
            "grid_template_columns": null,
            "grid_template_rows": null,
            "height": null,
            "justify_content": null,
            "justify_items": null,
            "left": null,
            "margin": null,
            "max_height": null,
            "max_width": null,
            "min_height": null,
            "min_width": null,
            "object_fit": null,
            "object_position": null,
            "order": null,
            "overflow": null,
            "overflow_x": null,
            "overflow_y": null,
            "padding": null,
            "right": null,
            "top": null,
            "visibility": null,
            "width": null
          }
        },
        "e598745073374c9085251b1cabcf5a26": {
          "model_module": "@jupyter-widgets/controls",
          "model_name": "DescriptionStyleModel",
          "model_module_version": "1.5.0",
          "state": {
            "_model_module": "@jupyter-widgets/controls",
            "_model_module_version": "1.5.0",
            "_model_name": "DescriptionStyleModel",
            "_view_count": null,
            "_view_module": "@jupyter-widgets/base",
            "_view_module_version": "1.2.0",
            "_view_name": "StyleView",
            "description_width": ""
          }
        },
        "6563f55200174d888f979ed78b9e1d9a": {
          "model_module": "@jupyter-widgets/controls",
          "model_name": "HBoxModel",
          "model_module_version": "1.5.0",
          "state": {
            "_dom_classes": [],
            "_model_module": "@jupyter-widgets/controls",
            "_model_module_version": "1.5.0",
            "_model_name": "HBoxModel",
            "_view_count": null,
            "_view_module": "@jupyter-widgets/controls",
            "_view_module_version": "1.5.0",
            "_view_name": "HBoxView",
            "box_style": "",
            "children": [
              "IPY_MODEL_cd445d0c7fc945c6bef482f974e733cc",
              "IPY_MODEL_2ecbb05f91624a21ba879c94e9e18437",
              "IPY_MODEL_a060b76c5b8941d7b36abc9f110e5f25"
            ],
            "layout": "IPY_MODEL_29eb16e226564795ac7af170f1002818"
          }
        },
        "cd445d0c7fc945c6bef482f974e733cc": {
          "model_module": "@jupyter-widgets/controls",
          "model_name": "HTMLModel",
          "model_module_version": "1.5.0",
          "state": {
            "_dom_classes": [],
            "_model_module": "@jupyter-widgets/controls",
            "_model_module_version": "1.5.0",
            "_model_name": "HTMLModel",
            "_view_count": null,
            "_view_module": "@jupyter-widgets/controls",
            "_view_module_version": "1.5.0",
            "_view_name": "HTMLView",
            "description": "",
            "description_tooltip": null,
            "layout": "IPY_MODEL_41a185c3268f4d92be18ca24a159518d",
            "placeholder": "​",
            "style": "IPY_MODEL_f82830464b334840a4887fd15b93d86c",
            "value": "vocab.json: 100%"
          }
        },
        "2ecbb05f91624a21ba879c94e9e18437": {
          "model_module": "@jupyter-widgets/controls",
          "model_name": "FloatProgressModel",
          "model_module_version": "1.5.0",
          "state": {
            "_dom_classes": [],
            "_model_module": "@jupyter-widgets/controls",
            "_model_module_version": "1.5.0",
            "_model_name": "FloatProgressModel",
            "_view_count": null,
            "_view_module": "@jupyter-widgets/controls",
            "_view_module_version": "1.5.0",
            "_view_name": "ProgressView",
            "bar_style": "success",
            "description": "",
            "description_tooltip": null,
            "layout": "IPY_MODEL_954cbca27a6e4892aea4a73463ba1d02",
            "max": 1042301,
            "min": 0,
            "orientation": "horizontal",
            "style": "IPY_MODEL_af563d68055e4e8aad9947db82cedd80",
            "value": 1042301
          }
        },
        "a060b76c5b8941d7b36abc9f110e5f25": {
          "model_module": "@jupyter-widgets/controls",
          "model_name": "HTMLModel",
          "model_module_version": "1.5.0",
          "state": {
            "_dom_classes": [],
            "_model_module": "@jupyter-widgets/controls",
            "_model_module_version": "1.5.0",
            "_model_name": "HTMLModel",
            "_view_count": null,
            "_view_module": "@jupyter-widgets/controls",
            "_view_module_version": "1.5.0",
            "_view_name": "HTMLView",
            "description": "",
            "description_tooltip": null,
            "layout": "IPY_MODEL_1a35a4d6d44f49fe982cb82287d18044",
            "placeholder": "​",
            "style": "IPY_MODEL_891c9114a1da48a4b6e2bceb868ca85a",
            "value": " 1.04M/1.04M [00:00&lt;00:00, 4.20MB/s]"
          }
        },
        "29eb16e226564795ac7af170f1002818": {
          "model_module": "@jupyter-widgets/base",
          "model_name": "LayoutModel",
          "model_module_version": "1.2.0",
          "state": {
            "_model_module": "@jupyter-widgets/base",
            "_model_module_version": "1.2.0",
            "_model_name": "LayoutModel",
            "_view_count": null,
            "_view_module": "@jupyter-widgets/base",
            "_view_module_version": "1.2.0",
            "_view_name": "LayoutView",
            "align_content": null,
            "align_items": null,
            "align_self": null,
            "border": null,
            "bottom": null,
            "display": null,
            "flex": null,
            "flex_flow": null,
            "grid_area": null,
            "grid_auto_columns": null,
            "grid_auto_flow": null,
            "grid_auto_rows": null,
            "grid_column": null,
            "grid_gap": null,
            "grid_row": null,
            "grid_template_areas": null,
            "grid_template_columns": null,
            "grid_template_rows": null,
            "height": null,
            "justify_content": null,
            "justify_items": null,
            "left": null,
            "margin": null,
            "max_height": null,
            "max_width": null,
            "min_height": null,
            "min_width": null,
            "object_fit": null,
            "object_position": null,
            "order": null,
            "overflow": null,
            "overflow_x": null,
            "overflow_y": null,
            "padding": null,
            "right": null,
            "top": null,
            "visibility": null,
            "width": null
          }
        },
        "41a185c3268f4d92be18ca24a159518d": {
          "model_module": "@jupyter-widgets/base",
          "model_name": "LayoutModel",
          "model_module_version": "1.2.0",
          "state": {
            "_model_module": "@jupyter-widgets/base",
            "_model_module_version": "1.2.0",
            "_model_name": "LayoutModel",
            "_view_count": null,
            "_view_module": "@jupyter-widgets/base",
            "_view_module_version": "1.2.0",
            "_view_name": "LayoutView",
            "align_content": null,
            "align_items": null,
            "align_self": null,
            "border": null,
            "bottom": null,
            "display": null,
            "flex": null,
            "flex_flow": null,
            "grid_area": null,
            "grid_auto_columns": null,
            "grid_auto_flow": null,
            "grid_auto_rows": null,
            "grid_column": null,
            "grid_gap": null,
            "grid_row": null,
            "grid_template_areas": null,
            "grid_template_columns": null,
            "grid_template_rows": null,
            "height": null,
            "justify_content": null,
            "justify_items": null,
            "left": null,
            "margin": null,
            "max_height": null,
            "max_width": null,
            "min_height": null,
            "min_width": null,
            "object_fit": null,
            "object_position": null,
            "order": null,
            "overflow": null,
            "overflow_x": null,
            "overflow_y": null,
            "padding": null,
            "right": null,
            "top": null,
            "visibility": null,
            "width": null
          }
        },
        "f82830464b334840a4887fd15b93d86c": {
          "model_module": "@jupyter-widgets/controls",
          "model_name": "DescriptionStyleModel",
          "model_module_version": "1.5.0",
          "state": {
            "_model_module": "@jupyter-widgets/controls",
            "_model_module_version": "1.5.0",
            "_model_name": "DescriptionStyleModel",
            "_view_count": null,
            "_view_module": "@jupyter-widgets/base",
            "_view_module_version": "1.2.0",
            "_view_name": "StyleView",
            "description_width": ""
          }
        },
        "954cbca27a6e4892aea4a73463ba1d02": {
          "model_module": "@jupyter-widgets/base",
          "model_name": "LayoutModel",
          "model_module_version": "1.2.0",
          "state": {
            "_model_module": "@jupyter-widgets/base",
            "_model_module_version": "1.2.0",
            "_model_name": "LayoutModel",
            "_view_count": null,
            "_view_module": "@jupyter-widgets/base",
            "_view_module_version": "1.2.0",
            "_view_name": "LayoutView",
            "align_content": null,
            "align_items": null,
            "align_self": null,
            "border": null,
            "bottom": null,
            "display": null,
            "flex": null,
            "flex_flow": null,
            "grid_area": null,
            "grid_auto_columns": null,
            "grid_auto_flow": null,
            "grid_auto_rows": null,
            "grid_column": null,
            "grid_gap": null,
            "grid_row": null,
            "grid_template_areas": null,
            "grid_template_columns": null,
            "grid_template_rows": null,
            "height": null,
            "justify_content": null,
            "justify_items": null,
            "left": null,
            "margin": null,
            "max_height": null,
            "max_width": null,
            "min_height": null,
            "min_width": null,
            "object_fit": null,
            "object_position": null,
            "order": null,
            "overflow": null,
            "overflow_x": null,
            "overflow_y": null,
            "padding": null,
            "right": null,
            "top": null,
            "visibility": null,
            "width": null
          }
        },
        "af563d68055e4e8aad9947db82cedd80": {
          "model_module": "@jupyter-widgets/controls",
          "model_name": "ProgressStyleModel",
          "model_module_version": "1.5.0",
          "state": {
            "_model_module": "@jupyter-widgets/controls",
            "_model_module_version": "1.5.0",
            "_model_name": "ProgressStyleModel",
            "_view_count": null,
            "_view_module": "@jupyter-widgets/base",
            "_view_module_version": "1.2.0",
            "_view_name": "StyleView",
            "bar_color": null,
            "description_width": ""
          }
        },
        "1a35a4d6d44f49fe982cb82287d18044": {
          "model_module": "@jupyter-widgets/base",
          "model_name": "LayoutModel",
          "model_module_version": "1.2.0",
          "state": {
            "_model_module": "@jupyter-widgets/base",
            "_model_module_version": "1.2.0",
            "_model_name": "LayoutModel",
            "_view_count": null,
            "_view_module": "@jupyter-widgets/base",
            "_view_module_version": "1.2.0",
            "_view_name": "LayoutView",
            "align_content": null,
            "align_items": null,
            "align_self": null,
            "border": null,
            "bottom": null,
            "display": null,
            "flex": null,
            "flex_flow": null,
            "grid_area": null,
            "grid_auto_columns": null,
            "grid_auto_flow": null,
            "grid_auto_rows": null,
            "grid_column": null,
            "grid_gap": null,
            "grid_row": null,
            "grid_template_areas": null,
            "grid_template_columns": null,
            "grid_template_rows": null,
            "height": null,
            "justify_content": null,
            "justify_items": null,
            "left": null,
            "margin": null,
            "max_height": null,
            "max_width": null,
            "min_height": null,
            "min_width": null,
            "object_fit": null,
            "object_position": null,
            "order": null,
            "overflow": null,
            "overflow_x": null,
            "overflow_y": null,
            "padding": null,
            "right": null,
            "top": null,
            "visibility": null,
            "width": null
          }
        },
        "891c9114a1da48a4b6e2bceb868ca85a": {
          "model_module": "@jupyter-widgets/controls",
          "model_name": "DescriptionStyleModel",
          "model_module_version": "1.5.0",
          "state": {
            "_model_module": "@jupyter-widgets/controls",
            "_model_module_version": "1.5.0",
            "_model_name": "DescriptionStyleModel",
            "_view_count": null,
            "_view_module": "@jupyter-widgets/base",
            "_view_module_version": "1.2.0",
            "_view_name": "StyleView",
            "description_width": ""
          }
        },
        "39787094b15244aeabfe12d78aea1613": {
          "model_module": "@jupyter-widgets/controls",
          "model_name": "HBoxModel",
          "model_module_version": "1.5.0",
          "state": {
            "_dom_classes": [],
            "_model_module": "@jupyter-widgets/controls",
            "_model_module_version": "1.5.0",
            "_model_name": "HBoxModel",
            "_view_count": null,
            "_view_module": "@jupyter-widgets/controls",
            "_view_module_version": "1.5.0",
            "_view_name": "HBoxView",
            "box_style": "",
            "children": [
              "IPY_MODEL_6ecd09fcd0794ade87e55a5225d2a50b",
              "IPY_MODEL_3e5c871d338240a281cb61f6fcf479e0",
              "IPY_MODEL_9ce45c9269ae4a9187772d295069999c"
            ],
            "layout": "IPY_MODEL_a4d415e1f9094fc9b024667ca8e7786a"
          }
        },
        "6ecd09fcd0794ade87e55a5225d2a50b": {
          "model_module": "@jupyter-widgets/controls",
          "model_name": "HTMLModel",
          "model_module_version": "1.5.0",
          "state": {
            "_dom_classes": [],
            "_model_module": "@jupyter-widgets/controls",
            "_model_module_version": "1.5.0",
            "_model_name": "HTMLModel",
            "_view_count": null,
            "_view_module": "@jupyter-widgets/controls",
            "_view_module_version": "1.5.0",
            "_view_name": "HTMLView",
            "description": "",
            "description_tooltip": null,
            "layout": "IPY_MODEL_3d9c9aba75084f7b80283c5e6c2350ce",
            "placeholder": "​",
            "style": "IPY_MODEL_73a55fa5c2014636b3f57980348aaceb",
            "value": "merges.txt: 100%"
          }
        },
        "3e5c871d338240a281cb61f6fcf479e0": {
          "model_module": "@jupyter-widgets/controls",
          "model_name": "FloatProgressModel",
          "model_module_version": "1.5.0",
          "state": {
            "_dom_classes": [],
            "_model_module": "@jupyter-widgets/controls",
            "_model_module_version": "1.5.0",
            "_model_name": "FloatProgressModel",
            "_view_count": null,
            "_view_module": "@jupyter-widgets/controls",
            "_view_module_version": "1.5.0",
            "_view_name": "ProgressView",
            "bar_style": "success",
            "description": "",
            "description_tooltip": null,
            "layout": "IPY_MODEL_778cb56c6c314eb495d257f0ea4d3076",
            "max": 456318,
            "min": 0,
            "orientation": "horizontal",
            "style": "IPY_MODEL_b7010ba5bbee41a29453dab6f34aef06",
            "value": 456318
          }
        },
        "9ce45c9269ae4a9187772d295069999c": {
          "model_module": "@jupyter-widgets/controls",
          "model_name": "HTMLModel",
          "model_module_version": "1.5.0",
          "state": {
            "_dom_classes": [],
            "_model_module": "@jupyter-widgets/controls",
            "_model_module_version": "1.5.0",
            "_model_name": "HTMLModel",
            "_view_count": null,
            "_view_module": "@jupyter-widgets/controls",
            "_view_module_version": "1.5.0",
            "_view_name": "HTMLView",
            "description": "",
            "description_tooltip": null,
            "layout": "IPY_MODEL_54d765c5a0584c8fbbbffdac42ab2aa9",
            "placeholder": "​",
            "style": "IPY_MODEL_530d7359ab9d4924ad96dc404c8926a9",
            "value": " 456k/456k [00:00&lt;00:00, 2.80MB/s]"
          }
        },
        "a4d415e1f9094fc9b024667ca8e7786a": {
          "model_module": "@jupyter-widgets/base",
          "model_name": "LayoutModel",
          "model_module_version": "1.2.0",
          "state": {
            "_model_module": "@jupyter-widgets/base",
            "_model_module_version": "1.2.0",
            "_model_name": "LayoutModel",
            "_view_count": null,
            "_view_module": "@jupyter-widgets/base",
            "_view_module_version": "1.2.0",
            "_view_name": "LayoutView",
            "align_content": null,
            "align_items": null,
            "align_self": null,
            "border": null,
            "bottom": null,
            "display": null,
            "flex": null,
            "flex_flow": null,
            "grid_area": null,
            "grid_auto_columns": null,
            "grid_auto_flow": null,
            "grid_auto_rows": null,
            "grid_column": null,
            "grid_gap": null,
            "grid_row": null,
            "grid_template_areas": null,
            "grid_template_columns": null,
            "grid_template_rows": null,
            "height": null,
            "justify_content": null,
            "justify_items": null,
            "left": null,
            "margin": null,
            "max_height": null,
            "max_width": null,
            "min_height": null,
            "min_width": null,
            "object_fit": null,
            "object_position": null,
            "order": null,
            "overflow": null,
            "overflow_x": null,
            "overflow_y": null,
            "padding": null,
            "right": null,
            "top": null,
            "visibility": null,
            "width": null
          }
        },
        "3d9c9aba75084f7b80283c5e6c2350ce": {
          "model_module": "@jupyter-widgets/base",
          "model_name": "LayoutModel",
          "model_module_version": "1.2.0",
          "state": {
            "_model_module": "@jupyter-widgets/base",
            "_model_module_version": "1.2.0",
            "_model_name": "LayoutModel",
            "_view_count": null,
            "_view_module": "@jupyter-widgets/base",
            "_view_module_version": "1.2.0",
            "_view_name": "LayoutView",
            "align_content": null,
            "align_items": null,
            "align_self": null,
            "border": null,
            "bottom": null,
            "display": null,
            "flex": null,
            "flex_flow": null,
            "grid_area": null,
            "grid_auto_columns": null,
            "grid_auto_flow": null,
            "grid_auto_rows": null,
            "grid_column": null,
            "grid_gap": null,
            "grid_row": null,
            "grid_template_areas": null,
            "grid_template_columns": null,
            "grid_template_rows": null,
            "height": null,
            "justify_content": null,
            "justify_items": null,
            "left": null,
            "margin": null,
            "max_height": null,
            "max_width": null,
            "min_height": null,
            "min_width": null,
            "object_fit": null,
            "object_position": null,
            "order": null,
            "overflow": null,
            "overflow_x": null,
            "overflow_y": null,
            "padding": null,
            "right": null,
            "top": null,
            "visibility": null,
            "width": null
          }
        },
        "73a55fa5c2014636b3f57980348aaceb": {
          "model_module": "@jupyter-widgets/controls",
          "model_name": "DescriptionStyleModel",
          "model_module_version": "1.5.0",
          "state": {
            "_model_module": "@jupyter-widgets/controls",
            "_model_module_version": "1.5.0",
            "_model_name": "DescriptionStyleModel",
            "_view_count": null,
            "_view_module": "@jupyter-widgets/base",
            "_view_module_version": "1.2.0",
            "_view_name": "StyleView",
            "description_width": ""
          }
        },
        "778cb56c6c314eb495d257f0ea4d3076": {
          "model_module": "@jupyter-widgets/base",
          "model_name": "LayoutModel",
          "model_module_version": "1.2.0",
          "state": {
            "_model_module": "@jupyter-widgets/base",
            "_model_module_version": "1.2.0",
            "_model_name": "LayoutModel",
            "_view_count": null,
            "_view_module": "@jupyter-widgets/base",
            "_view_module_version": "1.2.0",
            "_view_name": "LayoutView",
            "align_content": null,
            "align_items": null,
            "align_self": null,
            "border": null,
            "bottom": null,
            "display": null,
            "flex": null,
            "flex_flow": null,
            "grid_area": null,
            "grid_auto_columns": null,
            "grid_auto_flow": null,
            "grid_auto_rows": null,
            "grid_column": null,
            "grid_gap": null,
            "grid_row": null,
            "grid_template_areas": null,
            "grid_template_columns": null,
            "grid_template_rows": null,
            "height": null,
            "justify_content": null,
            "justify_items": null,
            "left": null,
            "margin": null,
            "max_height": null,
            "max_width": null,
            "min_height": null,
            "min_width": null,
            "object_fit": null,
            "object_position": null,
            "order": null,
            "overflow": null,
            "overflow_x": null,
            "overflow_y": null,
            "padding": null,
            "right": null,
            "top": null,
            "visibility": null,
            "width": null
          }
        },
        "b7010ba5bbee41a29453dab6f34aef06": {
          "model_module": "@jupyter-widgets/controls",
          "model_name": "ProgressStyleModel",
          "model_module_version": "1.5.0",
          "state": {
            "_model_module": "@jupyter-widgets/controls",
            "_model_module_version": "1.5.0",
            "_model_name": "ProgressStyleModel",
            "_view_count": null,
            "_view_module": "@jupyter-widgets/base",
            "_view_module_version": "1.2.0",
            "_view_name": "StyleView",
            "bar_color": null,
            "description_width": ""
          }
        },
        "54d765c5a0584c8fbbbffdac42ab2aa9": {
          "model_module": "@jupyter-widgets/base",
          "model_name": "LayoutModel",
          "model_module_version": "1.2.0",
          "state": {
            "_model_module": "@jupyter-widgets/base",
            "_model_module_version": "1.2.0",
            "_model_name": "LayoutModel",
            "_view_count": null,
            "_view_module": "@jupyter-widgets/base",
            "_view_module_version": "1.2.0",
            "_view_name": "LayoutView",
            "align_content": null,
            "align_items": null,
            "align_self": null,
            "border": null,
            "bottom": null,
            "display": null,
            "flex": null,
            "flex_flow": null,
            "grid_area": null,
            "grid_auto_columns": null,
            "grid_auto_flow": null,
            "grid_auto_rows": null,
            "grid_column": null,
            "grid_gap": null,
            "grid_row": null,
            "grid_template_areas": null,
            "grid_template_columns": null,
            "grid_template_rows": null,
            "height": null,
            "justify_content": null,
            "justify_items": null,
            "left": null,
            "margin": null,
            "max_height": null,
            "max_width": null,
            "min_height": null,
            "min_width": null,
            "object_fit": null,
            "object_position": null,
            "order": null,
            "overflow": null,
            "overflow_x": null,
            "overflow_y": null,
            "padding": null,
            "right": null,
            "top": null,
            "visibility": null,
            "width": null
          }
        },
        "530d7359ab9d4924ad96dc404c8926a9": {
          "model_module": "@jupyter-widgets/controls",
          "model_name": "DescriptionStyleModel",
          "model_module_version": "1.5.0",
          "state": {
            "_model_module": "@jupyter-widgets/controls",
            "_model_module_version": "1.5.0",
            "_model_name": "DescriptionStyleModel",
            "_view_count": null,
            "_view_module": "@jupyter-widgets/base",
            "_view_module_version": "1.2.0",
            "_view_name": "StyleView",
            "description_width": ""
          }
        },
        "1b8c9148dd4e46eaa17ef3c38370601b": {
          "model_module": "@jupyter-widgets/controls",
          "model_name": "HBoxModel",
          "model_module_version": "1.5.0",
          "state": {
            "_dom_classes": [],
            "_model_module": "@jupyter-widgets/controls",
            "_model_module_version": "1.5.0",
            "_model_name": "HBoxModel",
            "_view_count": null,
            "_view_module": "@jupyter-widgets/controls",
            "_view_module_version": "1.5.0",
            "_view_name": "HBoxView",
            "box_style": "",
            "children": [
              "IPY_MODEL_00183ea7182d4058af2c1def61e0a7d0",
              "IPY_MODEL_e81de557742647db981a8409f71a53b4",
              "IPY_MODEL_0c84301368f64c3aa7eb0ff96d2d2219"
            ],
            "layout": "IPY_MODEL_0cbb147d28fb49afb42c50b47bea88e9"
          }
        },
        "00183ea7182d4058af2c1def61e0a7d0": {
          "model_module": "@jupyter-widgets/controls",
          "model_name": "HTMLModel",
          "model_module_version": "1.5.0",
          "state": {
            "_dom_classes": [],
            "_model_module": "@jupyter-widgets/controls",
            "_model_module_version": "1.5.0",
            "_model_name": "HTMLModel",
            "_view_count": null,
            "_view_module": "@jupyter-widgets/controls",
            "_view_module_version": "1.5.0",
            "_view_name": "HTMLView",
            "description": "",
            "description_tooltip": null,
            "layout": "IPY_MODEL_c9e77ccf4ff14ca18f9902dcd29a4954",
            "placeholder": "​",
            "style": "IPY_MODEL_d4bdeebd2d6444178ffeb3be520def4f",
            "value": "tokenizer.json: 100%"
          }
        },
        "e81de557742647db981a8409f71a53b4": {
          "model_module": "@jupyter-widgets/controls",
          "model_name": "FloatProgressModel",
          "model_module_version": "1.5.0",
          "state": {
            "_dom_classes": [],
            "_model_module": "@jupyter-widgets/controls",
            "_model_module_version": "1.5.0",
            "_model_name": "FloatProgressModel",
            "_view_count": null,
            "_view_module": "@jupyter-widgets/controls",
            "_view_module_version": "1.5.0",
            "_view_name": "ProgressView",
            "bar_style": "success",
            "description": "",
            "description_tooltip": null,
            "layout": "IPY_MODEL_6bf287df40234b20922ddd8ba707ffd1",
            "max": 1355256,
            "min": 0,
            "orientation": "horizontal",
            "style": "IPY_MODEL_f475e34e29e54251902840f0683ec719",
            "value": 1355256
          }
        },
        "0c84301368f64c3aa7eb0ff96d2d2219": {
          "model_module": "@jupyter-widgets/controls",
          "model_name": "HTMLModel",
          "model_module_version": "1.5.0",
          "state": {
            "_dom_classes": [],
            "_model_module": "@jupyter-widgets/controls",
            "_model_module_version": "1.5.0",
            "_model_name": "HTMLModel",
            "_view_count": null,
            "_view_module": "@jupyter-widgets/controls",
            "_view_module_version": "1.5.0",
            "_view_name": "HTMLView",
            "description": "",
            "description_tooltip": null,
            "layout": "IPY_MODEL_ab560c63850f4dd08b2fcb5c83f6355b",
            "placeholder": "​",
            "style": "IPY_MODEL_4d172a3361194a2cbc47e78e5fb801e8",
            "value": " 1.36M/1.36M [00:00&lt;00:00, 14.2MB/s]"
          }
        },
        "0cbb147d28fb49afb42c50b47bea88e9": {
          "model_module": "@jupyter-widgets/base",
          "model_name": "LayoutModel",
          "model_module_version": "1.2.0",
          "state": {
            "_model_module": "@jupyter-widgets/base",
            "_model_module_version": "1.2.0",
            "_model_name": "LayoutModel",
            "_view_count": null,
            "_view_module": "@jupyter-widgets/base",
            "_view_module_version": "1.2.0",
            "_view_name": "LayoutView",
            "align_content": null,
            "align_items": null,
            "align_self": null,
            "border": null,
            "bottom": null,
            "display": null,
            "flex": null,
            "flex_flow": null,
            "grid_area": null,
            "grid_auto_columns": null,
            "grid_auto_flow": null,
            "grid_auto_rows": null,
            "grid_column": null,
            "grid_gap": null,
            "grid_row": null,
            "grid_template_areas": null,
            "grid_template_columns": null,
            "grid_template_rows": null,
            "height": null,
            "justify_content": null,
            "justify_items": null,
            "left": null,
            "margin": null,
            "max_height": null,
            "max_width": null,
            "min_height": null,
            "min_width": null,
            "object_fit": null,
            "object_position": null,
            "order": null,
            "overflow": null,
            "overflow_x": null,
            "overflow_y": null,
            "padding": null,
            "right": null,
            "top": null,
            "visibility": null,
            "width": null
          }
        },
        "c9e77ccf4ff14ca18f9902dcd29a4954": {
          "model_module": "@jupyter-widgets/base",
          "model_name": "LayoutModel",
          "model_module_version": "1.2.0",
          "state": {
            "_model_module": "@jupyter-widgets/base",
            "_model_module_version": "1.2.0",
            "_model_name": "LayoutModel",
            "_view_count": null,
            "_view_module": "@jupyter-widgets/base",
            "_view_module_version": "1.2.0",
            "_view_name": "LayoutView",
            "align_content": null,
            "align_items": null,
            "align_self": null,
            "border": null,
            "bottom": null,
            "display": null,
            "flex": null,
            "flex_flow": null,
            "grid_area": null,
            "grid_auto_columns": null,
            "grid_auto_flow": null,
            "grid_auto_rows": null,
            "grid_column": null,
            "grid_gap": null,
            "grid_row": null,
            "grid_template_areas": null,
            "grid_template_columns": null,
            "grid_template_rows": null,
            "height": null,
            "justify_content": null,
            "justify_items": null,
            "left": null,
            "margin": null,
            "max_height": null,
            "max_width": null,
            "min_height": null,
            "min_width": null,
            "object_fit": null,
            "object_position": null,
            "order": null,
            "overflow": null,
            "overflow_x": null,
            "overflow_y": null,
            "padding": null,
            "right": null,
            "top": null,
            "visibility": null,
            "width": null
          }
        },
        "d4bdeebd2d6444178ffeb3be520def4f": {
          "model_module": "@jupyter-widgets/controls",
          "model_name": "DescriptionStyleModel",
          "model_module_version": "1.5.0",
          "state": {
            "_model_module": "@jupyter-widgets/controls",
            "_model_module_version": "1.5.0",
            "_model_name": "DescriptionStyleModel",
            "_view_count": null,
            "_view_module": "@jupyter-widgets/base",
            "_view_module_version": "1.2.0",
            "_view_name": "StyleView",
            "description_width": ""
          }
        },
        "6bf287df40234b20922ddd8ba707ffd1": {
          "model_module": "@jupyter-widgets/base",
          "model_name": "LayoutModel",
          "model_module_version": "1.2.0",
          "state": {
            "_model_module": "@jupyter-widgets/base",
            "_model_module_version": "1.2.0",
            "_model_name": "LayoutModel",
            "_view_count": null,
            "_view_module": "@jupyter-widgets/base",
            "_view_module_version": "1.2.0",
            "_view_name": "LayoutView",
            "align_content": null,
            "align_items": null,
            "align_self": null,
            "border": null,
            "bottom": null,
            "display": null,
            "flex": null,
            "flex_flow": null,
            "grid_area": null,
            "grid_auto_columns": null,
            "grid_auto_flow": null,
            "grid_auto_rows": null,
            "grid_column": null,
            "grid_gap": null,
            "grid_row": null,
            "grid_template_areas": null,
            "grid_template_columns": null,
            "grid_template_rows": null,
            "height": null,
            "justify_content": null,
            "justify_items": null,
            "left": null,
            "margin": null,
            "max_height": null,
            "max_width": null,
            "min_height": null,
            "min_width": null,
            "object_fit": null,
            "object_position": null,
            "order": null,
            "overflow": null,
            "overflow_x": null,
            "overflow_y": null,
            "padding": null,
            "right": null,
            "top": null,
            "visibility": null,
            "width": null
          }
        },
        "f475e34e29e54251902840f0683ec719": {
          "model_module": "@jupyter-widgets/controls",
          "model_name": "ProgressStyleModel",
          "model_module_version": "1.5.0",
          "state": {
            "_model_module": "@jupyter-widgets/controls",
            "_model_module_version": "1.5.0",
            "_model_name": "ProgressStyleModel",
            "_view_count": null,
            "_view_module": "@jupyter-widgets/base",
            "_view_module_version": "1.2.0",
            "_view_name": "StyleView",
            "bar_color": null,
            "description_width": ""
          }
        },
        "ab560c63850f4dd08b2fcb5c83f6355b": {
          "model_module": "@jupyter-widgets/base",
          "model_name": "LayoutModel",
          "model_module_version": "1.2.0",
          "state": {
            "_model_module": "@jupyter-widgets/base",
            "_model_module_version": "1.2.0",
            "_model_name": "LayoutModel",
            "_view_count": null,
            "_view_module": "@jupyter-widgets/base",
            "_view_module_version": "1.2.0",
            "_view_name": "LayoutView",
            "align_content": null,
            "align_items": null,
            "align_self": null,
            "border": null,
            "bottom": null,
            "display": null,
            "flex": null,
            "flex_flow": null,
            "grid_area": null,
            "grid_auto_columns": null,
            "grid_auto_flow": null,
            "grid_auto_rows": null,
            "grid_column": null,
            "grid_gap": null,
            "grid_row": null,
            "grid_template_areas": null,
            "grid_template_columns": null,
            "grid_template_rows": null,
            "height": null,
            "justify_content": null,
            "justify_items": null,
            "left": null,
            "margin": null,
            "max_height": null,
            "max_width": null,
            "min_height": null,
            "min_width": null,
            "object_fit": null,
            "object_position": null,
            "order": null,
            "overflow": null,
            "overflow_x": null,
            "overflow_y": null,
            "padding": null,
            "right": null,
            "top": null,
            "visibility": null,
            "width": null
          }
        },
        "4d172a3361194a2cbc47e78e5fb801e8": {
          "model_module": "@jupyter-widgets/controls",
          "model_name": "DescriptionStyleModel",
          "model_module_version": "1.5.0",
          "state": {
            "_model_module": "@jupyter-widgets/controls",
            "_model_module_version": "1.5.0",
            "_model_name": "DescriptionStyleModel",
            "_view_count": null,
            "_view_module": "@jupyter-widgets/base",
            "_view_module_version": "1.2.0",
            "_view_name": "StyleView",
            "description_width": ""
          }
        },
        "11ce8133b81a4089a89971d63d4b0487": {
          "model_module": "@jupyter-widgets/controls",
          "model_name": "HBoxModel",
          "model_module_version": "1.5.0",
          "state": {
            "_dom_classes": [],
            "_model_module": "@jupyter-widgets/controls",
            "_model_module_version": "1.5.0",
            "_model_name": "HBoxModel",
            "_view_count": null,
            "_view_module": "@jupyter-widgets/controls",
            "_view_module_version": "1.5.0",
            "_view_name": "HBoxView",
            "box_style": "",
            "children": [
              "IPY_MODEL_4cbf56b767f74147ba00ff465a859ff7",
              "IPY_MODEL_189c6ccc53ea4c2581f3b821d630a6a5",
              "IPY_MODEL_188697dc61484f02bec8a7c52aae7f66"
            ],
            "layout": "IPY_MODEL_885580687b8f4a5ea2dd2f5d7e0976c0"
          }
        },
        "4cbf56b767f74147ba00ff465a859ff7": {
          "model_module": "@jupyter-widgets/controls",
          "model_name": "HTMLModel",
          "model_module_version": "1.5.0",
          "state": {
            "_dom_classes": [],
            "_model_module": "@jupyter-widgets/controls",
            "_model_module_version": "1.5.0",
            "_model_name": "HTMLModel",
            "_view_count": null,
            "_view_module": "@jupyter-widgets/controls",
            "_view_module_version": "1.5.0",
            "_view_name": "HTMLView",
            "description": "",
            "description_tooltip": null,
            "layout": "IPY_MODEL_dcb631a3ba034096a3b288af3620441f",
            "placeholder": "​",
            "style": "IPY_MODEL_5eb812f18ab6410abf4eae8298b2c0db",
            "value": "config.json: 100%"
          }
        },
        "189c6ccc53ea4c2581f3b821d630a6a5": {
          "model_module": "@jupyter-widgets/controls",
          "model_name": "FloatProgressModel",
          "model_module_version": "1.5.0",
          "state": {
            "_dom_classes": [],
            "_model_module": "@jupyter-widgets/controls",
            "_model_module_version": "1.5.0",
            "_model_name": "FloatProgressModel",
            "_view_count": null,
            "_view_module": "@jupyter-widgets/controls",
            "_view_module_version": "1.5.0",
            "_view_name": "ProgressView",
            "bar_style": "success",
            "description": "",
            "description_tooltip": null,
            "layout": "IPY_MODEL_c7202fcd54234a6ea1e35d09c00a8531",
            "max": 665,
            "min": 0,
            "orientation": "horizontal",
            "style": "IPY_MODEL_b1c6aa0a30f5414c8b0b357acfc3bfab",
            "value": 665
          }
        },
        "188697dc61484f02bec8a7c52aae7f66": {
          "model_module": "@jupyter-widgets/controls",
          "model_name": "HTMLModel",
          "model_module_version": "1.5.0",
          "state": {
            "_dom_classes": [],
            "_model_module": "@jupyter-widgets/controls",
            "_model_module_version": "1.5.0",
            "_model_name": "HTMLModel",
            "_view_count": null,
            "_view_module": "@jupyter-widgets/controls",
            "_view_module_version": "1.5.0",
            "_view_name": "HTMLView",
            "description": "",
            "description_tooltip": null,
            "layout": "IPY_MODEL_ffe0ca2745b049dc9582a64de229963d",
            "placeholder": "​",
            "style": "IPY_MODEL_758817129ad34860bcda5ba848734130",
            "value": " 665/665 [00:00&lt;00:00, 54.8kB/s]"
          }
        },
        "885580687b8f4a5ea2dd2f5d7e0976c0": {
          "model_module": "@jupyter-widgets/base",
          "model_name": "LayoutModel",
          "model_module_version": "1.2.0",
          "state": {
            "_model_module": "@jupyter-widgets/base",
            "_model_module_version": "1.2.0",
            "_model_name": "LayoutModel",
            "_view_count": null,
            "_view_module": "@jupyter-widgets/base",
            "_view_module_version": "1.2.0",
            "_view_name": "LayoutView",
            "align_content": null,
            "align_items": null,
            "align_self": null,
            "border": null,
            "bottom": null,
            "display": null,
            "flex": null,
            "flex_flow": null,
            "grid_area": null,
            "grid_auto_columns": null,
            "grid_auto_flow": null,
            "grid_auto_rows": null,
            "grid_column": null,
            "grid_gap": null,
            "grid_row": null,
            "grid_template_areas": null,
            "grid_template_columns": null,
            "grid_template_rows": null,
            "height": null,
            "justify_content": null,
            "justify_items": null,
            "left": null,
            "margin": null,
            "max_height": null,
            "max_width": null,
            "min_height": null,
            "min_width": null,
            "object_fit": null,
            "object_position": null,
            "order": null,
            "overflow": null,
            "overflow_x": null,
            "overflow_y": null,
            "padding": null,
            "right": null,
            "top": null,
            "visibility": null,
            "width": null
          }
        },
        "dcb631a3ba034096a3b288af3620441f": {
          "model_module": "@jupyter-widgets/base",
          "model_name": "LayoutModel",
          "model_module_version": "1.2.0",
          "state": {
            "_model_module": "@jupyter-widgets/base",
            "_model_module_version": "1.2.0",
            "_model_name": "LayoutModel",
            "_view_count": null,
            "_view_module": "@jupyter-widgets/base",
            "_view_module_version": "1.2.0",
            "_view_name": "LayoutView",
            "align_content": null,
            "align_items": null,
            "align_self": null,
            "border": null,
            "bottom": null,
            "display": null,
            "flex": null,
            "flex_flow": null,
            "grid_area": null,
            "grid_auto_columns": null,
            "grid_auto_flow": null,
            "grid_auto_rows": null,
            "grid_column": null,
            "grid_gap": null,
            "grid_row": null,
            "grid_template_areas": null,
            "grid_template_columns": null,
            "grid_template_rows": null,
            "height": null,
            "justify_content": null,
            "justify_items": null,
            "left": null,
            "margin": null,
            "max_height": null,
            "max_width": null,
            "min_height": null,
            "min_width": null,
            "object_fit": null,
            "object_position": null,
            "order": null,
            "overflow": null,
            "overflow_x": null,
            "overflow_y": null,
            "padding": null,
            "right": null,
            "top": null,
            "visibility": null,
            "width": null
          }
        },
        "5eb812f18ab6410abf4eae8298b2c0db": {
          "model_module": "@jupyter-widgets/controls",
          "model_name": "DescriptionStyleModel",
          "model_module_version": "1.5.0",
          "state": {
            "_model_module": "@jupyter-widgets/controls",
            "_model_module_version": "1.5.0",
            "_model_name": "DescriptionStyleModel",
            "_view_count": null,
            "_view_module": "@jupyter-widgets/base",
            "_view_module_version": "1.2.0",
            "_view_name": "StyleView",
            "description_width": ""
          }
        },
        "c7202fcd54234a6ea1e35d09c00a8531": {
          "model_module": "@jupyter-widgets/base",
          "model_name": "LayoutModel",
          "model_module_version": "1.2.0",
          "state": {
            "_model_module": "@jupyter-widgets/base",
            "_model_module_version": "1.2.0",
            "_model_name": "LayoutModel",
            "_view_count": null,
            "_view_module": "@jupyter-widgets/base",
            "_view_module_version": "1.2.0",
            "_view_name": "LayoutView",
            "align_content": null,
            "align_items": null,
            "align_self": null,
            "border": null,
            "bottom": null,
            "display": null,
            "flex": null,
            "flex_flow": null,
            "grid_area": null,
            "grid_auto_columns": null,
            "grid_auto_flow": null,
            "grid_auto_rows": null,
            "grid_column": null,
            "grid_gap": null,
            "grid_row": null,
            "grid_template_areas": null,
            "grid_template_columns": null,
            "grid_template_rows": null,
            "height": null,
            "justify_content": null,
            "justify_items": null,
            "left": null,
            "margin": null,
            "max_height": null,
            "max_width": null,
            "min_height": null,
            "min_width": null,
            "object_fit": null,
            "object_position": null,
            "order": null,
            "overflow": null,
            "overflow_x": null,
            "overflow_y": null,
            "padding": null,
            "right": null,
            "top": null,
            "visibility": null,
            "width": null
          }
        },
        "b1c6aa0a30f5414c8b0b357acfc3bfab": {
          "model_module": "@jupyter-widgets/controls",
          "model_name": "ProgressStyleModel",
          "model_module_version": "1.5.0",
          "state": {
            "_model_module": "@jupyter-widgets/controls",
            "_model_module_version": "1.5.0",
            "_model_name": "ProgressStyleModel",
            "_view_count": null,
            "_view_module": "@jupyter-widgets/base",
            "_view_module_version": "1.2.0",
            "_view_name": "StyleView",
            "bar_color": null,
            "description_width": ""
          }
        },
        "ffe0ca2745b049dc9582a64de229963d": {
          "model_module": "@jupyter-widgets/base",
          "model_name": "LayoutModel",
          "model_module_version": "1.2.0",
          "state": {
            "_model_module": "@jupyter-widgets/base",
            "_model_module_version": "1.2.0",
            "_model_name": "LayoutModel",
            "_view_count": null,
            "_view_module": "@jupyter-widgets/base",
            "_view_module_version": "1.2.0",
            "_view_name": "LayoutView",
            "align_content": null,
            "align_items": null,
            "align_self": null,
            "border": null,
            "bottom": null,
            "display": null,
            "flex": null,
            "flex_flow": null,
            "grid_area": null,
            "grid_auto_columns": null,
            "grid_auto_flow": null,
            "grid_auto_rows": null,
            "grid_column": null,
            "grid_gap": null,
            "grid_row": null,
            "grid_template_areas": null,
            "grid_template_columns": null,
            "grid_template_rows": null,
            "height": null,
            "justify_content": null,
            "justify_items": null,
            "left": null,
            "margin": null,
            "max_height": null,
            "max_width": null,
            "min_height": null,
            "min_width": null,
            "object_fit": null,
            "object_position": null,
            "order": null,
            "overflow": null,
            "overflow_x": null,
            "overflow_y": null,
            "padding": null,
            "right": null,
            "top": null,
            "visibility": null,
            "width": null
          }
        },
        "758817129ad34860bcda5ba848734130": {
          "model_module": "@jupyter-widgets/controls",
          "model_name": "DescriptionStyleModel",
          "model_module_version": "1.5.0",
          "state": {
            "_model_module": "@jupyter-widgets/controls",
            "_model_module_version": "1.5.0",
            "_model_name": "DescriptionStyleModel",
            "_view_count": null,
            "_view_module": "@jupyter-widgets/base",
            "_view_module_version": "1.2.0",
            "_view_name": "StyleView",
            "description_width": ""
          }
        },
        "3ac657f9e4e845c388c3082fceb479eb": {
          "model_module": "@jupyter-widgets/controls",
          "model_name": "HBoxModel",
          "model_module_version": "1.5.0",
          "state": {
            "_dom_classes": [],
            "_model_module": "@jupyter-widgets/controls",
            "_model_module_version": "1.5.0",
            "_model_name": "HBoxModel",
            "_view_count": null,
            "_view_module": "@jupyter-widgets/controls",
            "_view_module_version": "1.5.0",
            "_view_name": "HBoxView",
            "box_style": "",
            "children": [
              "IPY_MODEL_b49f693fffe04f4d9189eb9ffe442cdf",
              "IPY_MODEL_d43fe033393042f5a13c972f8620a30d",
              "IPY_MODEL_5a5051121bc74d5796bf4913443efdbc"
            ],
            "layout": "IPY_MODEL_c22e9635fbfe40bc881efc9232100940"
          }
        },
        "b49f693fffe04f4d9189eb9ffe442cdf": {
          "model_module": "@jupyter-widgets/controls",
          "model_name": "HTMLModel",
          "model_module_version": "1.5.0",
          "state": {
            "_dom_classes": [],
            "_model_module": "@jupyter-widgets/controls",
            "_model_module_version": "1.5.0",
            "_model_name": "HTMLModel",
            "_view_count": null,
            "_view_module": "@jupyter-widgets/controls",
            "_view_module_version": "1.5.0",
            "_view_name": "HTMLView",
            "description": "",
            "description_tooltip": null,
            "layout": "IPY_MODEL_edbcfd10f62d4667b7bf713a691cdef3",
            "placeholder": "​",
            "style": "IPY_MODEL_271eed7fdd744297b6f135562dbe48b6",
            "value": "model.safetensors: 100%"
          }
        },
        "d43fe033393042f5a13c972f8620a30d": {
          "model_module": "@jupyter-widgets/controls",
          "model_name": "FloatProgressModel",
          "model_module_version": "1.5.0",
          "state": {
            "_dom_classes": [],
            "_model_module": "@jupyter-widgets/controls",
            "_model_module_version": "1.5.0",
            "_model_name": "FloatProgressModel",
            "_view_count": null,
            "_view_module": "@jupyter-widgets/controls",
            "_view_module_version": "1.5.0",
            "_view_name": "ProgressView",
            "bar_style": "success",
            "description": "",
            "description_tooltip": null,
            "layout": "IPY_MODEL_6448fdf153154e93b33fc41c55d1cc6b",
            "max": 548105171,
            "min": 0,
            "orientation": "horizontal",
            "style": "IPY_MODEL_1de47a457ce74c81977d354db4a98b75",
            "value": 548105171
          }
        },
        "5a5051121bc74d5796bf4913443efdbc": {
          "model_module": "@jupyter-widgets/controls",
          "model_name": "HTMLModel",
          "model_module_version": "1.5.0",
          "state": {
            "_dom_classes": [],
            "_model_module": "@jupyter-widgets/controls",
            "_model_module_version": "1.5.0",
            "_model_name": "HTMLModel",
            "_view_count": null,
            "_view_module": "@jupyter-widgets/controls",
            "_view_module_version": "1.5.0",
            "_view_name": "HTMLView",
            "description": "",
            "description_tooltip": null,
            "layout": "IPY_MODEL_847875808f5b423283f2151c574b927e",
            "placeholder": "​",
            "style": "IPY_MODEL_5d1a5a066a984ad68503ee6759032100",
            "value": " 548M/548M [00:14&lt;00:00, 51.9MB/s]"
          }
        },
        "c22e9635fbfe40bc881efc9232100940": {
          "model_module": "@jupyter-widgets/base",
          "model_name": "LayoutModel",
          "model_module_version": "1.2.0",
          "state": {
            "_model_module": "@jupyter-widgets/base",
            "_model_module_version": "1.2.0",
            "_model_name": "LayoutModel",
            "_view_count": null,
            "_view_module": "@jupyter-widgets/base",
            "_view_module_version": "1.2.0",
            "_view_name": "LayoutView",
            "align_content": null,
            "align_items": null,
            "align_self": null,
            "border": null,
            "bottom": null,
            "display": null,
            "flex": null,
            "flex_flow": null,
            "grid_area": null,
            "grid_auto_columns": null,
            "grid_auto_flow": null,
            "grid_auto_rows": null,
            "grid_column": null,
            "grid_gap": null,
            "grid_row": null,
            "grid_template_areas": null,
            "grid_template_columns": null,
            "grid_template_rows": null,
            "height": null,
            "justify_content": null,
            "justify_items": null,
            "left": null,
            "margin": null,
            "max_height": null,
            "max_width": null,
            "min_height": null,
            "min_width": null,
            "object_fit": null,
            "object_position": null,
            "order": null,
            "overflow": null,
            "overflow_x": null,
            "overflow_y": null,
            "padding": null,
            "right": null,
            "top": null,
            "visibility": null,
            "width": null
          }
        },
        "edbcfd10f62d4667b7bf713a691cdef3": {
          "model_module": "@jupyter-widgets/base",
          "model_name": "LayoutModel",
          "model_module_version": "1.2.0",
          "state": {
            "_model_module": "@jupyter-widgets/base",
            "_model_module_version": "1.2.0",
            "_model_name": "LayoutModel",
            "_view_count": null,
            "_view_module": "@jupyter-widgets/base",
            "_view_module_version": "1.2.0",
            "_view_name": "LayoutView",
            "align_content": null,
            "align_items": null,
            "align_self": null,
            "border": null,
            "bottom": null,
            "display": null,
            "flex": null,
            "flex_flow": null,
            "grid_area": null,
            "grid_auto_columns": null,
            "grid_auto_flow": null,
            "grid_auto_rows": null,
            "grid_column": null,
            "grid_gap": null,
            "grid_row": null,
            "grid_template_areas": null,
            "grid_template_columns": null,
            "grid_template_rows": null,
            "height": null,
            "justify_content": null,
            "justify_items": null,
            "left": null,
            "margin": null,
            "max_height": null,
            "max_width": null,
            "min_height": null,
            "min_width": null,
            "object_fit": null,
            "object_position": null,
            "order": null,
            "overflow": null,
            "overflow_x": null,
            "overflow_y": null,
            "padding": null,
            "right": null,
            "top": null,
            "visibility": null,
            "width": null
          }
        },
        "271eed7fdd744297b6f135562dbe48b6": {
          "model_module": "@jupyter-widgets/controls",
          "model_name": "DescriptionStyleModel",
          "model_module_version": "1.5.0",
          "state": {
            "_model_module": "@jupyter-widgets/controls",
            "_model_module_version": "1.5.0",
            "_model_name": "DescriptionStyleModel",
            "_view_count": null,
            "_view_module": "@jupyter-widgets/base",
            "_view_module_version": "1.2.0",
            "_view_name": "StyleView",
            "description_width": ""
          }
        },
        "6448fdf153154e93b33fc41c55d1cc6b": {
          "model_module": "@jupyter-widgets/base",
          "model_name": "LayoutModel",
          "model_module_version": "1.2.0",
          "state": {
            "_model_module": "@jupyter-widgets/base",
            "_model_module_version": "1.2.0",
            "_model_name": "LayoutModel",
            "_view_count": null,
            "_view_module": "@jupyter-widgets/base",
            "_view_module_version": "1.2.0",
            "_view_name": "LayoutView",
            "align_content": null,
            "align_items": null,
            "align_self": null,
            "border": null,
            "bottom": null,
            "display": null,
            "flex": null,
            "flex_flow": null,
            "grid_area": null,
            "grid_auto_columns": null,
            "grid_auto_flow": null,
            "grid_auto_rows": null,
            "grid_column": null,
            "grid_gap": null,
            "grid_row": null,
            "grid_template_areas": null,
            "grid_template_columns": null,
            "grid_template_rows": null,
            "height": null,
            "justify_content": null,
            "justify_items": null,
            "left": null,
            "margin": null,
            "max_height": null,
            "max_width": null,
            "min_height": null,
            "min_width": null,
            "object_fit": null,
            "object_position": null,
            "order": null,
            "overflow": null,
            "overflow_x": null,
            "overflow_y": null,
            "padding": null,
            "right": null,
            "top": null,
            "visibility": null,
            "width": null
          }
        },
        "1de47a457ce74c81977d354db4a98b75": {
          "model_module": "@jupyter-widgets/controls",
          "model_name": "ProgressStyleModel",
          "model_module_version": "1.5.0",
          "state": {
            "_model_module": "@jupyter-widgets/controls",
            "_model_module_version": "1.5.0",
            "_model_name": "ProgressStyleModel",
            "_view_count": null,
            "_view_module": "@jupyter-widgets/base",
            "_view_module_version": "1.2.0",
            "_view_name": "StyleView",
            "bar_color": null,
            "description_width": ""
          }
        },
        "847875808f5b423283f2151c574b927e": {
          "model_module": "@jupyter-widgets/base",
          "model_name": "LayoutModel",
          "model_module_version": "1.2.0",
          "state": {
            "_model_module": "@jupyter-widgets/base",
            "_model_module_version": "1.2.0",
            "_model_name": "LayoutModel",
            "_view_count": null,
            "_view_module": "@jupyter-widgets/base",
            "_view_module_version": "1.2.0",
            "_view_name": "LayoutView",
            "align_content": null,
            "align_items": null,
            "align_self": null,
            "border": null,
            "bottom": null,
            "display": null,
            "flex": null,
            "flex_flow": null,
            "grid_area": null,
            "grid_auto_columns": null,
            "grid_auto_flow": null,
            "grid_auto_rows": null,
            "grid_column": null,
            "grid_gap": null,
            "grid_row": null,
            "grid_template_areas": null,
            "grid_template_columns": null,
            "grid_template_rows": null,
            "height": null,
            "justify_content": null,
            "justify_items": null,
            "left": null,
            "margin": null,
            "max_height": null,
            "max_width": null,
            "min_height": null,
            "min_width": null,
            "object_fit": null,
            "object_position": null,
            "order": null,
            "overflow": null,
            "overflow_x": null,
            "overflow_y": null,
            "padding": null,
            "right": null,
            "top": null,
            "visibility": null,
            "width": null
          }
        },
        "5d1a5a066a984ad68503ee6759032100": {
          "model_module": "@jupyter-widgets/controls",
          "model_name": "DescriptionStyleModel",
          "model_module_version": "1.5.0",
          "state": {
            "_model_module": "@jupyter-widgets/controls",
            "_model_module_version": "1.5.0",
            "_model_name": "DescriptionStyleModel",
            "_view_count": null,
            "_view_module": "@jupyter-widgets/base",
            "_view_module_version": "1.2.0",
            "_view_name": "StyleView",
            "description_width": ""
          }
        },
        "5f8b61475b2a4711b198b213dbff9765": {
          "model_module": "@jupyter-widgets/controls",
          "model_name": "HBoxModel",
          "model_module_version": "1.5.0",
          "state": {
            "_dom_classes": [],
            "_model_module": "@jupyter-widgets/controls",
            "_model_module_version": "1.5.0",
            "_model_name": "HBoxModel",
            "_view_count": null,
            "_view_module": "@jupyter-widgets/controls",
            "_view_module_version": "1.5.0",
            "_view_name": "HBoxView",
            "box_style": "",
            "children": [
              "IPY_MODEL_b053854e18254b1baf66314bb3c72899",
              "IPY_MODEL_479b5b0e375f4d7d96b25efa826f71ce",
              "IPY_MODEL_177733c6ea0846e29deb49978596f973"
            ],
            "layout": "IPY_MODEL_63ee20a26f964e3da54e7d8e26390d5a"
          }
        },
        "b053854e18254b1baf66314bb3c72899": {
          "model_module": "@jupyter-widgets/controls",
          "model_name": "HTMLModel",
          "model_module_version": "1.5.0",
          "state": {
            "_dom_classes": [],
            "_model_module": "@jupyter-widgets/controls",
            "_model_module_version": "1.5.0",
            "_model_name": "HTMLModel",
            "_view_count": null,
            "_view_module": "@jupyter-widgets/controls",
            "_view_module_version": "1.5.0",
            "_view_name": "HTMLView",
            "description": "",
            "description_tooltip": null,
            "layout": "IPY_MODEL_09364047481a49b6adf375b663ba884a",
            "placeholder": "​",
            "style": "IPY_MODEL_eafd9ba0fb7f4cf0a97eb3be12826cfe",
            "value": "generation_config.json: 100%"
          }
        },
        "479b5b0e375f4d7d96b25efa826f71ce": {
          "model_module": "@jupyter-widgets/controls",
          "model_name": "FloatProgressModel",
          "model_module_version": "1.5.0",
          "state": {
            "_dom_classes": [],
            "_model_module": "@jupyter-widgets/controls",
            "_model_module_version": "1.5.0",
            "_model_name": "FloatProgressModel",
            "_view_count": null,
            "_view_module": "@jupyter-widgets/controls",
            "_view_module_version": "1.5.0",
            "_view_name": "ProgressView",
            "bar_style": "success",
            "description": "",
            "description_tooltip": null,
            "layout": "IPY_MODEL_10c6f115855745b7aa8553ffae81ea6b",
            "max": 124,
            "min": 0,
            "orientation": "horizontal",
            "style": "IPY_MODEL_99a57adfadfe44bf8e2c01ae32f56a7b",
            "value": 124
          }
        },
        "177733c6ea0846e29deb49978596f973": {
          "model_module": "@jupyter-widgets/controls",
          "model_name": "HTMLModel",
          "model_module_version": "1.5.0",
          "state": {
            "_dom_classes": [],
            "_model_module": "@jupyter-widgets/controls",
            "_model_module_version": "1.5.0",
            "_model_name": "HTMLModel",
            "_view_count": null,
            "_view_module": "@jupyter-widgets/controls",
            "_view_module_version": "1.5.0",
            "_view_name": "HTMLView",
            "description": "",
            "description_tooltip": null,
            "layout": "IPY_MODEL_f7b75cee7cbb4ef1b1682ba09dc2fc06",
            "placeholder": "​",
            "style": "IPY_MODEL_a9f61f497cec4e7684c722e8e045ca91",
            "value": " 124/124 [00:00&lt;00:00, 10.7kB/s]"
          }
        },
        "63ee20a26f964e3da54e7d8e26390d5a": {
          "model_module": "@jupyter-widgets/base",
          "model_name": "LayoutModel",
          "model_module_version": "1.2.0",
          "state": {
            "_model_module": "@jupyter-widgets/base",
            "_model_module_version": "1.2.0",
            "_model_name": "LayoutModel",
            "_view_count": null,
            "_view_module": "@jupyter-widgets/base",
            "_view_module_version": "1.2.0",
            "_view_name": "LayoutView",
            "align_content": null,
            "align_items": null,
            "align_self": null,
            "border": null,
            "bottom": null,
            "display": null,
            "flex": null,
            "flex_flow": null,
            "grid_area": null,
            "grid_auto_columns": null,
            "grid_auto_flow": null,
            "grid_auto_rows": null,
            "grid_column": null,
            "grid_gap": null,
            "grid_row": null,
            "grid_template_areas": null,
            "grid_template_columns": null,
            "grid_template_rows": null,
            "height": null,
            "justify_content": null,
            "justify_items": null,
            "left": null,
            "margin": null,
            "max_height": null,
            "max_width": null,
            "min_height": null,
            "min_width": null,
            "object_fit": null,
            "object_position": null,
            "order": null,
            "overflow": null,
            "overflow_x": null,
            "overflow_y": null,
            "padding": null,
            "right": null,
            "top": null,
            "visibility": null,
            "width": null
          }
        },
        "09364047481a49b6adf375b663ba884a": {
          "model_module": "@jupyter-widgets/base",
          "model_name": "LayoutModel",
          "model_module_version": "1.2.0",
          "state": {
            "_model_module": "@jupyter-widgets/base",
            "_model_module_version": "1.2.0",
            "_model_name": "LayoutModel",
            "_view_count": null,
            "_view_module": "@jupyter-widgets/base",
            "_view_module_version": "1.2.0",
            "_view_name": "LayoutView",
            "align_content": null,
            "align_items": null,
            "align_self": null,
            "border": null,
            "bottom": null,
            "display": null,
            "flex": null,
            "flex_flow": null,
            "grid_area": null,
            "grid_auto_columns": null,
            "grid_auto_flow": null,
            "grid_auto_rows": null,
            "grid_column": null,
            "grid_gap": null,
            "grid_row": null,
            "grid_template_areas": null,
            "grid_template_columns": null,
            "grid_template_rows": null,
            "height": null,
            "justify_content": null,
            "justify_items": null,
            "left": null,
            "margin": null,
            "max_height": null,
            "max_width": null,
            "min_height": null,
            "min_width": null,
            "object_fit": null,
            "object_position": null,
            "order": null,
            "overflow": null,
            "overflow_x": null,
            "overflow_y": null,
            "padding": null,
            "right": null,
            "top": null,
            "visibility": null,
            "width": null
          }
        },
        "eafd9ba0fb7f4cf0a97eb3be12826cfe": {
          "model_module": "@jupyter-widgets/controls",
          "model_name": "DescriptionStyleModel",
          "model_module_version": "1.5.0",
          "state": {
            "_model_module": "@jupyter-widgets/controls",
            "_model_module_version": "1.5.0",
            "_model_name": "DescriptionStyleModel",
            "_view_count": null,
            "_view_module": "@jupyter-widgets/base",
            "_view_module_version": "1.2.0",
            "_view_name": "StyleView",
            "description_width": ""
          }
        },
        "10c6f115855745b7aa8553ffae81ea6b": {
          "model_module": "@jupyter-widgets/base",
          "model_name": "LayoutModel",
          "model_module_version": "1.2.0",
          "state": {
            "_model_module": "@jupyter-widgets/base",
            "_model_module_version": "1.2.0",
            "_model_name": "LayoutModel",
            "_view_count": null,
            "_view_module": "@jupyter-widgets/base",
            "_view_module_version": "1.2.0",
            "_view_name": "LayoutView",
            "align_content": null,
            "align_items": null,
            "align_self": null,
            "border": null,
            "bottom": null,
            "display": null,
            "flex": null,
            "flex_flow": null,
            "grid_area": null,
            "grid_auto_columns": null,
            "grid_auto_flow": null,
            "grid_auto_rows": null,
            "grid_column": null,
            "grid_gap": null,
            "grid_row": null,
            "grid_template_areas": null,
            "grid_template_columns": null,
            "grid_template_rows": null,
            "height": null,
            "justify_content": null,
            "justify_items": null,
            "left": null,
            "margin": null,
            "max_height": null,
            "max_width": null,
            "min_height": null,
            "min_width": null,
            "object_fit": null,
            "object_position": null,
            "order": null,
            "overflow": null,
            "overflow_x": null,
            "overflow_y": null,
            "padding": null,
            "right": null,
            "top": null,
            "visibility": null,
            "width": null
          }
        },
        "99a57adfadfe44bf8e2c01ae32f56a7b": {
          "model_module": "@jupyter-widgets/controls",
          "model_name": "ProgressStyleModel",
          "model_module_version": "1.5.0",
          "state": {
            "_model_module": "@jupyter-widgets/controls",
            "_model_module_version": "1.5.0",
            "_model_name": "ProgressStyleModel",
            "_view_count": null,
            "_view_module": "@jupyter-widgets/base",
            "_view_module_version": "1.2.0",
            "_view_name": "StyleView",
            "bar_color": null,
            "description_width": ""
          }
        },
        "f7b75cee7cbb4ef1b1682ba09dc2fc06": {
          "model_module": "@jupyter-widgets/base",
          "model_name": "LayoutModel",
          "model_module_version": "1.2.0",
          "state": {
            "_model_module": "@jupyter-widgets/base",
            "_model_module_version": "1.2.0",
            "_model_name": "LayoutModel",
            "_view_count": null,
            "_view_module": "@jupyter-widgets/base",
            "_view_module_version": "1.2.0",
            "_view_name": "LayoutView",
            "align_content": null,
            "align_items": null,
            "align_self": null,
            "border": null,
            "bottom": null,
            "display": null,
            "flex": null,
            "flex_flow": null,
            "grid_area": null,
            "grid_auto_columns": null,
            "grid_auto_flow": null,
            "grid_auto_rows": null,
            "grid_column": null,
            "grid_gap": null,
            "grid_row": null,
            "grid_template_areas": null,
            "grid_template_columns": null,
            "grid_template_rows": null,
            "height": null,
            "justify_content": null,
            "justify_items": null,
            "left": null,
            "margin": null,
            "max_height": null,
            "max_width": null,
            "min_height": null,
            "min_width": null,
            "object_fit": null,
            "object_position": null,
            "order": null,
            "overflow": null,
            "overflow_x": null,
            "overflow_y": null,
            "padding": null,
            "right": null,
            "top": null,
            "visibility": null,
            "width": null
          }
        },
        "a9f61f497cec4e7684c722e8e045ca91": {
          "model_module": "@jupyter-widgets/controls",
          "model_name": "DescriptionStyleModel",
          "model_module_version": "1.5.0",
          "state": {
            "_model_module": "@jupyter-widgets/controls",
            "_model_module_version": "1.5.0",
            "_model_name": "DescriptionStyleModel",
            "_view_count": null,
            "_view_module": "@jupyter-widgets/base",
            "_view_module_version": "1.2.0",
            "_view_name": "StyleView",
            "description_width": ""
          }
        }
      }
    }
  },
  "cells": [
    {
      "cell_type": "markdown",
      "metadata": {
        "id": "view-in-github",
        "colab_type": "text"
      },
      "source": [
        "<a href=\"https://colab.research.google.com/github/akanksharai0407/NeuroGen/blob/main/NeuGen_APAI.ipynb\" target=\"_parent\"><img src=\"https://colab.research.google.com/assets/colab-badge.svg\" alt=\"Open In Colab\"/></a>"
      ]
    },
    {
      "cell_type": "code",
      "metadata": {
        "colab": {
          "base_uri": "https://localhost:8080/"
        },
        "id": "c93d2984",
        "outputId": "3c863673-a953-4e36-8fe1-ce3baf159f8d"
      },
      "source": [
        "# install all dependencies\n",
        "!pip install  kaggle\n",
        "!pip install  gTTS\n",
        "!pip install  transformers\n",
        "!pip install  seaborn\n",
        "\n",
        "# import all libraries\n",
        "\n",
        "# sytem & I/O\n",
        "import os\n",
        "import random\n",
        "import numpy as np\n",
        "import pandas as pd\n",
        "\n",
        "# visualisation\n",
        "import matplotlib.pyplot as plt\n",
        "import seaborn as sns\n",
        "\n",
        "# Audio\n",
        "from gtts import gTTS\n",
        "import IPython.display as ipd\n",
        "import tempfile\n",
        "\n",
        "# Pytorch\n",
        "import torch\n",
        "import torch.nn as nn\n",
        "import torch.nn.functional as F\n",
        "import torch.optim as optim\n",
        "from torch.utils.data import Dataset, DataLoader, random_split\n",
        "\n",
        "# Sklearn\n",
        "from sklearn.preprocessing import LabelEncoder, StandardScaler\n",
        "from sklearn.metrics import classification_report, confusion_matrix\n",
        "\n",
        "# Transformers\n",
        "from transformers import GPT2LMHeadModel, GPT2Tokenizer"
      ],
      "execution_count": null,
      "outputs": [
        {
          "output_type": "stream",
          "name": "stdout",
          "text": [
            "Requirement already satisfied: kaggle in /usr/local/lib/python3.11/dist-packages (1.7.4.5)\n",
            "Requirement already satisfied: bleach in /usr/local/lib/python3.11/dist-packages (from kaggle) (6.2.0)\n",
            "Requirement already satisfied: certifi>=14.05.14 in /usr/local/lib/python3.11/dist-packages (from kaggle) (2025.7.9)\n",
            "Requirement already satisfied: charset-normalizer in /usr/local/lib/python3.11/dist-packages (from kaggle) (3.4.2)\n",
            "Requirement already satisfied: idna in /usr/local/lib/python3.11/dist-packages (from kaggle) (3.10)\n",
            "Requirement already satisfied: protobuf in /usr/local/lib/python3.11/dist-packages (from kaggle) (5.29.5)\n",
            "Requirement already satisfied: python-dateutil>=2.5.3 in /usr/local/lib/python3.11/dist-packages (from kaggle) (2.9.0.post0)\n",
            "Requirement already satisfied: python-slugify in /usr/local/lib/python3.11/dist-packages (from kaggle) (8.0.4)\n",
            "Requirement already satisfied: requests in /usr/local/lib/python3.11/dist-packages (from kaggle) (2.32.3)\n",
            "Requirement already satisfied: setuptools>=21.0.0 in /usr/local/lib/python3.11/dist-packages (from kaggle) (75.2.0)\n",
            "Requirement already satisfied: six>=1.10 in /usr/local/lib/python3.11/dist-packages (from kaggle) (1.17.0)\n",
            "Requirement already satisfied: text-unidecode in /usr/local/lib/python3.11/dist-packages (from kaggle) (1.3)\n",
            "Requirement already satisfied: tqdm in /usr/local/lib/python3.11/dist-packages (from kaggle) (4.67.1)\n",
            "Requirement already satisfied: urllib3>=1.15.1 in /usr/local/lib/python3.11/dist-packages (from kaggle) (2.4.0)\n",
            "Requirement already satisfied: webencodings in /usr/local/lib/python3.11/dist-packages (from kaggle) (0.5.1)\n",
            "Requirement already satisfied: gTTS in /usr/local/lib/python3.11/dist-packages (2.5.4)\n",
            "Requirement already satisfied: requests<3,>=2.27 in /usr/local/lib/python3.11/dist-packages (from gTTS) (2.32.3)\n",
            "Requirement already satisfied: click<8.2,>=7.1 in /usr/local/lib/python3.11/dist-packages (from gTTS) (8.1.8)\n",
            "Requirement already satisfied: charset-normalizer<4,>=2 in /usr/local/lib/python3.11/dist-packages (from requests<3,>=2.27->gTTS) (3.4.2)\n",
            "Requirement already satisfied: idna<4,>=2.5 in /usr/local/lib/python3.11/dist-packages (from requests<3,>=2.27->gTTS) (3.10)\n",
            "Requirement already satisfied: urllib3<3,>=1.21.1 in /usr/local/lib/python3.11/dist-packages (from requests<3,>=2.27->gTTS) (2.4.0)\n",
            "Requirement already satisfied: certifi>=2017.4.17 in /usr/local/lib/python3.11/dist-packages (from requests<3,>=2.27->gTTS) (2025.7.9)\n",
            "Requirement already satisfied: transformers in /usr/local/lib/python3.11/dist-packages (4.53.1)\n",
            "Requirement already satisfied: filelock in /usr/local/lib/python3.11/dist-packages (from transformers) (3.18.0)\n",
            "Requirement already satisfied: huggingface-hub<1.0,>=0.30.0 in /usr/local/lib/python3.11/dist-packages (from transformers) (0.33.2)\n",
            "Requirement already satisfied: numpy>=1.17 in /usr/local/lib/python3.11/dist-packages (from transformers) (2.0.2)\n",
            "Requirement already satisfied: packaging>=20.0 in /usr/local/lib/python3.11/dist-packages (from transformers) (24.2)\n",
            "Requirement already satisfied: pyyaml>=5.1 in /usr/local/lib/python3.11/dist-packages (from transformers) (6.0.2)\n",
            "Requirement already satisfied: regex!=2019.12.17 in /usr/local/lib/python3.11/dist-packages (from transformers) (2024.11.6)\n",
            "Requirement already satisfied: requests in /usr/local/lib/python3.11/dist-packages (from transformers) (2.32.3)\n",
            "Requirement already satisfied: tokenizers<0.22,>=0.21 in /usr/local/lib/python3.11/dist-packages (from transformers) (0.21.2)\n",
            "Requirement already satisfied: safetensors>=0.4.3 in /usr/local/lib/python3.11/dist-packages (from transformers) (0.5.3)\n",
            "Requirement already satisfied: tqdm>=4.27 in /usr/local/lib/python3.11/dist-packages (from transformers) (4.67.1)\n",
            "Requirement already satisfied: fsspec>=2023.5.0 in /usr/local/lib/python3.11/dist-packages (from huggingface-hub<1.0,>=0.30.0->transformers) (2025.3.2)\n",
            "Requirement already satisfied: typing-extensions>=3.7.4.3 in /usr/local/lib/python3.11/dist-packages (from huggingface-hub<1.0,>=0.30.0->transformers) (4.14.1)\n",
            "Requirement already satisfied: hf-xet<2.0.0,>=1.1.2 in /usr/local/lib/python3.11/dist-packages (from huggingface-hub<1.0,>=0.30.0->transformers) (1.1.5)\n",
            "Requirement already satisfied: charset-normalizer<4,>=2 in /usr/local/lib/python3.11/dist-packages (from requests->transformers) (3.4.2)\n",
            "Requirement already satisfied: idna<4,>=2.5 in /usr/local/lib/python3.11/dist-packages (from requests->transformers) (3.10)\n",
            "Requirement already satisfied: urllib3<3,>=1.21.1 in /usr/local/lib/python3.11/dist-packages (from requests->transformers) (2.4.0)\n",
            "Requirement already satisfied: certifi>=2017.4.17 in /usr/local/lib/python3.11/dist-packages (from requests->transformers) (2025.7.9)\n",
            "Requirement already satisfied: seaborn in /usr/local/lib/python3.11/dist-packages (0.13.2)\n",
            "Requirement already satisfied: numpy!=1.24.0,>=1.20 in /usr/local/lib/python3.11/dist-packages (from seaborn) (2.0.2)\n",
            "Requirement already satisfied: pandas>=1.2 in /usr/local/lib/python3.11/dist-packages (from seaborn) (2.2.2)\n",
            "Requirement already satisfied: matplotlib!=3.6.1,>=3.4 in /usr/local/lib/python3.11/dist-packages (from seaborn) (3.10.0)\n",
            "Requirement already satisfied: contourpy>=1.0.1 in /usr/local/lib/python3.11/dist-packages (from matplotlib!=3.6.1,>=3.4->seaborn) (1.3.2)\n",
            "Requirement already satisfied: cycler>=0.10 in /usr/local/lib/python3.11/dist-packages (from matplotlib!=3.6.1,>=3.4->seaborn) (0.12.1)\n",
            "Requirement already satisfied: fonttools>=4.22.0 in /usr/local/lib/python3.11/dist-packages (from matplotlib!=3.6.1,>=3.4->seaborn) (4.58.5)\n",
            "Requirement already satisfied: kiwisolver>=1.3.1 in /usr/local/lib/python3.11/dist-packages (from matplotlib!=3.6.1,>=3.4->seaborn) (1.4.8)\n",
            "Requirement already satisfied: packaging>=20.0 in /usr/local/lib/python3.11/dist-packages (from matplotlib!=3.6.1,>=3.4->seaborn) (24.2)\n",
            "Requirement already satisfied: pillow>=8 in /usr/local/lib/python3.11/dist-packages (from matplotlib!=3.6.1,>=3.4->seaborn) (11.2.1)\n",
            "Requirement already satisfied: pyparsing>=2.3.1 in /usr/local/lib/python3.11/dist-packages (from matplotlib!=3.6.1,>=3.4->seaborn) (3.2.3)\n",
            "Requirement already satisfied: python-dateutil>=2.7 in /usr/local/lib/python3.11/dist-packages (from matplotlib!=3.6.1,>=3.4->seaborn) (2.9.0.post0)\n",
            "Requirement already satisfied: pytz>=2020.1 in /usr/local/lib/python3.11/dist-packages (from pandas>=1.2->seaborn) (2025.2)\n",
            "Requirement already satisfied: tzdata>=2022.7 in /usr/local/lib/python3.11/dist-packages (from pandas>=1.2->seaborn) (2025.2)\n",
            "Requirement already satisfied: six>=1.5 in /usr/local/lib/python3.11/dist-packages (from python-dateutil>=2.7->matplotlib!=3.6.1,>=3.4->seaborn) (1.17.0)\n"
          ]
        }
      ]
    },
    {
      "cell_type": "code",
      "execution_count": null,
      "metadata": {
        "id": "6Qk_ojKenLAy"
      },
      "outputs": [],
      "source": [
        "# install kaggle\n",
        "!pip install -q kaggle"
      ]
    },
    {
      "cell_type": "code",
      "source": [
        "from google.colab import files\n",
        "files.upload()"
      ],
      "metadata": {
        "colab": {
          "base_uri": "https://localhost:8080/",
          "height": 90
        },
        "id": "MrpgvrP0npCJ",
        "outputId": "e35dac34-c56d-44e9-c006-47d628f516a9"
      },
      "execution_count": null,
      "outputs": [
        {
          "output_type": "display_data",
          "data": {
            "text/plain": [
              "<IPython.core.display.HTML object>"
            ],
            "text/html": [
              "\n",
              "     <input type=\"file\" id=\"files-8612d919-f4a4-44a8-9021-fb3ee40fa011\" name=\"files[]\" multiple disabled\n",
              "        style=\"border:none\" />\n",
              "     <output id=\"result-8612d919-f4a4-44a8-9021-fb3ee40fa011\">\n",
              "      Upload widget is only available when the cell has been executed in the\n",
              "      current browser session. Please rerun this cell to enable.\n",
              "      </output>\n",
              "      <script>// Copyright 2017 Google LLC\n",
              "//\n",
              "// Licensed under the Apache License, Version 2.0 (the \"License\");\n",
              "// you may not use this file except in compliance with the License.\n",
              "// You may obtain a copy of the License at\n",
              "//\n",
              "//      http://www.apache.org/licenses/LICENSE-2.0\n",
              "//\n",
              "// Unless required by applicable law or agreed to in writing, software\n",
              "// distributed under the License is distributed on an \"AS IS\" BASIS,\n",
              "// WITHOUT WARRANTIES OR CONDITIONS OF ANY KIND, either express or implied.\n",
              "// See the License for the specific language governing permissions and\n",
              "// limitations under the License.\n",
              "\n",
              "/**\n",
              " * @fileoverview Helpers for google.colab Python module.\n",
              " */\n",
              "(function(scope) {\n",
              "function span(text, styleAttributes = {}) {\n",
              "  const element = document.createElement('span');\n",
              "  element.textContent = text;\n",
              "  for (const key of Object.keys(styleAttributes)) {\n",
              "    element.style[key] = styleAttributes[key];\n",
              "  }\n",
              "  return element;\n",
              "}\n",
              "\n",
              "// Max number of bytes which will be uploaded at a time.\n",
              "const MAX_PAYLOAD_SIZE = 100 * 1024;\n",
              "\n",
              "function _uploadFiles(inputId, outputId) {\n",
              "  const steps = uploadFilesStep(inputId, outputId);\n",
              "  const outputElement = document.getElementById(outputId);\n",
              "  // Cache steps on the outputElement to make it available for the next call\n",
              "  // to uploadFilesContinue from Python.\n",
              "  outputElement.steps = steps;\n",
              "\n",
              "  return _uploadFilesContinue(outputId);\n",
              "}\n",
              "\n",
              "// This is roughly an async generator (not supported in the browser yet),\n",
              "// where there are multiple asynchronous steps and the Python side is going\n",
              "// to poll for completion of each step.\n",
              "// This uses a Promise to block the python side on completion of each step,\n",
              "// then passes the result of the previous step as the input to the next step.\n",
              "function _uploadFilesContinue(outputId) {\n",
              "  const outputElement = document.getElementById(outputId);\n",
              "  const steps = outputElement.steps;\n",
              "\n",
              "  const next = steps.next(outputElement.lastPromiseValue);\n",
              "  return Promise.resolve(next.value.promise).then((value) => {\n",
              "    // Cache the last promise value to make it available to the next\n",
              "    // step of the generator.\n",
              "    outputElement.lastPromiseValue = value;\n",
              "    return next.value.response;\n",
              "  });\n",
              "}\n",
              "\n",
              "/**\n",
              " * Generator function which is called between each async step of the upload\n",
              " * process.\n",
              " * @param {string} inputId Element ID of the input file picker element.\n",
              " * @param {string} outputId Element ID of the output display.\n",
              " * @return {!Iterable<!Object>} Iterable of next steps.\n",
              " */\n",
              "function* uploadFilesStep(inputId, outputId) {\n",
              "  const inputElement = document.getElementById(inputId);\n",
              "  inputElement.disabled = false;\n",
              "\n",
              "  const outputElement = document.getElementById(outputId);\n",
              "  outputElement.innerHTML = '';\n",
              "\n",
              "  const pickedPromise = new Promise((resolve) => {\n",
              "    inputElement.addEventListener('change', (e) => {\n",
              "      resolve(e.target.files);\n",
              "    });\n",
              "  });\n",
              "\n",
              "  const cancel = document.createElement('button');\n",
              "  inputElement.parentElement.appendChild(cancel);\n",
              "  cancel.textContent = 'Cancel upload';\n",
              "  const cancelPromise = new Promise((resolve) => {\n",
              "    cancel.onclick = () => {\n",
              "      resolve(null);\n",
              "    };\n",
              "  });\n",
              "\n",
              "  // Wait for the user to pick the files.\n",
              "  const files = yield {\n",
              "    promise: Promise.race([pickedPromise, cancelPromise]),\n",
              "    response: {\n",
              "      action: 'starting',\n",
              "    }\n",
              "  };\n",
              "\n",
              "  cancel.remove();\n",
              "\n",
              "  // Disable the input element since further picks are not allowed.\n",
              "  inputElement.disabled = true;\n",
              "\n",
              "  if (!files) {\n",
              "    return {\n",
              "      response: {\n",
              "        action: 'complete',\n",
              "      }\n",
              "    };\n",
              "  }\n",
              "\n",
              "  for (const file of files) {\n",
              "    const li = document.createElement('li');\n",
              "    li.append(span(file.name, {fontWeight: 'bold'}));\n",
              "    li.append(span(\n",
              "        `(${file.type || 'n/a'}) - ${file.size} bytes, ` +\n",
              "        `last modified: ${\n",
              "            file.lastModifiedDate ? file.lastModifiedDate.toLocaleDateString() :\n",
              "                                    'n/a'} - `));\n",
              "    const percent = span('0% done');\n",
              "    li.appendChild(percent);\n",
              "\n",
              "    outputElement.appendChild(li);\n",
              "\n",
              "    const fileDataPromise = new Promise((resolve) => {\n",
              "      const reader = new FileReader();\n",
              "      reader.onload = (e) => {\n",
              "        resolve(e.target.result);\n",
              "      };\n",
              "      reader.readAsArrayBuffer(file);\n",
              "    });\n",
              "    // Wait for the data to be ready.\n",
              "    let fileData = yield {\n",
              "      promise: fileDataPromise,\n",
              "      response: {\n",
              "        action: 'continue',\n",
              "      }\n",
              "    };\n",
              "\n",
              "    // Use a chunked sending to avoid message size limits. See b/62115660.\n",
              "    let position = 0;\n",
              "    do {\n",
              "      const length = Math.min(fileData.byteLength - position, MAX_PAYLOAD_SIZE);\n",
              "      const chunk = new Uint8Array(fileData, position, length);\n",
              "      position += length;\n",
              "\n",
              "      const base64 = btoa(String.fromCharCode.apply(null, chunk));\n",
              "      yield {\n",
              "        response: {\n",
              "          action: 'append',\n",
              "          file: file.name,\n",
              "          data: base64,\n",
              "        },\n",
              "      };\n",
              "\n",
              "      let percentDone = fileData.byteLength === 0 ?\n",
              "          100 :\n",
              "          Math.round((position / fileData.byteLength) * 100);\n",
              "      percent.textContent = `${percentDone}% done`;\n",
              "\n",
              "    } while (position < fileData.byteLength);\n",
              "  }\n",
              "\n",
              "  // All done.\n",
              "  yield {\n",
              "    response: {\n",
              "      action: 'complete',\n",
              "    }\n",
              "  };\n",
              "}\n",
              "\n",
              "scope.google = scope.google || {};\n",
              "scope.google.colab = scope.google.colab || {};\n",
              "scope.google.colab._files = {\n",
              "  _uploadFiles,\n",
              "  _uploadFilesContinue,\n",
              "};\n",
              "})(self);\n",
              "</script> "
            ]
          },
          "metadata": {}
        },
        {
          "output_type": "stream",
          "name": "stdout",
          "text": [
            "Saving kaggle.json to kaggle (1).json\n"
          ]
        },
        {
          "output_type": "execute_result",
          "data": {
            "text/plain": [
              "{'kaggle (1).json': b'{\"username\":\"akanksharai4701\",\"key\":\"92b764532c1de1a2d532489a03a0272f\"}'}"
            ]
          },
          "metadata": {},
          "execution_count": 8
        }
      ]
    },
    {
      "cell_type": "code",
      "metadata": {
        "colab": {
          "base_uri": "https://localhost:8080/"
        },
        "id": "8d00b148",
        "outputId": "57573594-1bc5-44d4-aa21-b3eb027bbfca"
      },
      "source": [
        "! mkdir ~/.kaggle\n",
        "! cp kaggle.json ~/.kaggle/\n",
        "\n",
        "! chmod 600 ~/.kaggle/kaggle.json\n",
        "! kaggle datasets download -d birdy654/eeg-brainwave-dataset-feeling-emotions\n",
        "! unzip -o eeg-brainwave-dataset-feeling-emotions.zip -d eeg-emotion_data"
      ],
      "execution_count": null,
      "outputs": [
        {
          "output_type": "stream",
          "name": "stdout",
          "text": [
            "mkdir: cannot create directory ‘/root/.kaggle’: File exists\n",
            "Dataset URL: https://www.kaggle.com/datasets/birdy654/eeg-brainwave-dataset-feeling-emotions\n",
            "License(s): copyright-authors\n",
            "eeg-brainwave-dataset-feeling-emotions.zip: Skipping, found more recently modified local copy (use --force to force download)\n",
            "Archive:  eeg-brainwave-dataset-feeling-emotions.zip\n",
            "  inflating: eeg-emotion_data/emotions.csv  \n"
          ]
        }
      ]
    },
    {
      "cell_type": "code",
      "metadata": {
        "colab": {
          "base_uri": "https://localhost:8080/",
          "height": 307
        },
        "id": "18bd869c",
        "outputId": "cbdb2c59-dbb8-4480-9394-cf879f64845c"
      },
      "source": [
        "df = pd.read_csv('eeg-emotion_data/emotions.csv')\n",
        "print(\"shape:\", df.shape)\n",
        "print(\"columns:\", df.columns[:5].tolist(), '...')\n",
        "display(df.head())"
      ],
      "execution_count": null,
      "outputs": [
        {
          "output_type": "stream",
          "name": "stdout",
          "text": [
            "shape: (2132, 2549)\n",
            "columns: ['# mean_0_a', 'mean_1_a', 'mean_2_a', 'mean_3_a', 'mean_4_a'] ...\n"
          ]
        },
        {
          "output_type": "display_data",
          "data": {
            "text/plain": [
              "   # mean_0_a  mean_1_a  mean_2_a  mean_3_a  mean_4_a  mean_d_0_a  mean_d_1_a  \\\n",
              "0        4.62      30.3    -356.0      15.6      26.3       1.070       0.411   \n",
              "1       28.80      33.1      32.0      25.8      22.8       6.550       1.680   \n",
              "2        8.90      29.4    -416.0      16.7      23.7      79.900       3.360   \n",
              "3       14.90      31.6    -143.0      19.8      24.3      -0.584      -0.284   \n",
              "4       28.30      31.3      45.2      27.3      24.5      34.800      -5.790   \n",
              "\n",
              "   mean_d_2_a  mean_d_3_a  mean_d_4_a  ...  fft_741_b  fft_742_b  fft_743_b  \\\n",
              "0      -15.70        2.06        3.15  ...       23.5       20.3       20.3   \n",
              "1        2.88        3.83       -4.82  ...      -23.3      -21.8      -21.8   \n",
              "2       90.20       89.90        2.03  ...      462.0     -233.0     -233.0   \n",
              "3        8.82        2.30       -1.97  ...      299.0     -243.0     -243.0   \n",
              "4        3.06       41.40        5.52  ...       12.0       38.1       38.1   \n",
              "\n",
              "   fft_744_b  fft_745_b  fft_746_b  fft_747_b  fft_748_b  fft_749_b     label  \n",
              "0       23.5     -215.0     280.00    -162.00    -162.00     280.00  NEGATIVE  \n",
              "1      -23.3      182.0       2.57     -31.60     -31.60       2.57   NEUTRAL  \n",
              "2      462.0     -267.0     281.00    -148.00    -148.00     281.00  POSITIVE  \n",
              "3      299.0      132.0     -12.40       9.53       9.53     -12.40  POSITIVE  \n",
              "4       12.0      119.0     -17.60      23.90      23.90     -17.60   NEUTRAL  \n",
              "\n",
              "[5 rows x 2549 columns]"
            ],
            "text/html": [
              "\n",
              "  <div id=\"df-12337be7-d41b-4eb5-b621-6d9f789802ce\" class=\"colab-df-container\">\n",
              "    <div>\n",
              "<style scoped>\n",
              "    .dataframe tbody tr th:only-of-type {\n",
              "        vertical-align: middle;\n",
              "    }\n",
              "\n",
              "    .dataframe tbody tr th {\n",
              "        vertical-align: top;\n",
              "    }\n",
              "\n",
              "    .dataframe thead th {\n",
              "        text-align: right;\n",
              "    }\n",
              "</style>\n",
              "<table border=\"1\" class=\"dataframe\">\n",
              "  <thead>\n",
              "    <tr style=\"text-align: right;\">\n",
              "      <th></th>\n",
              "      <th># mean_0_a</th>\n",
              "      <th>mean_1_a</th>\n",
              "      <th>mean_2_a</th>\n",
              "      <th>mean_3_a</th>\n",
              "      <th>mean_4_a</th>\n",
              "      <th>mean_d_0_a</th>\n",
              "      <th>mean_d_1_a</th>\n",
              "      <th>mean_d_2_a</th>\n",
              "      <th>mean_d_3_a</th>\n",
              "      <th>mean_d_4_a</th>\n",
              "      <th>...</th>\n",
              "      <th>fft_741_b</th>\n",
              "      <th>fft_742_b</th>\n",
              "      <th>fft_743_b</th>\n",
              "      <th>fft_744_b</th>\n",
              "      <th>fft_745_b</th>\n",
              "      <th>fft_746_b</th>\n",
              "      <th>fft_747_b</th>\n",
              "      <th>fft_748_b</th>\n",
              "      <th>fft_749_b</th>\n",
              "      <th>label</th>\n",
              "    </tr>\n",
              "  </thead>\n",
              "  <tbody>\n",
              "    <tr>\n",
              "      <th>0</th>\n",
              "      <td>4.62</td>\n",
              "      <td>30.3</td>\n",
              "      <td>-356.0</td>\n",
              "      <td>15.6</td>\n",
              "      <td>26.3</td>\n",
              "      <td>1.070</td>\n",
              "      <td>0.411</td>\n",
              "      <td>-15.70</td>\n",
              "      <td>2.06</td>\n",
              "      <td>3.15</td>\n",
              "      <td>...</td>\n",
              "      <td>23.5</td>\n",
              "      <td>20.3</td>\n",
              "      <td>20.3</td>\n",
              "      <td>23.5</td>\n",
              "      <td>-215.0</td>\n",
              "      <td>280.00</td>\n",
              "      <td>-162.00</td>\n",
              "      <td>-162.00</td>\n",
              "      <td>280.00</td>\n",
              "      <td>NEGATIVE</td>\n",
              "    </tr>\n",
              "    <tr>\n",
              "      <th>1</th>\n",
              "      <td>28.80</td>\n",
              "      <td>33.1</td>\n",
              "      <td>32.0</td>\n",
              "      <td>25.8</td>\n",
              "      <td>22.8</td>\n",
              "      <td>6.550</td>\n",
              "      <td>1.680</td>\n",
              "      <td>2.88</td>\n",
              "      <td>3.83</td>\n",
              "      <td>-4.82</td>\n",
              "      <td>...</td>\n",
              "      <td>-23.3</td>\n",
              "      <td>-21.8</td>\n",
              "      <td>-21.8</td>\n",
              "      <td>-23.3</td>\n",
              "      <td>182.0</td>\n",
              "      <td>2.57</td>\n",
              "      <td>-31.60</td>\n",
              "      <td>-31.60</td>\n",
              "      <td>2.57</td>\n",
              "      <td>NEUTRAL</td>\n",
              "    </tr>\n",
              "    <tr>\n",
              "      <th>2</th>\n",
              "      <td>8.90</td>\n",
              "      <td>29.4</td>\n",
              "      <td>-416.0</td>\n",
              "      <td>16.7</td>\n",
              "      <td>23.7</td>\n",
              "      <td>79.900</td>\n",
              "      <td>3.360</td>\n",
              "      <td>90.20</td>\n",
              "      <td>89.90</td>\n",
              "      <td>2.03</td>\n",
              "      <td>...</td>\n",
              "      <td>462.0</td>\n",
              "      <td>-233.0</td>\n",
              "      <td>-233.0</td>\n",
              "      <td>462.0</td>\n",
              "      <td>-267.0</td>\n",
              "      <td>281.00</td>\n",
              "      <td>-148.00</td>\n",
              "      <td>-148.00</td>\n",
              "      <td>281.00</td>\n",
              "      <td>POSITIVE</td>\n",
              "    </tr>\n",
              "    <tr>\n",
              "      <th>3</th>\n",
              "      <td>14.90</td>\n",
              "      <td>31.6</td>\n",
              "      <td>-143.0</td>\n",
              "      <td>19.8</td>\n",
              "      <td>24.3</td>\n",
              "      <td>-0.584</td>\n",
              "      <td>-0.284</td>\n",
              "      <td>8.82</td>\n",
              "      <td>2.30</td>\n",
              "      <td>-1.97</td>\n",
              "      <td>...</td>\n",
              "      <td>299.0</td>\n",
              "      <td>-243.0</td>\n",
              "      <td>-243.0</td>\n",
              "      <td>299.0</td>\n",
              "      <td>132.0</td>\n",
              "      <td>-12.40</td>\n",
              "      <td>9.53</td>\n",
              "      <td>9.53</td>\n",
              "      <td>-12.40</td>\n",
              "      <td>POSITIVE</td>\n",
              "    </tr>\n",
              "    <tr>\n",
              "      <th>4</th>\n",
              "      <td>28.30</td>\n",
              "      <td>31.3</td>\n",
              "      <td>45.2</td>\n",
              "      <td>27.3</td>\n",
              "      <td>24.5</td>\n",
              "      <td>34.800</td>\n",
              "      <td>-5.790</td>\n",
              "      <td>3.06</td>\n",
              "      <td>41.40</td>\n",
              "      <td>5.52</td>\n",
              "      <td>...</td>\n",
              "      <td>12.0</td>\n",
              "      <td>38.1</td>\n",
              "      <td>38.1</td>\n",
              "      <td>12.0</td>\n",
              "      <td>119.0</td>\n",
              "      <td>-17.60</td>\n",
              "      <td>23.90</td>\n",
              "      <td>23.90</td>\n",
              "      <td>-17.60</td>\n",
              "      <td>NEUTRAL</td>\n",
              "    </tr>\n",
              "  </tbody>\n",
              "</table>\n",
              "<p>5 rows × 2549 columns</p>\n",
              "</div>\n",
              "    <div class=\"colab-df-buttons\">\n",
              "\n",
              "  <div class=\"colab-df-container\">\n",
              "    <button class=\"colab-df-convert\" onclick=\"convertToInteractive('df-12337be7-d41b-4eb5-b621-6d9f789802ce')\"\n",
              "            title=\"Convert this dataframe to an interactive table.\"\n",
              "            style=\"display:none;\">\n",
              "\n",
              "  <svg xmlns=\"http://www.w3.org/2000/svg\" height=\"24px\" viewBox=\"0 -960 960 960\">\n",
              "    <path d=\"M120-120v-720h720v720H120Zm60-500h600v-160H180v160Zm220 220h160v-160H400v160Zm0 220h160v-160H400v160ZM180-400h160v-160H180v160Zm440 0h160v-160H620v160ZM180-180h160v-160H180v160Zm440 0h160v-160H620v160Z\"/>\n",
              "  </svg>\n",
              "    </button>\n",
              "\n",
              "  <style>\n",
              "    .colab-df-container {\n",
              "      display:flex;\n",
              "      gap: 12px;\n",
              "    }\n",
              "\n",
              "    .colab-df-convert {\n",
              "      background-color: #E8F0FE;\n",
              "      border: none;\n",
              "      border-radius: 50%;\n",
              "      cursor: pointer;\n",
              "      display: none;\n",
              "      fill: #1967D2;\n",
              "      height: 32px;\n",
              "      padding: 0 0 0 0;\n",
              "      width: 32px;\n",
              "    }\n",
              "\n",
              "    .colab-df-convert:hover {\n",
              "      background-color: #E2EBFA;\n",
              "      box-shadow: 0px 1px 2px rgba(60, 64, 67, 0.3), 0px 1px 3px 1px rgba(60, 64, 67, 0.15);\n",
              "      fill: #174EA6;\n",
              "    }\n",
              "\n",
              "    .colab-df-buttons div {\n",
              "      margin-bottom: 4px;\n",
              "    }\n",
              "\n",
              "    [theme=dark] .colab-df-convert {\n",
              "      background-color: #3B4455;\n",
              "      fill: #D2E3FC;\n",
              "    }\n",
              "\n",
              "    [theme=dark] .colab-df-convert:hover {\n",
              "      background-color: #434B5C;\n",
              "      box-shadow: 0px 1px 3px 1px rgba(0, 0, 0, 0.15);\n",
              "      filter: drop-shadow(0px 1px 2px rgba(0, 0, 0, 0.3));\n",
              "      fill: #FFFFFF;\n",
              "    }\n",
              "  </style>\n",
              "\n",
              "    <script>\n",
              "      const buttonEl =\n",
              "        document.querySelector('#df-12337be7-d41b-4eb5-b621-6d9f789802ce button.colab-df-convert');\n",
              "      buttonEl.style.display =\n",
              "        google.colab.kernel.accessAllowed ? 'block' : 'none';\n",
              "\n",
              "      async function convertToInteractive(key) {\n",
              "        const element = document.querySelector('#df-12337be7-d41b-4eb5-b621-6d9f789802ce');\n",
              "        const dataTable =\n",
              "          await google.colab.kernel.invokeFunction('convertToInteractive',\n",
              "                                                    [key], {});\n",
              "        if (!dataTable) return;\n",
              "\n",
              "        const docLinkHtml = 'Like what you see? Visit the ' +\n",
              "          '<a target=\"_blank\" href=https://colab.research.google.com/notebooks/data_table.ipynb>data table notebook</a>'\n",
              "          + ' to learn more about interactive tables.';\n",
              "        element.innerHTML = '';\n",
              "        dataTable['output_type'] = 'display_data';\n",
              "        await google.colab.output.renderOutput(dataTable, element);\n",
              "        const docLink = document.createElement('div');\n",
              "        docLink.innerHTML = docLinkHtml;\n",
              "        element.appendChild(docLink);\n",
              "      }\n",
              "    </script>\n",
              "  </div>\n",
              "\n",
              "\n",
              "    <div id=\"df-1b2e7791-453a-4ab7-b041-4e959d73747f\">\n",
              "      <button class=\"colab-df-quickchart\" onclick=\"quickchart('df-1b2e7791-453a-4ab7-b041-4e959d73747f')\"\n",
              "                title=\"Suggest charts\"\n",
              "                style=\"display:none;\">\n",
              "\n",
              "<svg xmlns=\"http://www.w3.org/2000/svg\" height=\"24px\"viewBox=\"0 0 24 24\"\n",
              "     width=\"24px\">\n",
              "    <g>\n",
              "        <path d=\"M19 3H5c-1.1 0-2 .9-2 2v14c0 1.1.9 2 2 2h14c1.1 0 2-.9 2-2V5c0-1.1-.9-2-2-2zM9 17H7v-7h2v7zm4 0h-2V7h2v10zm4 0h-2v-4h2v4z\"/>\n",
              "    </g>\n",
              "</svg>\n",
              "      </button>\n",
              "\n",
              "<style>\n",
              "  .colab-df-quickchart {\n",
              "      --bg-color: #E8F0FE;\n",
              "      --fill-color: #1967D2;\n",
              "      --hover-bg-color: #E2EBFA;\n",
              "      --hover-fill-color: #174EA6;\n",
              "      --disabled-fill-color: #AAA;\n",
              "      --disabled-bg-color: #DDD;\n",
              "  }\n",
              "\n",
              "  [theme=dark] .colab-df-quickchart {\n",
              "      --bg-color: #3B4455;\n",
              "      --fill-color: #D2E3FC;\n",
              "      --hover-bg-color: #434B5C;\n",
              "      --hover-fill-color: #FFFFFF;\n",
              "      --disabled-bg-color: #3B4455;\n",
              "      --disabled-fill-color: #666;\n",
              "  }\n",
              "\n",
              "  .colab-df-quickchart {\n",
              "    background-color: var(--bg-color);\n",
              "    border: none;\n",
              "    border-radius: 50%;\n",
              "    cursor: pointer;\n",
              "    display: none;\n",
              "    fill: var(--fill-color);\n",
              "    height: 32px;\n",
              "    padding: 0;\n",
              "    width: 32px;\n",
              "  }\n",
              "\n",
              "  .colab-df-quickchart:hover {\n",
              "    background-color: var(--hover-bg-color);\n",
              "    box-shadow: 0 1px 2px rgba(60, 64, 67, 0.3), 0 1px 3px 1px rgba(60, 64, 67, 0.15);\n",
              "    fill: var(--button-hover-fill-color);\n",
              "  }\n",
              "\n",
              "  .colab-df-quickchart-complete:disabled,\n",
              "  .colab-df-quickchart-complete:disabled:hover {\n",
              "    background-color: var(--disabled-bg-color);\n",
              "    fill: var(--disabled-fill-color);\n",
              "    box-shadow: none;\n",
              "  }\n",
              "\n",
              "  .colab-df-spinner {\n",
              "    border: 2px solid var(--fill-color);\n",
              "    border-color: transparent;\n",
              "    border-bottom-color: var(--fill-color);\n",
              "    animation:\n",
              "      spin 1s steps(1) infinite;\n",
              "  }\n",
              "\n",
              "  @keyframes spin {\n",
              "    0% {\n",
              "      border-color: transparent;\n",
              "      border-bottom-color: var(--fill-color);\n",
              "      border-left-color: var(--fill-color);\n",
              "    }\n",
              "    20% {\n",
              "      border-color: transparent;\n",
              "      border-left-color: var(--fill-color);\n",
              "      border-top-color: var(--fill-color);\n",
              "    }\n",
              "    30% {\n",
              "      border-color: transparent;\n",
              "      border-left-color: var(--fill-color);\n",
              "      border-top-color: var(--fill-color);\n",
              "      border-right-color: var(--fill-color);\n",
              "    }\n",
              "    40% {\n",
              "      border-color: transparent;\n",
              "      border-right-color: var(--fill-color);\n",
              "      border-top-color: var(--fill-color);\n",
              "    }\n",
              "    60% {\n",
              "      border-color: transparent;\n",
              "      border-right-color: var(--fill-color);\n",
              "    }\n",
              "    80% {\n",
              "      border-color: transparent;\n",
              "      border-right-color: var(--fill-color);\n",
              "      border-bottom-color: var(--fill-color);\n",
              "    }\n",
              "    90% {\n",
              "      border-color: transparent;\n",
              "      border-bottom-color: var(--fill-color);\n",
              "    }\n",
              "  }\n",
              "</style>\n",
              "\n",
              "      <script>\n",
              "        async function quickchart(key) {\n",
              "          const quickchartButtonEl =\n",
              "            document.querySelector('#' + key + ' button');\n",
              "          quickchartButtonEl.disabled = true;  // To prevent multiple clicks.\n",
              "          quickchartButtonEl.classList.add('colab-df-spinner');\n",
              "          try {\n",
              "            const charts = await google.colab.kernel.invokeFunction(\n",
              "                'suggestCharts', [key], {});\n",
              "          } catch (error) {\n",
              "            console.error('Error during call to suggestCharts:', error);\n",
              "          }\n",
              "          quickchartButtonEl.classList.remove('colab-df-spinner');\n",
              "          quickchartButtonEl.classList.add('colab-df-quickchart-complete');\n",
              "        }\n",
              "        (() => {\n",
              "          let quickchartButtonEl =\n",
              "            document.querySelector('#df-1b2e7791-453a-4ab7-b041-4e959d73747f button');\n",
              "          quickchartButtonEl.style.display =\n",
              "            google.colab.kernel.accessAllowed ? 'block' : 'none';\n",
              "        })();\n",
              "      </script>\n",
              "    </div>\n",
              "\n",
              "    </div>\n",
              "  </div>\n"
            ],
            "application/vnd.google.colaboratory.intrinsic+json": {
              "type": "dataframe"
            }
          },
          "metadata": {}
        }
      ]
    },
    {
      "cell_type": "code",
      "metadata": {
        "colab": {
          "base_uri": "https://localhost:8080/"
        },
        "id": "d3524393",
        "outputId": "71ed29e8-b61e-442c-8cb8-91195a2f180f"
      },
      "source": [
        "# Encode emotion labels and normalize EEG features\n",
        "\n",
        "label_encoder = LabelEncoder()\n",
        "df['label_encoded'] = label_encoder.fit_transform(df['label'])\n",
        "\n",
        "X = df.drop(['label', 'label_encoded'], axis=1).values\n",
        "y = df['label_encoded'].values\n",
        "\n",
        "scaler = StandardScaler()\n",
        "X_scaled = scaler.fit_transform(X)\n",
        "\n",
        "print(\"Encoded labels:\", dict(zip(label_encoder.classes_, label_encoder.transform(label_encoder.classes_))))\n",
        "print(\"Feature shape:\", X_scaled.shape)"
      ],
      "execution_count": null,
      "outputs": [
        {
          "output_type": "stream",
          "name": "stdout",
          "text": [
            "Encoded labels: {'NEGATIVE': np.int64(0), 'NEUTRAL': np.int64(1), 'POSITIVE': np.int64(2)}\n",
            "Feature shape: (2132, 2548)\n"
          ]
        }
      ]
    },
    {
      "cell_type": "code",
      "metadata": {
        "colab": {
          "base_uri": "https://localhost:8080/"
        },
        "id": "9d662eaa",
        "outputId": "f0addcc8-4dc5-4edf-b66b-d38cc7155070"
      },
      "source": [
        "# Stratified train/validation/test split\n",
        "from sklearn.model_selection import train_test_split\n",
        "\n",
        "X_train, X_temp, y_train, y_temp = train_test_split(X_scaled, y, test_size=0.3, random_state=42, stratify=y)\n",
        "X_val, X_test, y_val, y_test = train_test_split(X_temp, y_temp, test_size=0.5, random_state=42, stratify=y_temp)\n",
        "\n",
        "print(\"Train size:\", len(X_train))\n",
        "print(\"Validation size:\", len(X_val))\n",
        "print(\"Test size:\", len(X_test))"
      ],
      "execution_count": null,
      "outputs": [
        {
          "output_type": "stream",
          "name": "stdout",
          "text": [
            "Train size: 1492\n",
            "Validation size: 320\n",
            "Test size: 320\n"
          ]
        }
      ]
    },
    {
      "cell_type": "code",
      "metadata": {
        "id": "1d7d72c0"
      },
      "source": [
        "# Creating EEGDataset class and dataLoaders\n",
        "\n",
        "class EEGDataset(Dataset):\n",
        "    def __init__(self, X, y):\n",
        "        self.X = torch.tensor(X, dtype=torch.float32)\n",
        "        self.y = torch.tensor(y, dtype=torch.long)\n",
        "\n",
        "    def __len__(self):\n",
        "        return len(self.y)\n",
        "\n",
        "    def __getitem__(self, idx):\n",
        "        return self.X[idx], self.y[idx]\n",
        "\n",
        "batch_size = 64\n",
        "\n",
        "train_dataset = EEGDataset(X_train, y_train)\n",
        "val_dataset = EEGDataset(X_val, y_val)\n",
        "test_dataset = EEGDataset(X_test, y_test)\n",
        "\n",
        "train_loader = DataLoader(train_dataset, batch_size=batch_size, shuffle=True)\n",
        "val_loader = DataLoader(val_dataset, batch_size=batch_size)\n",
        "test_loader = DataLoader(test_dataset, batch_size=batch_size)"
      ],
      "execution_count": null,
      "outputs": []
    },
    {
      "cell_type": "code",
      "metadata": {
        "colab": {
          "base_uri": "https://localhost:8080/"
        },
        "id": "6c60124a",
        "outputId": "0f60fe81-7eb2-4efb-c963-b60f53c868d8"
      },
      "source": [
        "# CNN model\n",
        "\n",
        "class EEG_CNN(nn.Module):\n",
        "    def __init__(self, input_size, num_classes):\n",
        "        super(EEG_CNN, self).__init__()\n",
        "        self.conv1 = nn.Conv1d(1, 16, kernel_size=5, stride=1)\n",
        "        self.pool = nn.MaxPool1d(kernel_size=2)\n",
        "        self.conv2 = nn.Conv1d(16, 32, kernel_size=3, stride=1)\n",
        "\n",
        "        def conv1d_output_size(input_size, kernel_size, stride=1, padding=0, dilation=1):\n",
        "            return ((input_size + 2 * padding - dilation * (kernel_size - 1) - 1) // stride) + 1\n",
        "\n",
        "        c1_out_size = conv1d_output_size(input_size, kernel_size=5, stride=1)\n",
        "        p1_out_size = conv1d_output_size(c1_out_size, kernel_size=2, stride=2)\n",
        "        c2_out_size = conv1d_output_size(p1_out_size, kernel_size=3, stride=1)\n",
        "        p2_out_size = conv1d_output_size(c2_out_size, kernel_size=2, stride=2)\n",
        "\n",
        "\n",
        "        self.fc1 = nn.Linear(32 * p2_out_size, 64)\n",
        "        self.fc2 = nn.Linear(64, num_classes)\n",
        "\n",
        "\n",
        "    def forward(self, x):\n",
        "        x = x.unsqueeze(1)\n",
        "        x = self.pool(F.relu(self.conv1(x)))\n",
        "        x = self.pool(F.relu(self.conv2(x)))\n",
        "        x = x.view(x.size(0), -1)\n",
        "        x = F.relu(self.fc1(x))\n",
        "        return self.fc2(x)\n",
        "\n",
        "input_size = X_train.shape[1]\n",
        "num_classes = 3\n",
        "\n",
        "model = EEG_CNN(input_size=input_size, num_classes=num_classes)\n",
        "device = torch.device(\"cuda\" if torch.cuda.is_available() else \"cpu\")\n",
        "model.to(device)\n",
        "\n",
        "print(model)"
      ],
      "execution_count": null,
      "outputs": [
        {
          "output_type": "stream",
          "name": "stdout",
          "text": [
            "EEG_CNN(\n",
            "  (conv1): Conv1d(1, 16, kernel_size=(5,), stride=(1,))\n",
            "  (pool): MaxPool1d(kernel_size=2, stride=2, padding=0, dilation=1, ceil_mode=False)\n",
            "  (conv2): Conv1d(16, 32, kernel_size=(3,), stride=(1,))\n",
            "  (fc1): Linear(in_features=20320, out_features=64, bias=True)\n",
            "  (fc2): Linear(in_features=64, out_features=3, bias=True)\n",
            ")\n"
          ]
        }
      ]
    },
    {
      "cell_type": "code",
      "metadata": {
        "colab": {
          "base_uri": "https://localhost:8080/"
        },
        "id": "2580922e",
        "outputId": "60061ee8-9f81-4939-8448-bcf37313920e"
      },
      "source": [
        "# Training the CNN model\n",
        "\n",
        "def train_model(model, train_loader, val_loader, epochs=20, lr=0.001):\n",
        "    criterion = nn.CrossEntropyLoss()\n",
        "    optimizer = optim.Adam(model.parameters(), lr=lr)\n",
        "\n",
        "    for epoch in range(epochs):\n",
        "        model.train()\n",
        "        total_loss = 0\n",
        "        correct = 0\n",
        "\n",
        "        for inputs, labels in train_loader:\n",
        "            inputs, labels = inputs.to(device), labels.to(device)\n",
        "            optimizer.zero_grad()\n",
        "            outputs = model(inputs)\n",
        "            loss = criterion(outputs, labels)\n",
        "            loss.backward()\n",
        "            optimizer.step()\n",
        "\n",
        "            total_loss += loss.item()\n",
        "            _, predicted = torch.max(outputs, 1)\n",
        "            correct += (predicted == labels).sum().item()\n",
        "\n",
        "        train_acc = correct / len(train_loader.dataset)\n",
        "\n",
        "        # Validation\n",
        "        model.eval()\n",
        "        val_correct = 0\n",
        "        with torch.no_grad():\n",
        "            for inputs, labels in val_loader:\n",
        "                inputs, labels = inputs.to(device), labels.to(device)\n",
        "                outputs = model(inputs)\n",
        "                _, predicted = torch.max(outputs, 1)\n",
        "                val_correct += (predicted == labels).sum().item()\n",
        "\n",
        "        val_acc = val_correct / len(val_loader.dataset)\n",
        "\n",
        "        print(f\"Epoch {epoch+1}: Loss = {total_loss:.4f}, Train Acc = {train_acc:.4f}, Val Acc = {val_acc:.4f}\")\n",
        "\n",
        "train_model(model, train_loader, val_loader, epochs=20, lr=0.001)"
      ],
      "execution_count": null,
      "outputs": [
        {
          "output_type": "stream",
          "name": "stdout",
          "text": [
            "Epoch 1: Loss = 19.5367, Train Acc = 0.6836, Val Acc = 0.9031\n",
            "Epoch 2: Loss = 5.9374, Train Acc = 0.9216, Val Acc = 0.8812\n",
            "Epoch 3: Loss = 4.3596, Train Acc = 0.9229, Val Acc = 0.9406\n",
            "Epoch 4: Loss = 2.7104, Train Acc = 0.9672, Val Acc = 0.9406\n",
            "Epoch 5: Loss = 2.1600, Train Acc = 0.9732, Val Acc = 0.9469\n",
            "Epoch 6: Loss = 1.6177, Train Acc = 0.9799, Val Acc = 0.9656\n",
            "Epoch 7: Loss = 1.3130, Train Acc = 0.9866, Val Acc = 0.9625\n",
            "Epoch 8: Loss = 1.4375, Train Acc = 0.9806, Val Acc = 0.9719\n",
            "Epoch 9: Loss = 0.6796, Train Acc = 0.9960, Val Acc = 0.9625\n",
            "Epoch 10: Loss = 0.3524, Train Acc = 1.0000, Val Acc = 0.9688\n",
            "Epoch 11: Loss = 0.2722, Train Acc = 1.0000, Val Acc = 0.9625\n",
            "Epoch 12: Loss = 0.2237, Train Acc = 1.0000, Val Acc = 0.9594\n",
            "Epoch 13: Loss = 0.1857, Train Acc = 1.0000, Val Acc = 0.9750\n",
            "Epoch 14: Loss = 0.1215, Train Acc = 1.0000, Val Acc = 0.9719\n",
            "Epoch 15: Loss = 0.0965, Train Acc = 1.0000, Val Acc = 0.9594\n",
            "Epoch 16: Loss = 0.0947, Train Acc = 1.0000, Val Acc = 0.9719\n",
            "Epoch 17: Loss = 0.0689, Train Acc = 1.0000, Val Acc = 0.9656\n",
            "Epoch 18: Loss = 0.0542, Train Acc = 1.0000, Val Acc = 0.9688\n",
            "Epoch 19: Loss = 0.0448, Train Acc = 1.0000, Val Acc = 0.9719\n",
            "Epoch 20: Loss = 0.0424, Train Acc = 1.0000, Val Acc = 0.9688\n"
          ]
        }
      ]
    },
    {
      "cell_type": "code",
      "metadata": {
        "colab": {
          "base_uri": "https://localhost:8080/",
          "height": 584
        },
        "id": "4af804b9",
        "outputId": "f49793a9-dac0-48e0-dd7b-d093f50d5553"
      },
      "source": [
        "# Evaluation of model on test set\n",
        "\n",
        "model.eval()\n",
        "all_preds = []\n",
        "all_labels = []\n",
        "\n",
        "with torch.no_grad():\n",
        "    for inputs, labels in test_loader:\n",
        "        inputs, labels = inputs.to(device), labels.to(device)\n",
        "        outputs = model(inputs)\n",
        "        _, predicted = torch.max(outputs, 1)\n",
        "        all_preds.extend(predicted.cpu().numpy())\n",
        "        all_labels.extend(labels.cpu().numpy())\n",
        "\n",
        "print(classification_report(all_labels, all_preds, target_names=label_encoder.classes_))\n",
        "\n",
        "# Confusion matrix\n",
        "cm = confusion_matrix(all_labels, all_preds)\n",
        "plt.figure(figsize=(6, 4))\n",
        "sns.heatmap(cm, annot=True, fmt='d', cmap='Blues',\n",
        "            xticklabels=label_encoder.classes_, yticklabels=label_encoder.classes_)\n",
        "plt.xlabel(\"Predicted\")\n",
        "plt.ylabel(\"True\")\n",
        "plt.title(\"Confusion Matrix\")\n",
        "plt.show()"
      ],
      "execution_count": null,
      "outputs": [
        {
          "output_type": "stream",
          "name": "stdout",
          "text": [
            "              precision    recall  f1-score   support\n",
            "\n",
            "    NEGATIVE       0.97      0.99      0.98       107\n",
            "     NEUTRAL       1.00      0.97      0.99       107\n",
            "    POSITIVE       0.96      0.97      0.97       106\n",
            "\n",
            "    accuracy                           0.98       320\n",
            "   macro avg       0.98      0.98      0.98       320\n",
            "weighted avg       0.98      0.98      0.98       320\n",
            "\n"
          ]
        },
        {
          "output_type": "display_data",
          "data": {
            "text/plain": [
              "<Figure size 600x400 with 2 Axes>"
            ],
            "image/png": "[encoded data removed]"
          },
          "metadata": {}
        }
      ]
    },
    {
      "cell_type": "code",
      "metadata": {
        "colab": {
          "base_uri": "https://localhost:8080/"
        },
        "id": "a0cf85c5",
        "outputId": "9a696ae0-8a04-4200-bb07-6615cacd7aa0"
      },
      "source": [
        "# EEGNet model\n",
        "\n",
        "class EEGNet(nn.Module):\n",
        "    def __init__(self, input_size, num_classes):\n",
        "        super(EEGNet, self).__init__()\n",
        "        self.layer1 = nn.Sequential(\n",
        "            nn.Conv1d(1, 8, kernel_size=64, padding=32, bias=False),\n",
        "            nn.BatchNorm1d(8),\n",
        "            nn.Conv1d(8, 16, kernel_size=1, bias=False),\n",
        "            nn.BatchNorm1d(16),\n",
        "            nn.ELU(),\n",
        "            nn.AvgPool1d(kernel_size=4),\n",
        "            nn.Dropout(0.25)\n",
        "        )\n",
        "        self.layer2 = nn.Sequential(\n",
        "            nn.Conv1d(16, 32, kernel_size=16, padding=8, bias=False),\n",
        "            nn.BatchNorm1d(32),\n",
        "            nn.ELU(),\n",
        "            nn.AvgPool1d(kernel_size=8),\n",
        "            nn.Dropout(0.25)\n",
        "        )\n",
        "        self.fc = nn.Linear(self._get_flattened_size(input_size), num_classes)\n",
        "\n",
        "    def _get_flattened_size(self, input_size):\n",
        "        with torch.no_grad():\n",
        "            x = torch.zeros(1, 1, input_size)\n",
        "            x = self.layer1(x)\n",
        "            x = self.layer2(x)\n",
        "            return x.shape[1] * x.shape[2]\n",
        "\n",
        "    def forward(self, x):\n",
        "        x = x.unsqueeze(1)\n",
        "        x = self.layer1(x)\n",
        "        x = self.layer2(x)\n",
        "        x = x.view(x.size(0), -1)\n",
        "        return self.fc(x)\n",
        "\n",
        "# Initialization\n",
        "\n",
        "eegnet_model = EEGNet(input_size=X_train.shape[1], num_classes=3)\n",
        "eegnet_model.to(device)"
      ],
      "execution_count": null,
      "outputs": [
        {
          "output_type": "execute_result",
          "data": {
            "text/plain": [
              "EEGNet(\n",
              "  (layer1): Sequential(\n",
              "    (0): Conv1d(1, 8, kernel_size=(64,), stride=(1,), padding=(32,), bias=False)\n",
              "    (1): BatchNorm1d(8, eps=1e-05, momentum=0.1, affine=True, track_running_stats=True)\n",
              "    (2): Conv1d(8, 16, kernel_size=(1,), stride=(1,), bias=False)\n",
              "    (3): BatchNorm1d(16, eps=1e-05, momentum=0.1, affine=True, track_running_stats=True)\n",
              "    (4): ELU(alpha=1.0)\n",
              "    (5): AvgPool1d(kernel_size=(4,), stride=(4,), padding=(0,))\n",
              "    (6): Dropout(p=0.25, inplace=False)\n",
              "  )\n",
              "  (layer2): Sequential(\n",
              "    (0): Conv1d(16, 32, kernel_size=(16,), stride=(1,), padding=(8,), bias=False)\n",
              "    (1): BatchNorm1d(32, eps=1e-05, momentum=0.1, affine=True, track_running_stats=True)\n",
              "    (2): ELU(alpha=1.0)\n",
              "    (3): AvgPool1d(kernel_size=(8,), stride=(8,), padding=(0,))\n",
              "    (4): Dropout(p=0.25, inplace=False)\n",
              "  )\n",
              "  (fc): Linear(in_features=2528, out_features=3, bias=True)\n",
              ")"
            ]
          },
          "metadata": {},
          "execution_count": 18
        }
      ]
    },
    {
      "cell_type": "code",
      "metadata": {
        "colab": {
          "base_uri": "https://localhost:8080/"
        },
        "id": "e97ad095",
        "outputId": "b5a9ecb5-8151-4656-a38c-77a4324ecafc"
      },
      "source": [
        "# Training EEGNet\n",
        "train_model(eegnet_model, train_loader, val_loader, epochs=20, lr=0.001)"
      ],
      "execution_count": null,
      "outputs": [
        {
          "output_type": "stream",
          "name": "stdout",
          "text": [
            "Epoch 1: Loss = 9.3558, Train Acc = 0.8378, Val Acc = 0.8906\n",
            "Epoch 2: Loss = 4.9722, Train Acc = 0.9155, Val Acc = 0.9125\n",
            "Epoch 3: Loss = 4.3545, Train Acc = 0.9202, Val Acc = 0.9125\n",
            "Epoch 4: Loss = 3.8455, Train Acc = 0.9357, Val Acc = 0.8969\n",
            "Epoch 5: Loss = 3.7306, Train Acc = 0.9464, Val Acc = 0.9219\n",
            "Epoch 6: Loss = 3.1889, Train Acc = 0.9450, Val Acc = 0.9344\n",
            "Epoch 7: Loss = 2.9874, Train Acc = 0.9564, Val Acc = 0.9156\n",
            "Epoch 8: Loss = 2.7560, Train Acc = 0.9558, Val Acc = 0.9500\n",
            "Epoch 9: Loss = 2.5848, Train Acc = 0.9605, Val Acc = 0.9250\n",
            "Epoch 10: Loss = 2.3061, Train Acc = 0.9665, Val Acc = 0.9375\n",
            "Epoch 11: Loss = 2.3244, Train Acc = 0.9672, Val Acc = 0.9344\n",
            "Epoch 12: Loss = 2.1403, Train Acc = 0.9712, Val Acc = 0.9500\n",
            "Epoch 13: Loss = 2.0892, Train Acc = 0.9685, Val Acc = 0.9344\n",
            "Epoch 14: Loss = 1.9866, Train Acc = 0.9678, Val Acc = 0.9344\n",
            "Epoch 15: Loss = 1.6982, Train Acc = 0.9718, Val Acc = 0.9500\n",
            "Epoch 16: Loss = 2.1997, Train Acc = 0.9658, Val Acc = 0.9281\n",
            "Epoch 17: Loss = 1.8555, Train Acc = 0.9759, Val Acc = 0.9469\n",
            "Epoch 18: Loss = 1.7419, Train Acc = 0.9739, Val Acc = 0.9344\n",
            "Epoch 19: Loss = 1.4413, Train Acc = 0.9786, Val Acc = 0.9281\n",
            "Epoch 20: Loss = 1.2535, Train Acc = 0.9859, Val Acc = 0.9469\n"
          ]
        }
      ]
    },
    {
      "cell_type": "code",
      "metadata": {
        "colab": {
          "base_uri": "https://localhost:8080/",
          "height": 584
        },
        "id": "9db9e75e",
        "outputId": "2244875c-0096-4cd3-ef17-d46eeb1b3920"
      },
      "source": [
        "# Evaluation of EEGNet on test set\n",
        "eegnet_model.eval()\n",
        "all_preds = []\n",
        "all_labels = []\n",
        "\n",
        "with torch.no_grad():\n",
        "    for inputs, labels in test_loader:\n",
        "        inputs, labels = inputs.to(device), labels.to(device)\n",
        "        outputs = eegnet_model(inputs)\n",
        "        _, predicted = torch.max(outputs, 1)\n",
        "        all_preds.extend(predicted.cpu().numpy())\n",
        "        all_labels.extend(labels.cpu().numpy())\n",
        "\n",
        "print(classification_report(all_labels, all_preds, target_names=label_encoder.classes_))\n",
        "\n",
        "cm = confusion_matrix(all_labels, all_preds)\n",
        "plt.figure(figsize=(6, 4))\n",
        "sns.heatmap(cm, annot=True, fmt='d', cmap='Blues',\n",
        "            xticklabels=label_encoder.classes_, yticklabels=label_encoder.classes_)\n",
        "plt.xlabel(\"Predicted\")\n",
        "plt.ylabel(\"True\")\n",
        "plt.title(\"EEGNet – Confusion Matrix\")\n",
        "plt.show()"
      ],
      "execution_count": null,
      "outputs": [
        {
          "output_type": "stream",
          "name": "stdout",
          "text": [
            "              precision    recall  f1-score   support\n",
            "\n",
            "    NEGATIVE       0.96      0.97      0.97       107\n",
            "     NEUTRAL       0.99      0.98      0.99       107\n",
            "    POSITIVE       0.95      0.95      0.95       106\n",
            "\n",
            "    accuracy                           0.97       320\n",
            "   macro avg       0.97      0.97      0.97       320\n",
            "weighted avg       0.97      0.97      0.97       320\n",
            "\n"
          ]
        },
        {
          "output_type": "display_data",
          "data": {
            "text/plain": [
              "<Figure size 600x400 with 2 Axes>"
            ],
            "image/png": "[encoded data removed]"
          },
          "metadata": {}
        }
      ]
    },
    {
      "cell_type": "code",
      "metadata": {
        "colab": {
          "base_uri": "https://localhost:8080/"
        },
        "id": "28977026",
        "outputId": "a3ee6dd1-8bd9-45d5-e153-ccb9485b6a11"
      },
      "source": [
        "# Reshaping the features for LSTM input\n",
        "\n",
        "time_steps = 49\n",
        "features_per_step = 52\n",
        "\n",
        "X_train_seq = X_train.reshape(-1, time_steps, features_per_step)\n",
        "X_val_seq   = X_val.reshape(-1, time_steps, features_per_step)\n",
        "X_test_seq  = X_test.reshape(-1, time_steps, features_per_step)\n",
        "\n",
        "print(\"Reshaped X_train:\", X_train_seq.shape)"
      ],
      "execution_count": null,
      "outputs": [
        {
          "output_type": "stream",
          "name": "stdout",
          "text": [
            "Reshaped X_train: (1492, 49, 52)\n"
          ]
        }
      ]
    },
    {
      "cell_type": "code",
      "metadata": {
        "id": "647d59d4"
      },
      "source": [
        "# PyTorch Dataset for LSTM\n",
        "class EEGLSTMDataset(Dataset):\n",
        "    def __init__(self, X, y):\n",
        "        self.X = torch.tensor(X, dtype=torch.float32)\n",
        "        self.y = torch.tensor(y, dtype=torch.long)\n",
        "\n",
        "    def __len__(self):\n",
        "        return len(self.y)\n",
        "\n",
        "    def __getitem__(self, idx):\n",
        "        return self.X[idx], self.y[idx]\n",
        "\n",
        "batch_size = 64\n",
        "\n",
        "train_dataset_lstm = EEGLSTMDataset(X_train_seq, y_train)\n",
        "val_dataset_lstm = EEGLSTMDataset(X_val_seq, y_val)\n",
        "test_dataset_lstm = EEGLSTMDataset(X_test_seq, y_test)\n",
        "\n",
        "train_loader_lstm = DataLoader(train_dataset_lstm, batch_size=batch_size, shuffle=True)\n",
        "val_loader_lstm = DataLoader(val_dataset_lstm, batch_size=batch_size)\n",
        "test_loader_lstm = DataLoader(test_dataset_lstm, batch_size=batch_size)"
      ],
      "execution_count": null,
      "outputs": []
    },
    {
      "cell_type": "code",
      "metadata": {
        "id": "4e2902e7"
      },
      "source": [
        "# EEG_LSTM model\n",
        "\n",
        "class EEG_LSTM(nn.Module):\n",
        "    def __init__(self, input_size, hidden_size, num_layers, num_classes, dropout=0.5):\n",
        "        super(EEG_LSTM, self).__init__()\n",
        "        self.lstm = nn.LSTM(input_size, hidden_size, num_layers, batch_first=True, dropout=dropout)\n",
        "        self.fc = nn.Linear(hidden_size, num_classes)\n",
        "\n",
        "    def forward(self, x):\n",
        "        h0 = torch.zeros(self.lstm.num_layers, x.size(0), self.lstm.hidden_size).to(x.device)\n",
        "        c0 = torch.zeros(self.lstm.num_layers, x.size(0), self.lstm.hidden_size).to(x.device)\n",
        "        out, _ = self.lstm(x, (h0, c0))\n",
        "        out = out[:, -1, :]\n",
        "        out = self.fc(out)\n",
        "        return out"
      ],
      "execution_count": null,
      "outputs": []
    },
    {
      "cell_type": "code",
      "metadata": {
        "id": "da572d0c"
      },
      "source": [
        "input_size = 52\n",
        "hidden_size = 64\n",
        "num_layers = 2\n",
        "num_classes = 3\n",
        "\n",
        "model_lstm = EEG_LSTM(input_size, hidden_size, num_layers, num_classes).to(device)"
      ],
      "execution_count": null,
      "outputs": []
    },
    {
      "cell_type": "code",
      "metadata": {
        "colab": {
          "base_uri": "https://localhost:8080/"
        },
        "id": "2fdcfe51",
        "outputId": "52924558-603f-40b4-aca2-c302592c0096"
      },
      "source": [
        "# Training the LSTM model\n",
        "train_model(model_lstm, train_loader_lstm, val_loader_lstm, epochs=20, lr=0.001)"
      ],
      "execution_count": null,
      "outputs": [
        {
          "output_type": "stream",
          "name": "stdout",
          "text": [
            "Epoch 1: Loss = 23.5395, Train Acc = 0.6381, Val Acc = 0.7937\n",
            "Epoch 2: Loss = 11.1142, Train Acc = 0.8324, Val Acc = 0.9031\n",
            "Epoch 3: Loss = 6.3721, Train Acc = 0.8995, Val Acc = 0.9031\n",
            "Epoch 4: Loss = 5.3757, Train Acc = 0.9182, Val Acc = 0.9031\n",
            "Epoch 5: Loss = 4.7659, Train Acc = 0.9283, Val Acc = 0.9062\n",
            "Epoch 6: Loss = 3.9373, Train Acc = 0.9430, Val Acc = 0.9250\n",
            "Epoch 7: Loss = 3.6818, Train Acc = 0.9538, Val Acc = 0.9437\n",
            "Epoch 8: Loss = 3.4457, Train Acc = 0.9491, Val Acc = 0.9437\n",
            "Epoch 9: Loss = 3.0269, Train Acc = 0.9571, Val Acc = 0.9344\n",
            "Epoch 10: Loss = 2.6582, Train Acc = 0.9665, Val Acc = 0.9500\n",
            "Epoch 11: Loss = 2.4617, Train Acc = 0.9685, Val Acc = 0.9469\n",
            "Epoch 12: Loss = 2.2619, Train Acc = 0.9732, Val Acc = 0.9500\n",
            "Epoch 13: Loss = 2.2717, Train Acc = 0.9752, Val Acc = 0.9375\n",
            "Epoch 14: Loss = 1.8321, Train Acc = 0.9765, Val Acc = 0.9469\n",
            "Epoch 15: Loss = 1.7893, Train Acc = 0.9806, Val Acc = 0.9313\n",
            "Epoch 16: Loss = 2.3612, Train Acc = 0.9732, Val Acc = 0.9563\n",
            "Epoch 17: Loss = 1.9530, Train Acc = 0.9772, Val Acc = 0.9437\n",
            "Epoch 18: Loss = 1.9320, Train Acc = 0.9772, Val Acc = 0.9469\n",
            "Epoch 19: Loss = 1.7339, Train Acc = 0.9826, Val Acc = 0.9437\n",
            "Epoch 20: Loss = 1.5923, Train Acc = 0.9799, Val Acc = 0.9531\n"
          ]
        }
      ]
    },
    {
      "cell_type": "code",
      "metadata": {
        "colab": {
          "base_uri": "https://localhost:8080/",
          "height": 584
        },
        "id": "61a2393e",
        "outputId": "d15f3b45-555f-426a-9cb3-4f4eb9aa02e3"
      },
      "source": [
        "# Evaluation of LSTM on Test set\n",
        "model_lstm.eval()\n",
        "all_preds = []\n",
        "all_labels = []\n",
        "\n",
        "with torch.no_grad():\n",
        "    for inputs, labels in test_loader_lstm:\n",
        "        inputs, labels = inputs.to(device), labels.to(device)\n",
        "        outputs = model_lstm(inputs)\n",
        "        _, predicted = torch.max(outputs, 1)\n",
        "        all_preds.extend(predicted.cpu().numpy())\n",
        "        all_labels.extend(labels.cpu().numpy())\n",
        "\n",
        "print(classification_report(all_labels, all_preds, target_names=label_encoder.classes_))\n",
        "\n",
        "cm = confusion_matrix(all_labels, all_preds)\n",
        "plt.figure(figsize=(6, 4))\n",
        "sns.heatmap(cm, annot=True, fmt='d', cmap='Blues',\n",
        "            xticklabels=label_encoder.classes_, yticklabels=label_encoder.classes_)\n",
        "plt.xlabel(\"Predicted\")\n",
        "plt.ylabel(\"True\")\n",
        "plt.title(\"LSTM – Confusion Matrix\")\n",
        "plt.show()"
      ],
      "execution_count": null,
      "outputs": [
        {
          "output_type": "stream",
          "name": "stdout",
          "text": [
            "              precision    recall  f1-score   support\n",
            "\n",
            "    NEGATIVE       0.93      0.94      0.94       107\n",
            "     NEUTRAL       0.97      0.97      0.97       107\n",
            "    POSITIVE       0.91      0.90      0.90       106\n",
            "\n",
            "    accuracy                           0.94       320\n",
            "   macro avg       0.94      0.94      0.94       320\n",
            "weighted avg       0.94      0.94      0.94       320\n",
            "\n"
          ]
        },
        {
          "output_type": "display_data",
          "data": {
            "text/plain": [
              "<Figure size 600x400 with 2 Axes>"
            ],
            "image/png": "[encoded data removed]"
          },
          "metadata": {}
        }
      ]
    },
    {
      "cell_type": "code",
      "metadata": {
        "id": "a4bfbb9a"
      },
      "source": [
        "# Defining a Smaller Student Model\n",
        "class StudentCNN(nn.Module):\n",
        "    def __init__(self, input_size, num_classes):\n",
        "        super(StudentCNN, self).__init__()\n",
        "        self.conv = nn.Conv1d(1, 8, kernel_size=5, stride=1)\n",
        "        self.pool = nn.MaxPool1d(2)\n",
        "\n",
        "        def conv1d_output_size(input_size, kernel_size, stride=1, padding=0, dilation=1):\n",
        "            return ((input_size + 2 * padding - dilation * (kernel_size - 1) - 1) // stride) + 1\n",
        "\n",
        "        c1_out_size = conv1d_output_size(input_size, kernel_size=5, stride=1)\n",
        "        p1_out_size = conv1d_output_size(c1_out_size, kernel_size=2, stride=2)\n",
        "\n",
        "        self.fc1 = nn.Linear(8 * p1_out_size, 32)\n",
        "        self.fc2 = nn.Linear(32, num_classes)\n",
        "\n",
        "    def forward(self, x):\n",
        "        x = x.unsqueeze(1)\n",
        "        x = self.pool(F.relu(self.conv(x)))\n",
        "        x = x.view(x.size(0), -1)\n",
        "        x = F.relu(self.fc1(x))\n",
        "        return self.fc2(x)\n",
        "\n",
        "student_model = StudentCNN(input_size=X_train.shape[1], num_classes=3).to(device)"
      ],
      "execution_count": null,
      "outputs": []
    },
    {
      "cell_type": "code",
      "metadata": {
        "id": "873713b3"
      },
      "source": [
        "# Distillation Loss Function\n",
        "def distillation_loss(y_student, y_teacher, y_true, temperature=4, alpha=0.7):\n",
        "    \"\"\"\n",
        "    y_student: logits from student\n",
        "    y_teacher: logits from teacher\n",
        "    y_true: true labels\n",
        "    temperature: softening temperature\n",
        "    alpha: weight for soft loss\n",
        "    \"\"\"\n",
        "    soft_loss = nn.KLDivLoss()(F.log_softmax(y_student/temperature, dim=1),\n",
        "                               F.softmax(y_teacher/temperature, dim=1)) * (temperature**2)\n",
        "    hard_loss = F.cross_entropy(y_student, y_true)\n",
        "    return alpha * soft_loss + (1 - alpha) * hard_loss"
      ],
      "execution_count": null,
      "outputs": []
    },
    {
      "cell_type": "code",
      "metadata": {
        "id": "0b1d03bf"
      },
      "source": [
        "# Training Student with distillation\n",
        "def train_distillation(student_model, teacher_model, train_loader, val_loader, epochs=20, lr=0.001):\n",
        "    optimizer = optim.Adam(student_model.parameters(), lr=lr)\n",
        "    teacher_model.eval()\n",
        "\n",
        "    for epoch in range(epochs):\n",
        "        student_model.train()\n",
        "        total_loss = 0\n",
        "        correct = 0\n",
        "\n",
        "        for inputs, labels in train_loader:\n",
        "            inputs, labels = inputs.to(device), labels.to(device)\n",
        "\n",
        "            with torch.no_grad():\n",
        "                teacher_outputs = teacher_model(inputs)\n",
        "\n",
        "            optimizer.zero_grad()\n",
        "            student_outputs = student_model(inputs)\n",
        "\n",
        "            loss = distillation_loss(student_outputs, teacher_outputs, labels)\n",
        "            loss.backward()\n",
        "            optimizer.step()\n",
        "\n",
        "            total_loss += loss.item()\n",
        "            _, predicted = torch.max(student_outputs, 1)\n",
        "            correct += (predicted == labels).sum().item()\n",
        "\n",
        "        train_acc = correct / len(train_loader.dataset)\n",
        "\n",
        "        # Validation\n",
        "        student_model.eval()\n",
        "        val_correct = 0\n",
        "        with torch.no_grad():\n",
        "            for inputs, labels in val_loader:\n",
        "                inputs, labels = inputs.to(device), labels.to(device)\n",
        "                outputs = student_model(inputs)\n",
        "                _, predicted = torch.max(outputs, 1)\n",
        "                val_correct += (predicted == labels).sum().item()\n",
        "\n",
        "        val_acc = val_correct / len(val_loader.dataset)\n",
        "\n",
        "        print(f\"Epoch {epoch+1}: Loss = {total_loss:.4f}, Train Acc = {train_acc:.4f}, Val Acc = {val_acc:.4f}\")"
      ],
      "execution_count": null,
      "outputs": []
    },
    {
      "cell_type": "code",
      "metadata": {
        "colab": {
          "base_uri": "https://localhost:8080/"
        },
        "id": "eb9d2fe1",
        "outputId": "7a5895d5-3b10-4da2-a8c6-37c0db5a949f"
      },
      "source": [
        "# distillation training\n",
        "train_distillation(student_model, model, train_loader, val_loader, epochs=20, lr=0.001)"
      ],
      "execution_count": null,
      "outputs": [
        {
          "output_type": "stream",
          "name": "stderr",
          "text": [
            "/usr/local/lib/python3.11/dist-packages/torch/nn/functional.py:3384: UserWarning: reduction: 'mean' divides the total loss by both the batch size and the support size.'batchmean' divides only by the batch size, and aligns with the KL div math definition.'mean' will be changed to behave the same as 'batchmean' in the next major release.\n",
            "  warnings.warn(\n",
            "/usr/local/lib/python3.11/dist-packages/torch/nn/functional.py:3384: UserWarning: reduction: 'mean' divides the total loss by both the batch size and the support size.'batchmean' divides only by the batch size, and aligns with the KL div math definition.'mean' will be changed to behave the same as 'batchmean' in the next major release.\n",
            "  warnings.warn(\n"
          ]
        },
        {
          "output_type": "stream",
          "name": "stdout",
          "text": [
            "Epoch 1: Loss = 36.8715, Train Acc = 0.7869, Val Acc = 0.8375\n"
          ]
        },
        {
          "output_type": "stream",
          "name": "stderr",
          "text": [
            "/usr/local/lib/python3.11/dist-packages/torch/nn/functional.py:3384: UserWarning: reduction: 'mean' divides the total loss by both the batch size and the support size.'batchmean' divides only by the batch size, and aligns with the KL div math definition.'mean' will be changed to behave the same as 'batchmean' in the next major release.\n",
            "  warnings.warn(\n"
          ]
        },
        {
          "output_type": "stream",
          "name": "stdout",
          "text": [
            "Epoch 2: Loss = 12.2677, Train Acc = 0.9189, Val Acc = 0.9313\n"
          ]
        },
        {
          "output_type": "stream",
          "name": "stderr",
          "text": [
            "/usr/local/lib/python3.11/dist-packages/torch/nn/functional.py:3384: UserWarning: reduction: 'mean' divides the total loss by both the batch size and the support size.'batchmean' divides only by the batch size, and aligns with the KL div math definition.'mean' will be changed to behave the same as 'batchmean' in the next major release.\n",
            "  warnings.warn(\n",
            "/usr/local/lib/python3.11/dist-packages/torch/nn/functional.py:3384: UserWarning: reduction: 'mean' divides the total loss by both the batch size and the support size.'batchmean' divides only by the batch size, and aligns with the KL div math definition.'mean' will be changed to behave the same as 'batchmean' in the next major release.\n",
            "  warnings.warn(\n"
          ]
        },
        {
          "output_type": "stream",
          "name": "stdout",
          "text": [
            "Epoch 3: Loss = 6.1282, Train Acc = 0.9544, Val Acc = 0.9437\n"
          ]
        },
        {
          "output_type": "stream",
          "name": "stderr",
          "text": [
            "/usr/local/lib/python3.11/dist-packages/torch/nn/functional.py:3384: UserWarning: reduction: 'mean' divides the total loss by both the batch size and the support size.'batchmean' divides only by the batch size, and aligns with the KL div math definition.'mean' will be changed to behave the same as 'batchmean' in the next major release.\n",
            "  warnings.warn(\n"
          ]
        },
        {
          "output_type": "stream",
          "name": "stdout",
          "text": [
            "Epoch 4: Loss = 4.0053, Train Acc = 0.9685, Val Acc = 0.9531\n"
          ]
        },
        {
          "output_type": "stream",
          "name": "stderr",
          "text": [
            "/usr/local/lib/python3.11/dist-packages/torch/nn/functional.py:3384: UserWarning: reduction: 'mean' divides the total loss by both the batch size and the support size.'batchmean' divides only by the batch size, and aligns with the KL div math definition.'mean' will be changed to behave the same as 'batchmean' in the next major release.\n",
            "  warnings.warn(\n",
            "/usr/local/lib/python3.11/dist-packages/torch/nn/functional.py:3384: UserWarning: reduction: 'mean' divides the total loss by both the batch size and the support size.'batchmean' divides only by the batch size, and aligns with the KL div math definition.'mean' will be changed to behave the same as 'batchmean' in the next major release.\n",
            "  warnings.warn(\n"
          ]
        },
        {
          "output_type": "stream",
          "name": "stdout",
          "text": [
            "Epoch 5: Loss = 3.3945, Train Acc = 0.9772, Val Acc = 0.9563\n"
          ]
        },
        {
          "output_type": "stream",
          "name": "stderr",
          "text": [
            "/usr/local/lib/python3.11/dist-packages/torch/nn/functional.py:3384: UserWarning: reduction: 'mean' divides the total loss by both the batch size and the support size.'batchmean' divides only by the batch size, and aligns with the KL div math definition.'mean' will be changed to behave the same as 'batchmean' in the next major release.\n",
            "  warnings.warn(\n",
            "/usr/local/lib/python3.11/dist-packages/torch/nn/functional.py:3384: UserWarning: reduction: 'mean' divides the total loss by both the batch size and the support size.'batchmean' divides only by the batch size, and aligns with the KL div math definition.'mean' will be changed to behave the same as 'batchmean' in the next major release.\n",
            "  warnings.warn(\n"
          ]
        },
        {
          "output_type": "stream",
          "name": "stdout",
          "text": [
            "Epoch 6: Loss = 2.5865, Train Acc = 0.9812, Val Acc = 0.9187\n"
          ]
        },
        {
          "output_type": "stream",
          "name": "stderr",
          "text": [
            "/usr/local/lib/python3.11/dist-packages/torch/nn/functional.py:3384: UserWarning: reduction: 'mean' divides the total loss by both the batch size and the support size.'batchmean' divides only by the batch size, and aligns with the KL div math definition.'mean' will be changed to behave the same as 'batchmean' in the next major release.\n",
            "  warnings.warn(\n",
            "/usr/local/lib/python3.11/dist-packages/torch/nn/functional.py:3384: UserWarning: reduction: 'mean' divides the total loss by both the batch size and the support size.'batchmean' divides only by the batch size, and aligns with the KL div math definition.'mean' will be changed to behave the same as 'batchmean' in the next major release.\n",
            "  warnings.warn(\n"
          ]
        },
        {
          "output_type": "stream",
          "name": "stdout",
          "text": [
            "Epoch 7: Loss = 2.2707, Train Acc = 0.9799, Val Acc = 0.9531\n"
          ]
        },
        {
          "output_type": "stream",
          "name": "stderr",
          "text": [
            "/usr/local/lib/python3.11/dist-packages/torch/nn/functional.py:3384: UserWarning: reduction: 'mean' divides the total loss by both the batch size and the support size.'batchmean' divides only by the batch size, and aligns with the KL div math definition.'mean' will be changed to behave the same as 'batchmean' in the next major release.\n",
            "  warnings.warn(\n",
            "/usr/local/lib/python3.11/dist-packages/torch/nn/functional.py:3384: UserWarning: reduction: 'mean' divides the total loss by both the batch size and the support size.'batchmean' divides only by the batch size, and aligns with the KL div math definition.'mean' will be changed to behave the same as 'batchmean' in the next major release.\n",
            "  warnings.warn(\n"
          ]
        },
        {
          "output_type": "stream",
          "name": "stdout",
          "text": [
            "Epoch 8: Loss = 1.3544, Train Acc = 0.9893, Val Acc = 0.9563\n"
          ]
        },
        {
          "output_type": "stream",
          "name": "stderr",
          "text": [
            "/usr/local/lib/python3.11/dist-packages/torch/nn/functional.py:3384: UserWarning: reduction: 'mean' divides the total loss by both the batch size and the support size.'batchmean' divides only by the batch size, and aligns with the KL div math definition.'mean' will be changed to behave the same as 'batchmean' in the next major release.\n",
            "  warnings.warn(\n",
            "/usr/local/lib/python3.11/dist-packages/torch/nn/functional.py:3384: UserWarning: reduction: 'mean' divides the total loss by both the batch size and the support size.'batchmean' divides only by the batch size, and aligns with the KL div math definition.'mean' will be changed to behave the same as 'batchmean' in the next major release.\n",
            "  warnings.warn(\n"
          ]
        },
        {
          "output_type": "stream",
          "name": "stdout",
          "text": [
            "Epoch 9: Loss = 1.0875, Train Acc = 0.9920, Val Acc = 0.9594\n"
          ]
        },
        {
          "output_type": "stream",
          "name": "stderr",
          "text": [
            "/usr/local/lib/python3.11/dist-packages/torch/nn/functional.py:3384: UserWarning: reduction: 'mean' divides the total loss by both the batch size and the support size.'batchmean' divides only by the batch size, and aligns with the KL div math definition.'mean' will be changed to behave the same as 'batchmean' in the next major release.\n",
            "  warnings.warn(\n",
            "/usr/local/lib/python3.11/dist-packages/torch/nn/functional.py:3384: UserWarning: reduction: 'mean' divides the total loss by both the batch size and the support size.'batchmean' divides only by the batch size, and aligns with the KL div math definition.'mean' will be changed to behave the same as 'batchmean' in the next major release.\n",
            "  warnings.warn(\n"
          ]
        },
        {
          "output_type": "stream",
          "name": "stdout",
          "text": [
            "Epoch 10: Loss = 0.8711, Train Acc = 0.9926, Val Acc = 0.9594\n"
          ]
        },
        {
          "output_type": "stream",
          "name": "stderr",
          "text": [
            "/usr/local/lib/python3.11/dist-packages/torch/nn/functional.py:3384: UserWarning: reduction: 'mean' divides the total loss by both the batch size and the support size.'batchmean' divides only by the batch size, and aligns with the KL div math definition.'mean' will be changed to behave the same as 'batchmean' in the next major release.\n",
            "  warnings.warn(\n",
            "/usr/local/lib/python3.11/dist-packages/torch/nn/functional.py:3384: UserWarning: reduction: 'mean' divides the total loss by both the batch size and the support size.'batchmean' divides only by the batch size, and aligns with the KL div math definition.'mean' will be changed to behave the same as 'batchmean' in the next major release.\n",
            "  warnings.warn(\n"
          ]
        },
        {
          "output_type": "stream",
          "name": "stdout",
          "text": [
            "Epoch 11: Loss = 0.7155, Train Acc = 0.9966, Val Acc = 0.9625\n"
          ]
        },
        {
          "output_type": "stream",
          "name": "stderr",
          "text": [
            "/usr/local/lib/python3.11/dist-packages/torch/nn/functional.py:3384: UserWarning: reduction: 'mean' divides the total loss by both the batch size and the support size.'batchmean' divides only by the batch size, and aligns with the KL div math definition.'mean' will be changed to behave the same as 'batchmean' in the next major release.\n",
            "  warnings.warn(\n"
          ]
        },
        {
          "output_type": "stream",
          "name": "stdout",
          "text": [
            "Epoch 12: Loss = 0.5978, Train Acc = 0.9973, Val Acc = 0.9656\n"
          ]
        },
        {
          "output_type": "stream",
          "name": "stderr",
          "text": [
            "/usr/local/lib/python3.11/dist-packages/torch/nn/functional.py:3384: UserWarning: reduction: 'mean' divides the total loss by both the batch size and the support size.'batchmean' divides only by the batch size, and aligns with the KL div math definition.'mean' will be changed to behave the same as 'batchmean' in the next major release.\n",
            "  warnings.warn(\n",
            "/usr/local/lib/python3.11/dist-packages/torch/nn/functional.py:3384: UserWarning: reduction: 'mean' divides the total loss by both the batch size and the support size.'batchmean' divides only by the batch size, and aligns with the KL div math definition.'mean' will be changed to behave the same as 'batchmean' in the next major release.\n",
            "  warnings.warn(\n"
          ]
        },
        {
          "output_type": "stream",
          "name": "stdout",
          "text": [
            "Epoch 13: Loss = 0.4587, Train Acc = 0.9993, Val Acc = 0.9625\n"
          ]
        },
        {
          "output_type": "stream",
          "name": "stderr",
          "text": [
            "/usr/local/lib/python3.11/dist-packages/torch/nn/functional.py:3384: UserWarning: reduction: 'mean' divides the total loss by both the batch size and the support size.'batchmean' divides only by the batch size, and aligns with the KL div math definition.'mean' will be changed to behave the same as 'batchmean' in the next major release.\n",
            "  warnings.warn(\n"
          ]
        },
        {
          "output_type": "stream",
          "name": "stdout",
          "text": [
            "Epoch 14: Loss = 0.3991, Train Acc = 0.9993, Val Acc = 0.9656\n"
          ]
        },
        {
          "output_type": "stream",
          "name": "stderr",
          "text": [
            "/usr/local/lib/python3.11/dist-packages/torch/nn/functional.py:3384: UserWarning: reduction: 'mean' divides the total loss by both the batch size and the support size.'batchmean' divides only by the batch size, and aligns with the KL div math definition.'mean' will be changed to behave the same as 'batchmean' in the next major release.\n",
            "  warnings.warn(\n",
            "/usr/local/lib/python3.11/dist-packages/torch/nn/functional.py:3384: UserWarning: reduction: 'mean' divides the total loss by both the batch size and the support size.'batchmean' divides only by the batch size, and aligns with the KL div math definition.'mean' will be changed to behave the same as 'batchmean' in the next major release.\n",
            "  warnings.warn(\n"
          ]
        },
        {
          "output_type": "stream",
          "name": "stdout",
          "text": [
            "Epoch 15: Loss = 0.3952, Train Acc = 0.9993, Val Acc = 0.9656\n"
          ]
        },
        {
          "output_type": "stream",
          "name": "stderr",
          "text": [
            "/usr/local/lib/python3.11/dist-packages/torch/nn/functional.py:3384: UserWarning: reduction: 'mean' divides the total loss by both the batch size and the support size.'batchmean' divides only by the batch size, and aligns with the KL div math definition.'mean' will be changed to behave the same as 'batchmean' in the next major release.\n",
            "  warnings.warn(\n"
          ]
        },
        {
          "output_type": "stream",
          "name": "stdout",
          "text": [
            "Epoch 16: Loss = 0.3081, Train Acc = 0.9993, Val Acc = 0.9656\n"
          ]
        },
        {
          "output_type": "stream",
          "name": "stderr",
          "text": [
            "/usr/local/lib/python3.11/dist-packages/torch/nn/functional.py:3384: UserWarning: reduction: 'mean' divides the total loss by both the batch size and the support size.'batchmean' divides only by the batch size, and aligns with the KL div math definition.'mean' will be changed to behave the same as 'batchmean' in the next major release.\n",
            "  warnings.warn(\n",
            "/usr/local/lib/python3.11/dist-packages/torch/nn/functional.py:3384: UserWarning: reduction: 'mean' divides the total loss by both the batch size and the support size.'batchmean' divides only by the batch size, and aligns with the KL div math definition.'mean' will be changed to behave the same as 'batchmean' in the next major release.\n",
            "  warnings.warn(\n"
          ]
        },
        {
          "output_type": "stream",
          "name": "stdout",
          "text": [
            "Epoch 17: Loss = 0.2719, Train Acc = 0.9993, Val Acc = 0.9656\n"
          ]
        },
        {
          "output_type": "stream",
          "name": "stderr",
          "text": [
            "/usr/local/lib/python3.11/dist-packages/torch/nn/functional.py:3384: UserWarning: reduction: 'mean' divides the total loss by both the batch size and the support size.'batchmean' divides only by the batch size, and aligns with the KL div math definition.'mean' will be changed to behave the same as 'batchmean' in the next major release.\n",
            "  warnings.warn(\n",
            "/usr/local/lib/python3.11/dist-packages/torch/nn/functional.py:3384: UserWarning: reduction: 'mean' divides the total loss by both the batch size and the support size.'batchmean' divides only by the batch size, and aligns with the KL div math definition.'mean' will be changed to behave the same as 'batchmean' in the next major release.\n",
            "  warnings.warn(\n"
          ]
        },
        {
          "output_type": "stream",
          "name": "stdout",
          "text": [
            "Epoch 18: Loss = 0.2631, Train Acc = 1.0000, Val Acc = 0.9656\n"
          ]
        },
        {
          "output_type": "stream",
          "name": "stderr",
          "text": [
            "/usr/local/lib/python3.11/dist-packages/torch/nn/functional.py:3384: UserWarning: reduction: 'mean' divides the total loss by both the batch size and the support size.'batchmean' divides only by the batch size, and aligns with the KL div math definition.'mean' will be changed to behave the same as 'batchmean' in the next major release.\n",
            "  warnings.warn(\n",
            "/usr/local/lib/python3.11/dist-packages/torch/nn/functional.py:3384: UserWarning: reduction: 'mean' divides the total loss by both the batch size and the support size.'batchmean' divides only by the batch size, and aligns with the KL div math definition.'mean' will be changed to behave the same as 'batchmean' in the next major release.\n",
            "  warnings.warn(\n"
          ]
        },
        {
          "output_type": "stream",
          "name": "stdout",
          "text": [
            "Epoch 19: Loss = 0.2131, Train Acc = 1.0000, Val Acc = 0.9656\n"
          ]
        },
        {
          "output_type": "stream",
          "name": "stderr",
          "text": [
            "/usr/local/lib/python3.11/dist-packages/torch/nn/functional.py:3384: UserWarning: reduction: 'mean' divides the total loss by both the batch size and the support size.'batchmean' divides only by the batch size, and aligns with the KL div math definition.'mean' will be changed to behave the same as 'batchmean' in the next major release.\n",
            "  warnings.warn(\n"
          ]
        },
        {
          "output_type": "stream",
          "name": "stdout",
          "text": [
            "Epoch 20: Loss = 0.2089, Train Acc = 1.0000, Val Acc = 0.9688\n"
          ]
        },
        {
          "output_type": "stream",
          "name": "stderr",
          "text": [
            "/usr/local/lib/python3.11/dist-packages/torch/nn/functional.py:3384: UserWarning: reduction: 'mean' divides the total loss by both the batch size and the support size.'batchmean' divides only by the batch size, and aligns with the KL div math definition.'mean' will be changed to behave the same as 'batchmean' in the next major release.\n",
            "  warnings.warn(\n"
          ]
        }
      ]
    },
    {
      "cell_type": "code",
      "metadata": {
        "colab": {
          "base_uri": "https://localhost:8080/",
          "height": 584
        },
        "id": "373357a8",
        "outputId": "092393a5-950a-4301-dfa5-f9fca5bc559a"
      },
      "source": [
        "# Evaluating distilled Student model on test Set\n",
        "student_model.eval()\n",
        "all_preds = []\n",
        "all_labels = []\n",
        "\n",
        "with torch.no_grad():\n",
        "    for inputs, labels in test_loader:\n",
        "        inputs, labels = inputs.to(device), labels.to(device)\n",
        "        outputs = student_model(inputs)\n",
        "        _, predicted = torch.max(outputs, 1)\n",
        "        all_preds.extend(predicted.cpu().numpy())\n",
        "        all_labels.extend(labels.cpu().numpy())\n",
        "\n",
        "print(classification_report(all_labels, all_preds, target_names=label_encoder.classes_))\n",
        "\n",
        "cm = confusion_matrix(all_labels, all_preds)\n",
        "plt.figure(figsize=(6, 4))\n",
        "sns.heatmap(cm, annot=True, fmt='d', cmap='Blues',\n",
        "            xticklabels=label_encoder.classes_, yticklabels=label_encoder.classes_)\n",
        "plt.xlabel(\"Predicted\")\n",
        "plt.ylabel(\"True\")\n",
        "plt.title(\"Distilled Student Model – Confusion Matrix\")\n",
        "plt.show()"
      ],
      "execution_count": null,
      "outputs": [
        {
          "output_type": "stream",
          "name": "stdout",
          "text": [
            "              precision    recall  f1-score   support\n",
            "\n",
            "    NEGATIVE       0.95      0.99      0.97       107\n",
            "     NEUTRAL       1.00      0.97      0.99       107\n",
            "    POSITIVE       0.96      0.94      0.95       106\n",
            "\n",
            "    accuracy                           0.97       320\n",
            "   macro avg       0.97      0.97      0.97       320\n",
            "weighted avg       0.97      0.97      0.97       320\n",
            "\n"
          ]
        },
        {
          "output_type": "display_data",
          "data": {
            "text/plain": [
              "<Figure size 600x400 with 2 Axes>"
            ],
            "image/png": "[encoded data removed]"
          },
          "metadata": {}
        }
      ]
    },
    {
      "cell_type": "code",
      "metadata": {
        "colab": {
          "base_uri": "https://localhost:8080/"
        },
        "id": "1168fad2",
        "outputId": "2c94dfb3-9352-4b93-8cce-c55c7a1c9b41"
      },
      "source": [
        "model_results = {\n",
        "    'Model': ['1D CNN (Teacher)', 'EEGNet', 'LSTM', 'Distilled CNN'],\n",
        "    'Test Accuracy': [0.98, 0.96, 0.93, 0.97],\n",
        "    'Macro F1 Score': [0.98, 0.96, 0.93, 0.97],\n",
        "    'Notes': [\n",
        "        'Largest model, highest accuracy',\n",
        "        'EEG-specific, compact',\n",
        "        'Temporal dynamics captured',\n",
        "        'Smallest, nearly same accuracy'\n",
        "    ]\n",
        "}\n",
        "\n",
        "results_df = pd.DataFrame(model_results)\n",
        "print(results_df)"
      ],
      "execution_count": null,
      "outputs": [
        {
          "output_type": "stream",
          "name": "stdout",
          "text": [
            "              Model  Test Accuracy  Macro F1 Score  \\\n",
            "0  1D CNN (Teacher)           0.98            0.98   \n",
            "1            EEGNet           0.96            0.96   \n",
            "2              LSTM           0.93            0.93   \n",
            "3     Distilled CNN           0.97            0.97   \n",
            "\n",
            "                             Notes  \n",
            "0  Largest model, highest accuracy  \n",
            "1            EEG-specific, compact  \n",
            "2       Temporal dynamics captured  \n",
            "3   Smallest, nearly same accuracy  \n"
          ]
        }
      ]
    },
    {
      "cell_type": "code",
      "metadata": {
        "colab": {
          "base_uri": "https://localhost:8080/",
          "height": 499
        },
        "id": "383281f9",
        "outputId": "7ec64d00-fe45-4ced-adbe-b62c24a025ba"
      },
      "source": [
        "plt.figure(figsize=(8,5))\n",
        "plt.bar(results_df['Model'], results_df['Test Accuracy'], color=['blue', 'orange', 'green', 'red'])\n",
        "plt.ylim([0.9, 1.0])\n",
        "plt.title('Test Accuracy Comparison of Models')\n",
        "plt.ylabel('Accuracy')\n",
        "plt.xticks(rotation=15)\n",
        "plt.grid(axis='y')\n",
        "plt.show()"
      ],
      "execution_count": null,
      "outputs": [
        {
          "output_type": "display_data",
          "data": {
            "text/plain": [
              "<Figure size 800x500 with 1 Axes>"
            ],
            "image/png": "[encoded data removed]"
          },
          "metadata": {}
        }
      ]
    },
    {
      "cell_type": "code",
      "metadata": {
        "colab": {
          "base_uri": "https://localhost:8080/",
          "height": 504,
          "referenced_widgets": [
            "d3cc05e85b3f4681b6c91b815985bb0b",
            "2bed110dbb1f48db91672883a95314f7",
            "230b6f79536340babade95a8d6478b11",
            "80225dc1596345ba95e42d33afd07302",
            "9fd652470cda44518d11da40a68e4d81",
            "0e2ad4cd0af14976a84b363bfcf9eb36",
            "2d6edbee47f34d988122d8bf2643351e",
            "dc5af2216635427bb7d54a0f6a918faa",
            "017e51cb9cf644d9b882b678a890eaa6",
            "0022503dd4904159b58696eec258de65",
            "e598745073374c9085251b1cabcf5a26",
            "6563f55200174d888f979ed78b9e1d9a",
            "cd445d0c7fc945c6bef482f974e733cc",
            "2ecbb05f91624a21ba879c94e9e18437",
            "a060b76c5b8941d7b36abc9f110e5f25",
            "29eb16e226564795ac7af170f1002818",
            "41a185c3268f4d92be18ca24a159518d",
            "f82830464b334840a4887fd15b93d86c",
            "954cbca27a6e4892aea4a73463ba1d02",
            "af563d68055e4e8aad9947db82cedd80",
            "1a35a4d6d44f49fe982cb82287d18044",
            "891c9114a1da48a4b6e2bceb868ca85a",
            "39787094b15244aeabfe12d78aea1613",
            "6ecd09fcd0794ade87e55a5225d2a50b",
            "3e5c871d338240a281cb61f6fcf479e0",
            "9ce45c9269ae4a9187772d295069999c",
            "a4d415e1f9094fc9b024667ca8e7786a",
            "3d9c9aba75084f7b80283c5e6c2350ce",
            "73a55fa5c2014636b3f57980348aaceb",
            "778cb56c6c314eb495d257f0ea4d3076",
            "b7010ba5bbee41a29453dab6f34aef06",
            "54d765c5a0584c8fbbbffdac42ab2aa9",
            "530d7359ab9d4924ad96dc404c8926a9",
            "1b8c9148dd4e46eaa17ef3c38370601b",
            "00183ea7182d4058af2c1def61e0a7d0",
            "e81de557742647db981a8409f71a53b4",
            "0c84301368f64c3aa7eb0ff96d2d2219",
            "0cbb147d28fb49afb42c50b47bea88e9",
            "c9e77ccf4ff14ca18f9902dcd29a4954",
            "d4bdeebd2d6444178ffeb3be520def4f",
            "6bf287df40234b20922ddd8ba707ffd1",
            "f475e34e29e54251902840f0683ec719",
            "ab560c63850f4dd08b2fcb5c83f6355b",
            "4d172a3361194a2cbc47e78e5fb801e8",
            "11ce8133b81a4089a89971d63d4b0487",
            "4cbf56b767f74147ba00ff465a859ff7",
            "189c6ccc53ea4c2581f3b821d630a6a5",
            "188697dc61484f02bec8a7c52aae7f66",
            "885580687b8f4a5ea2dd2f5d7e0976c0",
            "dcb631a3ba034096a3b288af3620441f",
            "5eb812f18ab6410abf4eae8298b2c0db",
            "c7202fcd54234a6ea1e35d09c00a8531",
            "b1c6aa0a30f5414c8b0b357acfc3bfab",
            "ffe0ca2745b049dc9582a64de229963d",
            "758817129ad34860bcda5ba848734130",
            "3ac657f9e4e845c388c3082fceb479eb",
            "b49f693fffe04f4d9189eb9ffe442cdf",
            "d43fe033393042f5a13c972f8620a30d",
            "5a5051121bc74d5796bf4913443efdbc",
            "c22e9635fbfe40bc881efc9232100940",
            "edbcfd10f62d4667b7bf713a691cdef3",
            "271eed7fdd744297b6f135562dbe48b6",
            "6448fdf153154e93b33fc41c55d1cc6b",
            "1de47a457ce74c81977d354db4a98b75",
            "847875808f5b423283f2151c574b927e",
            "5d1a5a066a984ad68503ee6759032100",
            "5f8b61475b2a4711b198b213dbff9765",
            "b053854e18254b1baf66314bb3c72899",
            "479b5b0e375f4d7d96b25efa826f71ce",
            "177733c6ea0846e29deb49978596f973",
            "63ee20a26f964e3da54e7d8e26390d5a",
            "09364047481a49b6adf375b663ba884a",
            "eafd9ba0fb7f4cf0a97eb3be12826cfe",
            "10c6f115855745b7aa8553ffae81ea6b",
            "99a57adfadfe44bf8e2c01ae32f56a7b",
            "f7b75cee7cbb4ef1b1682ba09dc2fc06",
            "a9f61f497cec4e7684c722e8e045ca91"
          ]
        },
        "id": "3ceb93d9",
        "outputId": "d2d8490a-66e5-4703-a21f-1133ea54896c"
      },
      "source": [
        "# GPT-2 Text Generation\n",
        "tokenizer = GPT2Tokenizer.from_pretrained(\"gpt2\")\n",
        "model_gpt2 = GPT2LMHeadModel.from_pretrained(\"gpt2\")\n",
        "model_gpt2.eval()\n",
        "\n",
        "def generate_sentence_gpt2(emotion_label, max_length=30):\n",
        "    prompt = f\"The person is feeling {emotion_label.lower()}. Encourage them with a helpful sentence:\"\n",
        "    input_ids = tokenizer.encode(prompt, return_tensors='pt')\n",
        "\n",
        "    with torch.no_grad():\n",
        "        output = model_gpt2.generate(\n",
        "            input_ids,\n",
        "            max_length=max_length,\n",
        "            num_return_sequences=1,\n",
        "            no_repeat_ngram_size=2,\n",
        "            pad_token_id=tokenizer.eos_token_id\n",
        "        )\n",
        "\n",
        "    generated_text = tokenizer.decode(output[0], skip_special_tokens=True)\n",
        "    sentence = generated_text.replace(prompt, \"\").strip()\n",
        "    return sentence\n",
        "\n",
        "# example\n",
        "for emotion in ['NEGATIVE', 'NEUTRAL', 'POSITIVE']:\n",
        "    print(f\"{emotion} → {generate_sentence_gpt2(emotion)}\")"
      ],
      "execution_count": null,
      "outputs": [
        {
          "output_type": "stream",
          "name": "stderr",
          "text": [
            "/usr/local/lib/python3.11/dist-packages/huggingface_hub/utils/_auth.py:94: UserWarning: \n",
            "The secret `HF_TOKEN` does not exist in your Colab secrets.\n",
            "To authenticate with the Hugging Face Hub, create a token in your settings tab (https://huggingface.co/settings/tokens), set it as secret in your Google Colab and restart your session.\n",
            "You will be able to reuse this secret in all of your notebooks.\n",
            "Please note that authentication is recommended but still optional to access public models or datasets.\n",
            "  warnings.warn(\n"
          ]
        },
        {
          "output_type": "display_data",
          "data": {
            "text/plain": [
              "tokenizer_config.json:   0%|          | 0.00/26.0 [00:00<?, ?B/s]"
            ],
            "application/vnd.jupyter.widget-view+json": {
              "version_major": 2,
              "version_minor": 0,
              "model_id": "d3cc05e85b3f4681b6c91b815985bb0b"
            }
          },
          "metadata": {}
        },
        {
          "output_type": "display_data",
          "data": {
            "text/plain": [
              "vocab.json:   0%|          | 0.00/1.04M [00:00<?, ?B/s]"
            ],
            "application/vnd.jupyter.widget-view+json": {
              "version_major": 2,
              "version_minor": 0,
              "model_id": "6563f55200174d888f979ed78b9e1d9a"
            }
          },
          "metadata": {}
        },
        {
          "output_type": "display_data",
          "data": {
            "text/plain": [
              "merges.txt:   0%|          | 0.00/456k [00:00<?, ?B/s]"
            ],
            "application/vnd.jupyter.widget-view+json": {
              "version_major": 2,
              "version_minor": 0,
              "model_id": "39787094b15244aeabfe12d78aea1613"
            }
          },
          "metadata": {}
        },
        {
          "output_type": "display_data",
          "data": {
            "text/plain": [
              "tokenizer.json:   0%|          | 0.00/1.36M [00:00<?, ?B/s]"
            ],
            "application/vnd.jupyter.widget-view+json": {
              "version_major": 2,
              "version_minor": 0,
              "model_id": "1b8c9148dd4e46eaa17ef3c38370601b"
            }
          },
          "metadata": {}
        },
        {
          "output_type": "display_data",
          "data": {
            "text/plain": [
              "config.json:   0%|          | 0.00/665 [00:00<?, ?B/s]"
            ],
            "application/vnd.jupyter.widget-view+json": {
              "version_major": 2,
              "version_minor": 0,
              "model_id": "11ce8133b81a4089a89971d63d4b0487"
            }
          },
          "metadata": {}
        },
        {
          "output_type": "display_data",
          "data": {
            "text/plain": [
              "model.safetensors:   0%|          | 0.00/548M [00:00<?, ?B/s]"
            ],
            "application/vnd.jupyter.widget-view+json": {
              "version_major": 2,
              "version_minor": 0,
              "model_id": "3ac657f9e4e845c388c3082fceb479eb"
            }
          },
          "metadata": {}
        },
        {
          "output_type": "display_data",
          "data": {
            "text/plain": [
              "generation_config.json:   0%|          | 0.00/124 [00:00<?, ?B/s]"
            ],
            "application/vnd.jupyter.widget-view+json": {
              "version_major": 2,
              "version_minor": 0,
              "model_id": "5f8b61475b2a4711b198b213dbff9765"
            }
          },
          "metadata": {}
        },
        {
          "output_type": "stream",
          "name": "stderr",
          "text": [
            "The attention mask is not set and cannot be inferred from input because pad token is same as eos token. As a consequence, you may observe unexpected behavior. Please pass your input's `attention_mask` to obtain reliable results.\n"
          ]
        },
        {
          "output_type": "stream",
          "name": "stdout",
          "text": [
            "NEGATIVE → \"I'm sorry, but I'm not sure what to do.\"\n",
            "NEUTRAL → \"I'm not going to hurt you.\"\n",
            "\n",
            "\"I don't know\n",
            "POSITIVE → \"I'm feeling good.\"\n",
            "\n",
            "\"I feel good,\" says the person\n"
          ]
        }
      ]
    },
    {
      "cell_type": "code",
      "metadata": {
        "colab": {
          "base_uri": "https://localhost:8080/",
          "height": 127
        },
        "id": "6e563211",
        "outputId": "b37130c3-6145-4835-de9d-519f13e9defd"
      },
      "source": [
        "# Text-to-Speech (TTS) using gTTS\n",
        "def speak_text(text, lang='en'):\n",
        "    tts = gTTS(text=text, lang=lang)\n",
        "    with tempfile.NamedTemporaryFile(delete=True) as fp:\n",
        "        tts.save(\"temp.mp3\")\n",
        "        return ipd.Audio(\"temp.mp3\")\n",
        "\n",
        "# Example\n",
        "sample_text = generate_sentence_gpt2('POSITIVE')\n",
        "print(\"Generated sentence:\", sample_text)\n",
        "speak_text(sample_text)"
      ],
      "execution_count": null,
      "outputs": [
        {
          "output_type": "stream",
          "name": "stdout",
          "text": [
            "Generated sentence: \"I'm feeling good.\"\n",
            "\n",
            "\"I feel good,\" says the person\n"
          ]
        },
        {
          "output_type": "execute_result",
          "data": {
            "text/plain": [
              "<IPython.lib.display.Audio object>"
            ],
            "text/html": [
              "\n",
              "                <audio  controls=\"controls\" >\n",
              "                    <source src=\"data:audio/mpeg;base64,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\" type=\"audio/mpeg\" />\n",
              "                    Your browser does not support the audio element.\n",
              "                </audio>\n",
              "              "
            ]
          },
          "metadata": {},
          "execution_count": 35
        }
      ]
    },
    {
      "cell_type": "code",
      "metadata": {
        "colab": {
          "base_uri": "https://localhost:8080/",
          "height": 417
        },
        "id": "eb255fbb",
        "outputId": "5682458b-4fd8-48c5-8eb8-51489585abf3"
      },
      "source": [
        "emotions = ['NEGATIVE', 'NEUTRAL', 'POSITIVE']\n",
        "\n",
        "for emotion in emotions:\n",
        "    sentence = generate_sentence_gpt2(emotion)\n",
        "    print(f\"Emotion: {emotion}\")\n",
        "    print(f\"Generated sentence: {sentence}\")\n",
        "    display(speak_text(sentence))\n",
        "    print('---')"
      ],
      "execution_count": null,
      "outputs": [
        {
          "output_type": "stream",
          "name": "stdout",
          "text": [
            "Emotion: NEGATIVE\n",
            "Generated sentence: \"I'm sorry, but I'm not sure what to do.\"\n"
          ]
        },
        {
          "output_type": "display_data",
          "data": {
            "text/plain": [
              "<IPython.lib.display.Audio object>"
            ],
            "text/html": [
              "\n",
              "                <audio  controls=\"controls\" >\n",
              "                    <source src=\"data:audio/mpeg;base64,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\" type=\"audio/mpeg\" />\n",
              "                    Your browser does not support the audio element.\n",
              "                </audio>\n",
              "              "
            ]
          },
          "metadata": {}
        },
        {
          "output_type": "stream",
          "name": "stdout",
          "text": [
            "---\n",
            "Emotion: NEUTRAL\n",
            "Generated sentence: \"I'm not going to hurt you.\"\n",
            "\n",
            "\"I don't know\n"
          ]
        },
        {
          "output_type": "display_data",
          "data": {
            "text/plain": [
              "<IPython.lib.display.Audio object>"
            ],
            "text/html": [
              "\n",
              "                <audio  controls=\"controls\" >\n",
              "                    <source src=\"data:audio/mpeg;base64,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\" type=\"audio/mpeg\" />\n",
              "                    Your browser does not support the audio element.\n",
              "                </audio>\n",
              "              "
            ]
          },
          "metadata": {}
        },
        {
          "output_type": "stream",
          "name": "stdout",
          "text": [
            "---\n",
            "Emotion: POSITIVE\n",
            "Generated sentence: \"I'm feeling good.\"\n",
            "\n",
            "\"I feel good,\" says the person\n"
          ]
        },
        {
          "output_type": "display_data",
          "data": {
            "text/plain": [
              "<IPython.lib.display.Audio object>"
            ],
            "text/html": [
              "\n",
              "                <audio  controls=\"controls\" >\n",
              "                    <source src=\"data:audio/mpeg;base64,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\" type=\"audio/mpeg\" />\n",
              "                    Your browser does not support the audio element.\n",
              "                </audio>\n",
              "              "
            ]
          },
          "metadata": {}
        },
        {
          "output_type": "stream",
          "name": "stdout",
          "text": [
            "---\n"
          ]
        }
      ]
    }
  ]
}