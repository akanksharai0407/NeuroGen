{
  "nbformat": 4,
  "nbformat_minor": 0,
  "metadata": {
    "colab": {
      "provenance": []
    },
    "kernelspec": {
      "name": "python3",
      "display_name": "Python 3"
    },
    "language_info": {
      "name": "python"
    },
    "widgets": {
      "application/vnd.jupyter.widget-state+json": {
        "0d63e9b1228947b09595ae95a777d32c": {
          "model_module": "@jupyter-widgets/controls",
          "model_name": "HBoxModel",
          "model_module_version": "1.5.0",
          "state": {
            "_dom_classes": [],
            "_model_module": "@jupyter-widgets/controls",
            "_model_module_version": "1.5.0",
            "_model_name": "HBoxModel",
            "_view_count": null,
            "_view_module": "@jupyter-widgets/controls",
            "_view_module_version": "1.5.0",
            "_view_name": "HBoxView",
            "box_style": "",
            "children": [
              "IPY_MODEL_421cc7b70896442ebe598ef9f0fba39f",
              "IPY_MODEL_9628e475184b410b9408a731d591f1a8",
              "IPY_MODEL_ef2cff96014a4dc290162b1b1f967edd"
            ],
            "layout": "IPY_MODEL_7e3d4666d1d348af826208977df0db7f"
          }
        },
        "421cc7b70896442ebe598ef9f0fba39f": {
          "model_module": "@jupyter-widgets/controls",
          "model_name": "HTMLModel",
          "model_module_version": "1.5.0",
          "state": {
            "_dom_classes": [],
            "_model_module": "@jupyter-widgets/controls",
            "_model_module_version": "1.5.0",
            "_model_name": "HTMLModel",
            "_view_count": null,
            "_view_module": "@jupyter-widgets/controls",
            "_view_module_version": "1.5.0",
            "_view_name": "HTMLView",
            "description": "",
            "description_tooltip": null,
            "layout": "IPY_MODEL_9fd7511d96eb44b788e16bd0a2c5150a",
            "placeholder": "​",
            "style": "IPY_MODEL_c4b8b3c087e8470080f99b0a9995c42e",
            "value": "tokenizer_config.json: 100%"
          }
        },
        "9628e475184b410b9408a731d591f1a8": {
          "model_module": "@jupyter-widgets/controls",
          "model_name": "FloatProgressModel",
          "model_module_version": "1.5.0",
          "state": {
            "_dom_classes": [],
            "_model_module": "@jupyter-widgets/controls",
            "_model_module_version": "1.5.0",
            "_model_name": "FloatProgressModel",
            "_view_count": null,
            "_view_module": "@jupyter-widgets/controls",
            "_view_module_version": "1.5.0",
            "_view_name": "ProgressView",
            "bar_style": "success",
            "description": "",
            "description_tooltip": null,
            "layout": "IPY_MODEL_5bfbb2249b3741f38e5827edb19e94b8",
            "max": 26,
            "min": 0,
            "orientation": "horizontal",
            "style": "IPY_MODEL_b7a760689831411895c8a5fa6231a4f3",
            "value": 26
          }
        },
        "ef2cff96014a4dc290162b1b1f967edd": {
          "model_module": "@jupyter-widgets/controls",
          "model_name": "HTMLModel",
          "model_module_version": "1.5.0",
          "state": {
            "_dom_classes": [],
            "_model_module": "@jupyter-widgets/controls",
            "_model_module_version": "1.5.0",
            "_model_name": "HTMLModel",
            "_view_count": null,
            "_view_module": "@jupyter-widgets/controls",
            "_view_module_version": "1.5.0",
            "_view_name": "HTMLView",
            "description": "",
            "description_tooltip": null,
            "layout": "IPY_MODEL_33ad19174283447eaf86f22b8a8a597d",
            "placeholder": "​",
            "style": "IPY_MODEL_078f8982b7c24be4b8995b19b79b719e",
            "value": " 26.0/26.0 [00:00&lt;00:00, 714B/s]"
          }
        },
        "7e3d4666d1d348af826208977df0db7f": {
          "model_module": "@jupyter-widgets/base",
          "model_name": "LayoutModel",
          "model_module_version": "1.2.0",
          "state": {
            "_model_module": "@jupyter-widgets/base",
            "_model_module_version": "1.2.0",
            "_model_name": "LayoutModel",
            "_view_count": null,
            "_view_module": "@jupyter-widgets/base",
            "_view_module_version": "1.2.0",
            "_view_name": "LayoutView",
            "align_content": null,
            "align_items": null,
            "align_self": null,
            "border": null,
            "bottom": null,
            "display": null,
            "flex": null,
            "flex_flow": null,
            "grid_area": null,
            "grid_auto_columns": null,
            "grid_auto_flow": null,
            "grid_auto_rows": null,
            "grid_column": null,
            "grid_gap": null,
            "grid_row": null,
            "grid_template_areas": null,
            "grid_template_columns": null,
            "grid_template_rows": null,
            "height": null,
            "justify_content": null,
            "justify_items": null,
            "left": null,
            "margin": null,
            "max_height": null,
            "max_width": null,
            "min_height": null,
            "min_width": null,
            "object_fit": null,
            "object_position": null,
            "order": null,
            "overflow": null,
            "overflow_x": null,
            "overflow_y": null,
            "padding": null,
            "right": null,
            "top": null,
            "visibility": null,
            "width": null
          }
        },
        "9fd7511d96eb44b788e16bd0a2c5150a": {
          "model_module": "@jupyter-widgets/base",
          "model_name": "LayoutModel",
          "model_module_version": "1.2.0",
          "state": {
            "_model_module": "@jupyter-widgets/base",
            "_model_module_version": "1.2.0",
            "_model_name": "LayoutModel",
            "_view_count": null,
            "_view_module": "@jupyter-widgets/base",
            "_view_module_version": "1.2.0",
            "_view_name": "LayoutView",
            "align_content": null,
            "align_items": null,
            "align_self": null,
            "border": null,
            "bottom": null,
            "display": null,
            "flex": null,
            "flex_flow": null,
            "grid_area": null,
            "grid_auto_columns": null,
            "grid_auto_flow": null,
            "grid_auto_rows": null,
            "grid_column": null,
            "grid_gap": null,
            "grid_row": null,
            "grid_template_areas": null,
            "grid_template_columns": null,
            "grid_template_rows": null,
            "height": null,
            "justify_content": null,
            "justify_items": null,
            "left": null,
            "margin": null,
            "max_height": null,
            "max_width": null,
            "min_height": null,
            "min_width": null,
            "object_fit": null,
            "object_position": null,
            "order": null,
            "overflow": null,
            "overflow_x": null,
            "overflow_y": null,
            "padding": null,
            "right": null,
            "top": null,
            "visibility": null,
            "width": null
          }
        },
        "c4b8b3c087e8470080f99b0a9995c42e": {
          "model_module": "@jupyter-widgets/controls",
          "model_name": "DescriptionStyleModel",
          "model_module_version": "1.5.0",
          "state": {
            "_model_module": "@jupyter-widgets/controls",
            "_model_module_version": "1.5.0",
            "_model_name": "DescriptionStyleModel",
            "_view_count": null,
            "_view_module": "@jupyter-widgets/base",
            "_view_module_version": "1.2.0",
            "_view_name": "StyleView",
            "description_width": ""
          }
        },
        "5bfbb2249b3741f38e5827edb19e94b8": {
          "model_module": "@jupyter-widgets/base",
          "model_name": "LayoutModel",
          "model_module_version": "1.2.0",
          "state": {
            "_model_module": "@jupyter-widgets/base",
            "_model_module_version": "1.2.0",
            "_model_name": "LayoutModel",
            "_view_count": null,
            "_view_module": "@jupyter-widgets/base",
            "_view_module_version": "1.2.0",
            "_view_name": "LayoutView",
            "align_content": null,
            "align_items": null,
            "align_self": null,
            "border": null,
            "bottom": null,
            "display": null,
            "flex": null,
            "flex_flow": null,
            "grid_area": null,
            "grid_auto_columns": null,
            "grid_auto_flow": null,
            "grid_auto_rows": null,
            "grid_column": null,
            "grid_gap": null,
            "grid_row": null,
            "grid_template_areas": null,
            "grid_template_columns": null,
            "grid_template_rows": null,
            "height": null,
            "justify_content": null,
            "justify_items": null,
            "left": null,
            "margin": null,
            "max_height": null,
            "max_width": null,
            "min_height": null,
            "min_width": null,
            "object_fit": null,
            "object_position": null,
            "order": null,
            "overflow": null,
            "overflow_x": null,
            "overflow_y": null,
            "padding": null,
            "right": null,
            "top": null,
            "visibility": null,
            "width": null
          }
        },
        "b7a760689831411895c8a5fa6231a4f3": {
          "model_module": "@jupyter-widgets/controls",
          "model_name": "ProgressStyleModel",
          "model_module_version": "1.5.0",
          "state": {
            "_model_module": "@jupyter-widgets/controls",
            "_model_module_version": "1.5.0",
            "_model_name": "ProgressStyleModel",
            "_view_count": null,
            "_view_module": "@jupyter-widgets/base",
            "_view_module_version": "1.2.0",
            "_view_name": "StyleView",
            "bar_color": null,
            "description_width": ""
          }
        },
        "33ad19174283447eaf86f22b8a8a597d": {
          "model_module": "@jupyter-widgets/base",
          "model_name": "LayoutModel",
          "model_module_version": "1.2.0",
          "state": {
            "_model_module": "@jupyter-widgets/base",
            "_model_module_version": "1.2.0",
            "_model_name": "LayoutModel",
            "_view_count": null,
            "_view_module": "@jupyter-widgets/base",
            "_view_module_version": "1.2.0",
            "_view_name": "LayoutView",
            "align_content": null,
            "align_items": null,
            "align_self": null,
            "border": null,
            "bottom": null,
            "display": null,
            "flex": null,
            "flex_flow": null,
            "grid_area": null,
            "grid_auto_columns": null,
            "grid_auto_flow": null,
            "grid_auto_rows": null,
            "grid_column": null,
            "grid_gap": null,
            "grid_row": null,
            "grid_template_areas": null,
            "grid_template_columns": null,
            "grid_template_rows": null,
            "height": null,
            "justify_content": null,
            "justify_items": null,
            "left": null,
            "margin": null,
            "max_height": null,
            "max_width": null,
            "min_height": null,
            "min_width": null,
            "object_fit": null,
            "object_position": null,
            "order": null,
            "overflow": null,
            "overflow_x": null,
            "overflow_y": null,
            "padding": null,
            "right": null,
            "top": null,
            "visibility": null,
            "width": null
          }
        },
        "078f8982b7c24be4b8995b19b79b719e": {
          "model_module": "@jupyter-widgets/controls",
          "model_name": "DescriptionStyleModel",
          "model_module_version": "1.5.0",
          "state": {
            "_model_module": "@jupyter-widgets/controls",
            "_model_module_version": "1.5.0",
            "_model_name": "DescriptionStyleModel",
            "_view_count": null,
            "_view_module": "@jupyter-widgets/base",
            "_view_module_version": "1.2.0",
            "_view_name": "StyleView",
            "description_width": ""
          }
        },
        "97e31012b21b4cb4a8e492e434feea28": {
          "model_module": "@jupyter-widgets/controls",
          "model_name": "HBoxModel",
          "model_module_version": "1.5.0",
          "state": {
            "_dom_classes": [],
            "_model_module": "@jupyter-widgets/controls",
            "_model_module_version": "1.5.0",
            "_model_name": "HBoxModel",
            "_view_count": null,
            "_view_module": "@jupyter-widgets/controls",
            "_view_module_version": "1.5.0",
            "_view_name": "HBoxView",
            "box_style": "",
            "children": [
              "IPY_MODEL_e53cb8c9842e4099baad88e67394e6a2",
              "IPY_MODEL_287e8b9f9b504f3f9d0a0ab050280f64",
              "IPY_MODEL_edba276851e5415ebcf043550c2f0845"
            ],
            "layout": "IPY_MODEL_5c912e04e4844fcdaac98a139200cb48"
          }
        },
        "e53cb8c9842e4099baad88e67394e6a2": {
          "model_module": "@jupyter-widgets/controls",
          "model_name": "HTMLModel",
          "model_module_version": "1.5.0",
          "state": {
            "_dom_classes": [],
            "_model_module": "@jupyter-widgets/controls",
            "_model_module_version": "1.5.0",
            "_model_name": "HTMLModel",
            "_view_count": null,
            "_view_module": "@jupyter-widgets/controls",
            "_view_module_version": "1.5.0",
            "_view_name": "HTMLView",
            "description": "",
            "description_tooltip": null,
            "layout": "IPY_MODEL_f7509f8775614d23a4b39708de416e6e",
            "placeholder": "​",
            "style": "IPY_MODEL_c70125eacc6448cd8585207951902ab5",
            "value": "vocab.json: 100%"
          }
        },
        "287e8b9f9b504f3f9d0a0ab050280f64": {
          "model_module": "@jupyter-widgets/controls",
          "model_name": "FloatProgressModel",
          "model_module_version": "1.5.0",
          "state": {
            "_dom_classes": [],
            "_model_module": "@jupyter-widgets/controls",
            "_model_module_version": "1.5.0",
            "_model_name": "FloatProgressModel",
            "_view_count": null,
            "_view_module": "@jupyter-widgets/controls",
            "_view_module_version": "1.5.0",
            "_view_name": "ProgressView",
            "bar_style": "success",
            "description": "",
            "description_tooltip": null,
            "layout": "IPY_MODEL_7baf2bf45f19445494013aefebb4b596",
            "max": 1042301,
            "min": 0,
            "orientation": "horizontal",
            "style": "IPY_MODEL_2278a460b15c4335a9e1ce0db8d17583",
            "value": 1042301
          }
        },
        "edba276851e5415ebcf043550c2f0845": {
          "model_module": "@jupyter-widgets/controls",
          "model_name": "HTMLModel",
          "model_module_version": "1.5.0",
          "state": {
            "_dom_classes": [],
            "_model_module": "@jupyter-widgets/controls",
            "_model_module_version": "1.5.0",
            "_model_name": "HTMLModel",
            "_view_count": null,
            "_view_module": "@jupyter-widgets/controls",
            "_view_module_version": "1.5.0",
            "_view_name": "HTMLView",
            "description": "",
            "description_tooltip": null,
            "layout": "IPY_MODEL_9d44bbfed6b642b2ab93a3f861fc15d9",
            "placeholder": "​",
            "style": "IPY_MODEL_7323308982d84492a586020075f0baf2",
            "value": " 1.04M/1.04M [00:00&lt;00:00, 3.22MB/s]"
          }
        },
        "5c912e04e4844fcdaac98a139200cb48": {
          "model_module": "@jupyter-widgets/base",
          "model_name": "LayoutModel",
          "model_module_version": "1.2.0",
          "state": {
            "_model_module": "@jupyter-widgets/base",
            "_model_module_version": "1.2.0",
            "_model_name": "LayoutModel",
            "_view_count": null,
            "_view_module": "@jupyter-widgets/base",
            "_view_module_version": "1.2.0",
            "_view_name": "LayoutView",
            "align_content": null,
            "align_items": null,
            "align_self": null,
            "border": null,
            "bottom": null,
            "display": null,
            "flex": null,
            "flex_flow": null,
            "grid_area": null,
            "grid_auto_columns": null,
            "grid_auto_flow": null,
            "grid_auto_rows": null,
            "grid_column": null,
            "grid_gap": null,
            "grid_row": null,
            "grid_template_areas": null,
            "grid_template_columns": null,
            "grid_template_rows": null,
            "height": null,
            "justify_content": null,
            "justify_items": null,
            "left": null,
            "margin": null,
            "max_height": null,
            "max_width": null,
            "min_height": null,
            "min_width": null,
            "object_fit": null,
            "object_position": null,
            "order": null,
            "overflow": null,
            "overflow_x": null,
            "overflow_y": null,
            "padding": null,
            "right": null,
            "top": null,
            "visibility": null,
            "width": null
          }
        },
        "f7509f8775614d23a4b39708de416e6e": {
          "model_module": "@jupyter-widgets/base",
          "model_name": "LayoutModel",
          "model_module_version": "1.2.0",
          "state": {
            "_model_module": "@jupyter-widgets/base",
            "_model_module_version": "1.2.0",
            "_model_name": "LayoutModel",
            "_view_count": null,
            "_view_module": "@jupyter-widgets/base",
            "_view_module_version": "1.2.0",
            "_view_name": "LayoutView",
            "align_content": null,
            "align_items": null,
            "align_self": null,
            "border": null,
            "bottom": null,
            "display": null,
            "flex": null,
            "flex_flow": null,
            "grid_area": null,
            "grid_auto_columns": null,
            "grid_auto_flow": null,
            "grid_auto_rows": null,
            "grid_column": null,
            "grid_gap": null,
            "grid_row": null,
            "grid_template_areas": null,
            "grid_template_columns": null,
            "grid_template_rows": null,
            "height": null,
            "justify_content": null,
            "justify_items": null,
            "left": null,
            "margin": null,
            "max_height": null,
            "max_width": null,
            "min_height": null,
            "min_width": null,
            "object_fit": null,
            "object_position": null,
            "order": null,
            "overflow": null,
            "overflow_x": null,
            "overflow_y": null,
            "padding": null,
            "right": null,
            "top": null,
            "visibility": null,
            "width": null
          }
        },
        "c70125eacc6448cd8585207951902ab5": {
          "model_module": "@jupyter-widgets/controls",
          "model_name": "DescriptionStyleModel",
          "model_module_version": "1.5.0",
          "state": {
            "_model_module": "@jupyter-widgets/controls",
            "_model_module_version": "1.5.0",
            "_model_name": "DescriptionStyleModel",
            "_view_count": null,
            "_view_module": "@jupyter-widgets/base",
            "_view_module_version": "1.2.0",
            "_view_name": "StyleView",
            "description_width": ""
          }
        },
        "7baf2bf45f19445494013aefebb4b596": {
          "model_module": "@jupyter-widgets/base",
          "model_name": "LayoutModel",
          "model_module_version": "1.2.0",
          "state": {
            "_model_module": "@jupyter-widgets/base",
            "_model_module_version": "1.2.0",
            "_model_name": "LayoutModel",
            "_view_count": null,
            "_view_module": "@jupyter-widgets/base",
            "_view_module_version": "1.2.0",
            "_view_name": "LayoutView",
            "align_content": null,
            "align_items": null,
            "align_self": null,
            "border": null,
            "bottom": null,
            "display": null,
            "flex": null,
            "flex_flow": null,
            "grid_area": null,
            "grid_auto_columns": null,
            "grid_auto_flow": null,
            "grid_auto_rows": null,
            "grid_column": null,
            "grid_gap": null,
            "grid_row": null,
            "grid_template_areas": null,
            "grid_template_columns": null,
            "grid_template_rows": null,
            "height": null,
            "justify_content": null,
            "justify_items": null,
            "left": null,
            "margin": null,
            "max_height": null,
            "max_width": null,
            "min_height": null,
            "min_width": null,
            "object_fit": null,
            "object_position": null,
            "order": null,
            "overflow": null,
            "overflow_x": null,
            "overflow_y": null,
            "padding": null,
            "right": null,
            "top": null,
            "visibility": null,
            "width": null
          }
        },
        "2278a460b15c4335a9e1ce0db8d17583": {
          "model_module": "@jupyter-widgets/controls",
          "model_name": "ProgressStyleModel",
          "model_module_version": "1.5.0",
          "state": {
            "_model_module": "@jupyter-widgets/controls",
            "_model_module_version": "1.5.0",
            "_model_name": "ProgressStyleModel",
            "_view_count": null,
            "_view_module": "@jupyter-widgets/base",
            "_view_module_version": "1.2.0",
            "_view_name": "StyleView",
            "bar_color": null,
            "description_width": ""
          }
        },
        "9d44bbfed6b642b2ab93a3f861fc15d9": {
          "model_module": "@jupyter-widgets/base",
          "model_name": "LayoutModel",
          "model_module_version": "1.2.0",
          "state": {
            "_model_module": "@jupyter-widgets/base",
            "_model_module_version": "1.2.0",
            "_model_name": "LayoutModel",
            "_view_count": null,
            "_view_module": "@jupyter-widgets/base",
            "_view_module_version": "1.2.0",
            "_view_name": "LayoutView",
            "align_content": null,
            "align_items": null,
            "align_self": null,
            "border": null,
            "bottom": null,
            "display": null,
            "flex": null,
            "flex_flow": null,
            "grid_area": null,
            "grid_auto_columns": null,
            "grid_auto_flow": null,
            "grid_auto_rows": null,
            "grid_column": null,
            "grid_gap": null,
            "grid_row": null,
            "grid_template_areas": null,
            "grid_template_columns": null,
            "grid_template_rows": null,
            "height": null,
            "justify_content": null,
            "justify_items": null,
            "left": null,
            "margin": null,
            "max_height": null,
            "max_width": null,
            "min_height": null,
            "min_width": null,
            "object_fit": null,
            "object_position": null,
            "order": null,
            "overflow": null,
            "overflow_x": null,
            "overflow_y": null,
            "padding": null,
            "right": null,
            "top": null,
            "visibility": null,
            "width": null
          }
        },
        "7323308982d84492a586020075f0baf2": {
          "model_module": "@jupyter-widgets/controls",
          "model_name": "DescriptionStyleModel",
          "model_module_version": "1.5.0",
          "state": {
            "_model_module": "@jupyter-widgets/controls",
            "_model_module_version": "1.5.0",
            "_model_name": "DescriptionStyleModel",
            "_view_count": null,
            "_view_module": "@jupyter-widgets/base",
            "_view_module_version": "1.2.0",
            "_view_name": "StyleView",
            "description_width": ""
          }
        },
        "8266612919194c1caf8825ef93615ea6": {
          "model_module": "@jupyter-widgets/controls",
          "model_name": "HBoxModel",
          "model_module_version": "1.5.0",
          "state": {
            "_dom_classes": [],
            "_model_module": "@jupyter-widgets/controls",
            "_model_module_version": "1.5.0",
            "_model_name": "HBoxModel",
            "_view_count": null,
            "_view_module": "@jupyter-widgets/controls",
            "_view_module_version": "1.5.0",
            "_view_name": "HBoxView",
            "box_style": "",
            "children": [
              "IPY_MODEL_ad5632a1141a4cbda51237f9ba61d365",
              "IPY_MODEL_ec786c2a5eb24d38803a95988d0afaa8",
              "IPY_MODEL_7cf88a576d1743e9addf1f307ee145ba"
            ],
            "layout": "IPY_MODEL_a1821bcd32a242ee92a1900157f2b88c"
          }
        },
        "ad5632a1141a4cbda51237f9ba61d365": {
          "model_module": "@jupyter-widgets/controls",
          "model_name": "HTMLModel",
          "model_module_version": "1.5.0",
          "state": {
            "_dom_classes": [],
            "_model_module": "@jupyter-widgets/controls",
            "_model_module_version": "1.5.0",
            "_model_name": "HTMLModel",
            "_view_count": null,
            "_view_module": "@jupyter-widgets/controls",
            "_view_module_version": "1.5.0",
            "_view_name": "HTMLView",
            "description": "",
            "description_tooltip": null,
            "layout": "IPY_MODEL_4af7bbd0d5554202ad36b6f081325f9d",
            "placeholder": "​",
            "style": "IPY_MODEL_a32ae0c247b84349bb2c68b3c10d2b23",
            "value": "merges.txt: 100%"
          }
        },
        "ec786c2a5eb24d38803a95988d0afaa8": {
          "model_module": "@jupyter-widgets/controls",
          "model_name": "FloatProgressModel",
          "model_module_version": "1.5.0",
          "state": {
            "_dom_classes": [],
            "_model_module": "@jupyter-widgets/controls",
            "_model_module_version": "1.5.0",
            "_model_name": "FloatProgressModel",
            "_view_count": null,
            "_view_module": "@jupyter-widgets/controls",
            "_view_module_version": "1.5.0",
            "_view_name": "ProgressView",
            "bar_style": "success",
            "description": "",
            "description_tooltip": null,
            "layout": "IPY_MODEL_5ee682f5517341c98e39f9e3b72809cf",
            "max": 456318,
            "min": 0,
            "orientation": "horizontal",
            "style": "IPY_MODEL_fcd79654dc464cc389606f515bd861a6",
            "value": 456318
          }
        },
        "7cf88a576d1743e9addf1f307ee145ba": {
          "model_module": "@jupyter-widgets/controls",
          "model_name": "HTMLModel",
          "model_module_version": "1.5.0",
          "state": {
            "_dom_classes": [],
            "_model_module": "@jupyter-widgets/controls",
            "_model_module_version": "1.5.0",
            "_model_name": "HTMLModel",
            "_view_count": null,
            "_view_module": "@jupyter-widgets/controls",
            "_view_module_version": "1.5.0",
            "_view_name": "HTMLView",
            "description": "",
            "description_tooltip": null,
            "layout": "IPY_MODEL_e602af1bb7c34be7918c52bb671aa099",
            "placeholder": "​",
            "style": "IPY_MODEL_41d8bdc438134eb28b2860e2fb917071",
            "value": " 456k/456k [00:00&lt;00:00, 11.0MB/s]"
          }
        },
        "a1821bcd32a242ee92a1900157f2b88c": {
          "model_module": "@jupyter-widgets/base",
          "model_name": "LayoutModel",
          "model_module_version": "1.2.0",
          "state": {
            "_model_module": "@jupyter-widgets/base",
            "_model_module_version": "1.2.0",
            "_model_name": "LayoutModel",
            "_view_count": null,
            "_view_module": "@jupyter-widgets/base",
            "_view_module_version": "1.2.0",
            "_view_name": "LayoutView",
            "align_content": null,
            "align_items": null,
            "align_self": null,
            "border": null,
            "bottom": null,
            "display": null,
            "flex": null,
            "flex_flow": null,
            "grid_area": null,
            "grid_auto_columns": null,
            "grid_auto_flow": null,
            "grid_auto_rows": null,
            "grid_column": null,
            "grid_gap": null,
            "grid_row": null,
            "grid_template_areas": null,
            "grid_template_columns": null,
            "grid_template_rows": null,
            "height": null,
            "justify_content": null,
            "justify_items": null,
            "left": null,
            "margin": null,
            "max_height": null,
            "max_width": null,
            "min_height": null,
            "min_width": null,
            "object_fit": null,
            "object_position": null,
            "order": null,
            "overflow": null,
            "overflow_x": null,
            "overflow_y": null,
            "padding": null,
            "right": null,
            "top": null,
            "visibility": null,
            "width": null
          }
        },
        "4af7bbd0d5554202ad36b6f081325f9d": {
          "model_module": "@jupyter-widgets/base",
          "model_name": "LayoutModel",
          "model_module_version": "1.2.0",
          "state": {
            "_model_module": "@jupyter-widgets/base",
            "_model_module_version": "1.2.0",
            "_model_name": "LayoutModel",
            "_view_count": null,
            "_view_module": "@jupyter-widgets/base",
            "_view_module_version": "1.2.0",
            "_view_name": "LayoutView",
            "align_content": null,
            "align_items": null,
            "align_self": null,
            "border": null,
            "bottom": null,
            "display": null,
            "flex": null,
            "flex_flow": null,
            "grid_area": null,
            "grid_auto_columns": null,
            "grid_auto_flow": null,
            "grid_auto_rows": null,
            "grid_column": null,
            "grid_gap": null,
            "grid_row": null,
            "grid_template_areas": null,
            "grid_template_columns": null,
            "grid_template_rows": null,
            "height": null,
            "justify_content": null,
            "justify_items": null,
            "left": null,
            "margin": null,
            "max_height": null,
            "max_width": null,
            "min_height": null,
            "min_width": null,
            "object_fit": null,
            "object_position": null,
            "order": null,
            "overflow": null,
            "overflow_x": null,
            "overflow_y": null,
            "padding": null,
            "right": null,
            "top": null,
            "visibility": null,
            "width": null
          }
        },
        "a32ae0c247b84349bb2c68b3c10d2b23": {
          "model_module": "@jupyter-widgets/controls",
          "model_name": "DescriptionStyleModel",
          "model_module_version": "1.5.0",
          "state": {
            "_model_module": "@jupyter-widgets/controls",
            "_model_module_version": "1.5.0",
            "_model_name": "DescriptionStyleModel",
            "_view_count": null,
            "_view_module": "@jupyter-widgets/base",
            "_view_module_version": "1.2.0",
            "_view_name": "StyleView",
            "description_width": ""
          }
        },
        "5ee682f5517341c98e39f9e3b72809cf": {
          "model_module": "@jupyter-widgets/base",
          "model_name": "LayoutModel",
          "model_module_version": "1.2.0",
          "state": {
            "_model_module": "@jupyter-widgets/base",
            "_model_module_version": "1.2.0",
            "_model_name": "LayoutModel",
            "_view_count": null,
            "_view_module": "@jupyter-widgets/base",
            "_view_module_version": "1.2.0",
            "_view_name": "LayoutView",
            "align_content": null,
            "align_items": null,
            "align_self": null,
            "border": null,
            "bottom": null,
            "display": null,
            "flex": null,
            "flex_flow": null,
            "grid_area": null,
            "grid_auto_columns": null,
            "grid_auto_flow": null,
            "grid_auto_rows": null,
            "grid_column": null,
            "grid_gap": null,
            "grid_row": null,
            "grid_template_areas": null,
            "grid_template_columns": null,
            "grid_template_rows": null,
            "height": null,
            "justify_content": null,
            "justify_items": null,
            "left": null,
            "margin": null,
            "max_height": null,
            "max_width": null,
            "min_height": null,
            "min_width": null,
            "object_fit": null,
            "object_position": null,
            "order": null,
            "overflow": null,
            "overflow_x": null,
            "overflow_y": null,
            "padding": null,
            "right": null,
            "top": null,
            "visibility": null,
            "width": null
          }
        },
        "fcd79654dc464cc389606f515bd861a6": {
          "model_module": "@jupyter-widgets/controls",
          "model_name": "ProgressStyleModel",
          "model_module_version": "1.5.0",
          "state": {
            "_model_module": "@jupyter-widgets/controls",
            "_model_module_version": "1.5.0",
            "_model_name": "ProgressStyleModel",
            "_view_count": null,
            "_view_module": "@jupyter-widgets/base",
            "_view_module_version": "1.2.0",
            "_view_name": "StyleView",
            "bar_color": null,
            "description_width": ""
          }
        },
        "e602af1bb7c34be7918c52bb671aa099": {
          "model_module": "@jupyter-widgets/base",
          "model_name": "LayoutModel",
          "model_module_version": "1.2.0",
          "state": {
            "_model_module": "@jupyter-widgets/base",
            "_model_module_version": "1.2.0",
            "_model_name": "LayoutModel",
            "_view_count": null,
            "_view_module": "@jupyter-widgets/base",
            "_view_module_version": "1.2.0",
            "_view_name": "LayoutView",
            "align_content": null,
            "align_items": null,
            "align_self": null,
            "border": null,
            "bottom": null,
            "display": null,
            "flex": null,
            "flex_flow": null,
            "grid_area": null,
            "grid_auto_columns": null,
            "grid_auto_flow": null,
            "grid_auto_rows": null,
            "grid_column": null,
            "grid_gap": null,
            "grid_row": null,
            "grid_template_areas": null,
            "grid_template_columns": null,
            "grid_template_rows": null,
            "height": null,
            "justify_content": null,
            "justify_items": null,
            "left": null,
            "margin": null,
            "max_height": null,
            "max_width": null,
            "min_height": null,
            "min_width": null,
            "object_fit": null,
            "object_position": null,
            "order": null,
            "overflow": null,
            "overflow_x": null,
            "overflow_y": null,
            "padding": null,
            "right": null,
            "top": null,
            "visibility": null,
            "width": null
          }
        },
        "41d8bdc438134eb28b2860e2fb917071": {
          "model_module": "@jupyter-widgets/controls",
          "model_name": "DescriptionStyleModel",
          "model_module_version": "1.5.0",
          "state": {
            "_model_module": "@jupyter-widgets/controls",
            "_model_module_version": "1.5.0",
            "_model_name": "DescriptionStyleModel",
            "_view_count": null,
            "_view_module": "@jupyter-widgets/base",
            "_view_module_version": "1.2.0",
            "_view_name": "StyleView",
            "description_width": ""
          }
        },
        "0f53071d02f149569c33d5c526b89e42": {
          "model_module": "@jupyter-widgets/controls",
          "model_name": "HBoxModel",
          "model_module_version": "1.5.0",
          "state": {
            "_dom_classes": [],
            "_model_module": "@jupyter-widgets/controls",
            "_model_module_version": "1.5.0",
            "_model_name": "HBoxModel",
            "_view_count": null,
            "_view_module": "@jupyter-widgets/controls",
            "_view_module_version": "1.5.0",
            "_view_name": "HBoxView",
            "box_style": "",
            "children": [
              "IPY_MODEL_349dd3a029c14d45a57b4e3d1b4fdeba",
              "IPY_MODEL_94192f9c27cb49ed8a28a5801a8bff86",
              "IPY_MODEL_94d67a903734458d8accfd8006e88f5b"
            ],
            "layout": "IPY_MODEL_384c03d7bde64678af6b03f1ea9025d8"
          }
        },
        "349dd3a029c14d45a57b4e3d1b4fdeba": {
          "model_module": "@jupyter-widgets/controls",
          "model_name": "HTMLModel",
          "model_module_version": "1.5.0",
          "state": {
            "_dom_classes": [],
            "_model_module": "@jupyter-widgets/controls",
            "_model_module_version": "1.5.0",
            "_model_name": "HTMLModel",
            "_view_count": null,
            "_view_module": "@jupyter-widgets/controls",
            "_view_module_version": "1.5.0",
            "_view_name": "HTMLView",
            "description": "",
            "description_tooltip": null,
            "layout": "IPY_MODEL_977033b136194f3f907100eaf5d8340b",
            "placeholder": "​",
            "style": "IPY_MODEL_d884f1546a9248e5a8769c50b95459e3",
            "value": "tokenizer.json: 100%"
          }
        },
        "94192f9c27cb49ed8a28a5801a8bff86": {
          "model_module": "@jupyter-widgets/controls",
          "model_name": "FloatProgressModel",
          "model_module_version": "1.5.0",
          "state": {
            "_dom_classes": [],
            "_model_module": "@jupyter-widgets/controls",
            "_model_module_version": "1.5.0",
            "_model_name": "FloatProgressModel",
            "_view_count": null,
            "_view_module": "@jupyter-widgets/controls",
            "_view_module_version": "1.5.0",
            "_view_name": "ProgressView",
            "bar_style": "success",
            "description": "",
            "description_tooltip": null,
            "layout": "IPY_MODEL_3a6b2b37aabc46ea90507a6dc9b2f979",
            "max": 1355256,
            "min": 0,
            "orientation": "horizontal",
            "style": "IPY_MODEL_29fd9f5d8bd04551af5aa6250a0be936",
            "value": 1355256
          }
        },
        "94d67a903734458d8accfd8006e88f5b": {
          "model_module": "@jupyter-widgets/controls",
          "model_name": "HTMLModel",
          "model_module_version": "1.5.0",
          "state": {
            "_dom_classes": [],
            "_model_module": "@jupyter-widgets/controls",
            "_model_module_version": "1.5.0",
            "_model_name": "HTMLModel",
            "_view_count": null,
            "_view_module": "@jupyter-widgets/controls",
            "_view_module_version": "1.5.0",
            "_view_name": "HTMLView",
            "description": "",
            "description_tooltip": null,
            "layout": "IPY_MODEL_c7c1b1bc2f04486d86c6d8d61bfee8be",
            "placeholder": "​",
            "style": "IPY_MODEL_d48f9ca5ecde480f8415cf3aadf0f1fb",
            "value": " 1.36M/1.36M [00:00&lt;00:00, 24.7MB/s]"
          }
        },
        "384c03d7bde64678af6b03f1ea9025d8": {
          "model_module": "@jupyter-widgets/base",
          "model_name": "LayoutModel",
          "model_module_version": "1.2.0",
          "state": {
            "_model_module": "@jupyter-widgets/base",
            "_model_module_version": "1.2.0",
            "_model_name": "LayoutModel",
            "_view_count": null,
            "_view_module": "@jupyter-widgets/base",
            "_view_module_version": "1.2.0",
            "_view_name": "LayoutView",
            "align_content": null,
            "align_items": null,
            "align_self": null,
            "border": null,
            "bottom": null,
            "display": null,
            "flex": null,
            "flex_flow": null,
            "grid_area": null,
            "grid_auto_columns": null,
            "grid_auto_flow": null,
            "grid_auto_rows": null,
            "grid_column": null,
            "grid_gap": null,
            "grid_row": null,
            "grid_template_areas": null,
            "grid_template_columns": null,
            "grid_template_rows": null,
            "height": null,
            "justify_content": null,
            "justify_items": null,
            "left": null,
            "margin": null,
            "max_height": null,
            "max_width": null,
            "min_height": null,
            "min_width": null,
            "object_fit": null,
            "object_position": null,
            "order": null,
            "overflow": null,
            "overflow_x": null,
            "overflow_y": null,
            "padding": null,
            "right": null,
            "top": null,
            "visibility": null,
            "width": null
          }
        },
        "977033b136194f3f907100eaf5d8340b": {
          "model_module": "@jupyter-widgets/base",
          "model_name": "LayoutModel",
          "model_module_version": "1.2.0",
          "state": {
            "_model_module": "@jupyter-widgets/base",
            "_model_module_version": "1.2.0",
            "_model_name": "LayoutModel",
            "_view_count": null,
            "_view_module": "@jupyter-widgets/base",
            "_view_module_version": "1.2.0",
            "_view_name": "LayoutView",
            "align_content": null,
            "align_items": null,
            "align_self": null,
            "border": null,
            "bottom": null,
            "display": null,
            "flex": null,
            "flex_flow": null,
            "grid_area": null,
            "grid_auto_columns": null,
            "grid_auto_flow": null,
            "grid_auto_rows": null,
            "grid_column": null,
            "grid_gap": null,
            "grid_row": null,
            "grid_template_areas": null,
            "grid_template_columns": null,
            "grid_template_rows": null,
            "height": null,
            "justify_content": null,
            "justify_items": null,
            "left": null,
            "margin": null,
            "max_height": null,
            "max_width": null,
            "min_height": null,
            "min_width": null,
            "object_fit": null,
            "object_position": null,
            "order": null,
            "overflow": null,
            "overflow_x": null,
            "overflow_y": null,
            "padding": null,
            "right": null,
            "top": null,
            "visibility": null,
            "width": null
          }
        },
        "d884f1546a9248e5a8769c50b95459e3": {
          "model_module": "@jupyter-widgets/controls",
          "model_name": "DescriptionStyleModel",
          "model_module_version": "1.5.0",
          "state": {
            "_model_module": "@jupyter-widgets/controls",
            "_model_module_version": "1.5.0",
            "_model_name": "DescriptionStyleModel",
            "_view_count": null,
            "_view_module": "@jupyter-widgets/base",
            "_view_module_version": "1.2.0",
            "_view_name": "StyleView",
            "description_width": ""
          }
        },
        "3a6b2b37aabc46ea90507a6dc9b2f979": {
          "model_module": "@jupyter-widgets/base",
          "model_name": "LayoutModel",
          "model_module_version": "1.2.0",
          "state": {
            "_model_module": "@jupyter-widgets/base",
            "_model_module_version": "1.2.0",
            "_model_name": "LayoutModel",
            "_view_count": null,
            "_view_module": "@jupyter-widgets/base",
            "_view_module_version": "1.2.0",
            "_view_name": "LayoutView",
            "align_content": null,
            "align_items": null,
            "align_self": null,
            "border": null,
            "bottom": null,
            "display": null,
            "flex": null,
            "flex_flow": null,
            "grid_area": null,
            "grid_auto_columns": null,
            "grid_auto_flow": null,
            "grid_auto_rows": null,
            "grid_column": null,
            "grid_gap": null,
            "grid_row": null,
            "grid_template_areas": null,
            "grid_template_columns": null,
            "grid_template_rows": null,
            "height": null,
            "justify_content": null,
            "justify_items": null,
            "left": null,
            "margin": null,
            "max_height": null,
            "max_width": null,
            "min_height": null,
            "min_width": null,
            "object_fit": null,
            "object_position": null,
            "order": null,
            "overflow": null,
            "overflow_x": null,
            "overflow_y": null,
            "padding": null,
            "right": null,
            "top": null,
            "visibility": null,
            "width": null
          }
        },
        "29fd9f5d8bd04551af5aa6250a0be936": {
          "model_module": "@jupyter-widgets/controls",
          "model_name": "ProgressStyleModel",
          "model_module_version": "1.5.0",
          "state": {
            "_model_module": "@jupyter-widgets/controls",
            "_model_module_version": "1.5.0",
            "_model_name": "ProgressStyleModel",
            "_view_count": null,
            "_view_module": "@jupyter-widgets/base",
            "_view_module_version": "1.2.0",
            "_view_name": "StyleView",
            "bar_color": null,
            "description_width": ""
          }
        },
        "c7c1b1bc2f04486d86c6d8d61bfee8be": {
          "model_module": "@jupyter-widgets/base",
          "model_name": "LayoutModel",
          "model_module_version": "1.2.0",
          "state": {
            "_model_module": "@jupyter-widgets/base",
            "_model_module_version": "1.2.0",
            "_model_name": "LayoutModel",
            "_view_count": null,
            "_view_module": "@jupyter-widgets/base",
            "_view_module_version": "1.2.0",
            "_view_name": "LayoutView",
            "align_content": null,
            "align_items": null,
            "align_self": null,
            "border": null,
            "bottom": null,
            "display": null,
            "flex": null,
            "flex_flow": null,
            "grid_area": null,
            "grid_auto_columns": null,
            "grid_auto_flow": null,
            "grid_auto_rows": null,
            "grid_column": null,
            "grid_gap": null,
            "grid_row": null,
            "grid_template_areas": null,
            "grid_template_columns": null,
            "grid_template_rows": null,
            "height": null,
            "justify_content": null,
            "justify_items": null,
            "left": null,
            "margin": null,
            "max_height": null,
            "max_width": null,
            "min_height": null,
            "min_width": null,
            "object_fit": null,
            "object_position": null,
            "order": null,
            "overflow": null,
            "overflow_x": null,
            "overflow_y": null,
            "padding": null,
            "right": null,
            "top": null,
            "visibility": null,
            "width": null
          }
        },
        "d48f9ca5ecde480f8415cf3aadf0f1fb": {
          "model_module": "@jupyter-widgets/controls",
          "model_name": "DescriptionStyleModel",
          "model_module_version": "1.5.0",
          "state": {
            "_model_module": "@jupyter-widgets/controls",
            "_model_module_version": "1.5.0",
            "_model_name": "DescriptionStyleModel",
            "_view_count": null,
            "_view_module": "@jupyter-widgets/base",
            "_view_module_version": "1.2.0",
            "_view_name": "StyleView",
            "description_width": ""
          }
        },
        "34e9f4bacb7f48e288b37c72ce202909": {
          "model_module": "@jupyter-widgets/controls",
          "model_name": "HBoxModel",
          "model_module_version": "1.5.0",
          "state": {
            "_dom_classes": [],
            "_model_module": "@jupyter-widgets/controls",
            "_model_module_version": "1.5.0",
            "_model_name": "HBoxModel",
            "_view_count": null,
            "_view_module": "@jupyter-widgets/controls",
            "_view_module_version": "1.5.0",
            "_view_name": "HBoxView",
            "box_style": "",
            "children": [
              "IPY_MODEL_0b162979e24e4112bddeee3394460352",
              "IPY_MODEL_9d105f89936a4990bf3034f5066baffe",
              "IPY_MODEL_73979543e3074384b34b20c5867253e9"
            ],
            "layout": "IPY_MODEL_f9b510abb58342109fc30e572feb2976"
          }
        },
        "0b162979e24e4112bddeee3394460352": {
          "model_module": "@jupyter-widgets/controls",
          "model_name": "HTMLModel",
          "model_module_version": "1.5.0",
          "state": {
            "_dom_classes": [],
            "_model_module": "@jupyter-widgets/controls",
            "_model_module_version": "1.5.0",
            "_model_name": "HTMLModel",
            "_view_count": null,
            "_view_module": "@jupyter-widgets/controls",
            "_view_module_version": "1.5.0",
            "_view_name": "HTMLView",
            "description": "",
            "description_tooltip": null,
            "layout": "IPY_MODEL_c3a06632620944a084ceaf6cecfc9521",
            "placeholder": "​",
            "style": "IPY_MODEL_6a74dbe0a04c49d0b36a607ec496618d",
            "value": "config.json: 100%"
          }
        },
        "9d105f89936a4990bf3034f5066baffe": {
          "model_module": "@jupyter-widgets/controls",
          "model_name": "FloatProgressModel",
          "model_module_version": "1.5.0",
          "state": {
            "_dom_classes": [],
            "_model_module": "@jupyter-widgets/controls",
            "_model_module_version": "1.5.0",
            "_model_name": "FloatProgressModel",
            "_view_count": null,
            "_view_module": "@jupyter-widgets/controls",
            "_view_module_version": "1.5.0",
            "_view_name": "ProgressView",
            "bar_style": "success",
            "description": "",
            "description_tooltip": null,
            "layout": "IPY_MODEL_1189223c807c4cbeb4df92793bd259f4",
            "max": 665,
            "min": 0,
            "orientation": "horizontal",
            "style": "IPY_MODEL_fe3baadfed8944fbbae22908c36d15bf",
            "value": 665
          }
        },
        "73979543e3074384b34b20c5867253e9": {
          "model_module": "@jupyter-widgets/controls",
          "model_name": "HTMLModel",
          "model_module_version": "1.5.0",
          "state": {
            "_dom_classes": [],
            "_model_module": "@jupyter-widgets/controls",
            "_model_module_version": "1.5.0",
            "_model_name": "HTMLModel",
            "_view_count": null,
            "_view_module": "@jupyter-widgets/controls",
            "_view_module_version": "1.5.0",
            "_view_name": "HTMLView",
            "description": "",
            "description_tooltip": null,
            "layout": "IPY_MODEL_9ecd1f2828a642aeab31227361734b7b",
            "placeholder": "​",
            "style": "IPY_MODEL_f1e743f79fcb4c209d000577b1403f50",
            "value": " 665/665 [00:00&lt;00:00, 24.9kB/s]"
          }
        },
        "f9b510abb58342109fc30e572feb2976": {
          "model_module": "@jupyter-widgets/base",
          "model_name": "LayoutModel",
          "model_module_version": "1.2.0",
          "state": {
            "_model_module": "@jupyter-widgets/base",
            "_model_module_version": "1.2.0",
            "_model_name": "LayoutModel",
            "_view_count": null,
            "_view_module": "@jupyter-widgets/base",
            "_view_module_version": "1.2.0",
            "_view_name": "LayoutView",
            "align_content": null,
            "align_items": null,
            "align_self": null,
            "border": null,
            "bottom": null,
            "display": null,
            "flex": null,
            "flex_flow": null,
            "grid_area": null,
            "grid_auto_columns": null,
            "grid_auto_flow": null,
            "grid_auto_rows": null,
            "grid_column": null,
            "grid_gap": null,
            "grid_row": null,
            "grid_template_areas": null,
            "grid_template_columns": null,
            "grid_template_rows": null,
            "height": null,
            "justify_content": null,
            "justify_items": null,
            "left": null,
            "margin": null,
            "max_height": null,
            "max_width": null,
            "min_height": null,
            "min_width": null,
            "object_fit": null,
            "object_position": null,
            "order": null,
            "overflow": null,
            "overflow_x": null,
            "overflow_y": null,
            "padding": null,
            "right": null,
            "top": null,
            "visibility": null,
            "width": null
          }
        },
        "c3a06632620944a084ceaf6cecfc9521": {
          "model_module": "@jupyter-widgets/base",
          "model_name": "LayoutModel",
          "model_module_version": "1.2.0",
          "state": {
            "_model_module": "@jupyter-widgets/base",
            "_model_module_version": "1.2.0",
            "_model_name": "LayoutModel",
            "_view_count": null,
            "_view_module": "@jupyter-widgets/base",
            "_view_module_version": "1.2.0",
            "_view_name": "LayoutView",
            "align_content": null,
            "align_items": null,
            "align_self": null,
            "border": null,
            "bottom": null,
            "display": null,
            "flex": null,
            "flex_flow": null,
            "grid_area": null,
            "grid_auto_columns": null,
            "grid_auto_flow": null,
            "grid_auto_rows": null,
            "grid_column": null,
            "grid_gap": null,
            "grid_row": null,
            "grid_template_areas": null,
            "grid_template_columns": null,
            "grid_template_rows": null,
            "height": null,
            "justify_content": null,
            "justify_items": null,
            "left": null,
            "margin": null,
            "max_height": null,
            "max_width": null,
            "min_height": null,
            "min_width": null,
            "object_fit": null,
            "object_position": null,
            "order": null,
            "overflow": null,
            "overflow_x": null,
            "overflow_y": null,
            "padding": null,
            "right": null,
            "top": null,
            "visibility": null,
            "width": null
          }
        },
        "6a74dbe0a04c49d0b36a607ec496618d": {
          "model_module": "@jupyter-widgets/controls",
          "model_name": "DescriptionStyleModel",
          "model_module_version": "1.5.0",
          "state": {
            "_model_module": "@jupyter-widgets/controls",
            "_model_module_version": "1.5.0",
            "_model_name": "DescriptionStyleModel",
            "_view_count": null,
            "_view_module": "@jupyter-widgets/base",
            "_view_module_version": "1.2.0",
            "_view_name": "StyleView",
            "description_width": ""
          }
        },
        "1189223c807c4cbeb4df92793bd259f4": {
          "model_module": "@jupyter-widgets/base",
          "model_name": "LayoutModel",
          "model_module_version": "1.2.0",
          "state": {
            "_model_module": "@jupyter-widgets/base",
            "_model_module_version": "1.2.0",
            "_model_name": "LayoutModel",
            "_view_count": null,
            "_view_module": "@jupyter-widgets/base",
            "_view_module_version": "1.2.0",
            "_view_name": "LayoutView",
            "align_content": null,
            "align_items": null,
            "align_self": null,
            "border": null,
            "bottom": null,
            "display": null,
            "flex": null,
            "flex_flow": null,
            "grid_area": null,
            "grid_auto_columns": null,
            "grid_auto_flow": null,
            "grid_auto_rows": null,
            "grid_column": null,
            "grid_gap": null,
            "grid_row": null,
            "grid_template_areas": null,
            "grid_template_columns": null,
            "grid_template_rows": null,
            "height": null,
            "justify_content": null,
            "justify_items": null,
            "left": null,
            "margin": null,
            "max_height": null,
            "max_width": null,
            "min_height": null,
            "min_width": null,
            "object_fit": null,
            "object_position": null,
            "order": null,
            "overflow": null,
            "overflow_x": null,
            "overflow_y": null,
            "padding": null,
            "right": null,
            "top": null,
            "visibility": null,
            "width": null
          }
        },
        "fe3baadfed8944fbbae22908c36d15bf": {
          "model_module": "@jupyter-widgets/controls",
          "model_name": "ProgressStyleModel",
          "model_module_version": "1.5.0",
          "state": {
            "_model_module": "@jupyter-widgets/controls",
            "_model_module_version": "1.5.0",
            "_model_name": "ProgressStyleModel",
            "_view_count": null,
            "_view_module": "@jupyter-widgets/base",
            "_view_module_version": "1.2.0",
            "_view_name": "StyleView",
            "bar_color": null,
            "description_width": ""
          }
        },
        "9ecd1f2828a642aeab31227361734b7b": {
          "model_module": "@jupyter-widgets/base",
          "model_name": "LayoutModel",
          "model_module_version": "1.2.0",
          "state": {
            "_model_module": "@jupyter-widgets/base",
            "_model_module_version": "1.2.0",
            "_model_name": "LayoutModel",
            "_view_count": null,
            "_view_module": "@jupyter-widgets/base",
            "_view_module_version": "1.2.0",
            "_view_name": "LayoutView",
            "align_content": null,
            "align_items": null,
            "align_self": null,
            "border": null,
            "bottom": null,
            "display": null,
            "flex": null,
            "flex_flow": null,
            "grid_area": null,
            "grid_auto_columns": null,
            "grid_auto_flow": null,
            "grid_auto_rows": null,
            "grid_column": null,
            "grid_gap": null,
            "grid_row": null,
            "grid_template_areas": null,
            "grid_template_columns": null,
            "grid_template_rows": null,
            "height": null,
            "justify_content": null,
            "justify_items": null,
            "left": null,
            "margin": null,
            "max_height": null,
            "max_width": null,
            "min_height": null,
            "min_width": null,
            "object_fit": null,
            "object_position": null,
            "order": null,
            "overflow": null,
            "overflow_x": null,
            "overflow_y": null,
            "padding": null,
            "right": null,
            "top": null,
            "visibility": null,
            "width": null
          }
        },
        "f1e743f79fcb4c209d000577b1403f50": {
          "model_module": "@jupyter-widgets/controls",
          "model_name": "DescriptionStyleModel",
          "model_module_version": "1.5.0",
          "state": {
            "_model_module": "@jupyter-widgets/controls",
            "_model_module_version": "1.5.0",
            "_model_name": "DescriptionStyleModel",
            "_view_count": null,
            "_view_module": "@jupyter-widgets/base",
            "_view_module_version": "1.2.0",
            "_view_name": "StyleView",
            "description_width": ""
          }
        },
        "f7b019965fcc4dd5a2e658352956bbb2": {
          "model_module": "@jupyter-widgets/controls",
          "model_name": "HBoxModel",
          "model_module_version": "1.5.0",
          "state": {
            "_dom_classes": [],
            "_model_module": "@jupyter-widgets/controls",
            "_model_module_version": "1.5.0",
            "_model_name": "HBoxModel",
            "_view_count": null,
            "_view_module": "@jupyter-widgets/controls",
            "_view_module_version": "1.5.0",
            "_view_name": "HBoxView",
            "box_style": "",
            "children": [
              "IPY_MODEL_4eddf79fdddc4638bb9a4563d344a27c",
              "IPY_MODEL_bc74b3f4d23b46c6895f6c6f2f1ada30",
              "IPY_MODEL_f757f74c1fae47c69cb1833910868fc9"
            ],
            "layout": "IPY_MODEL_b39934df5df74c0195e37e060f2ba575"
          }
        },
        "4eddf79fdddc4638bb9a4563d344a27c": {
          "model_module": "@jupyter-widgets/controls",
          "model_name": "HTMLModel",
          "model_module_version": "1.5.0",
          "state": {
            "_dom_classes": [],
            "_model_module": "@jupyter-widgets/controls",
            "_model_module_version": "1.5.0",
            "_model_name": "HTMLModel",
            "_view_count": null,
            "_view_module": "@jupyter-widgets/controls",
            "_view_module_version": "1.5.0",
            "_view_name": "HTMLView",
            "description": "",
            "description_tooltip": null,
            "layout": "IPY_MODEL_029b96369788427a9ad8acce90c5e2ec",
            "placeholder": "​",
            "style": "IPY_MODEL_e286b3c745b846b498a56787cf32caed",
            "value": "model.safetensors: 100%"
          }
        },
        "bc74b3f4d23b46c6895f6c6f2f1ada30": {
          "model_module": "@jupyter-widgets/controls",
          "model_name": "FloatProgressModel",
          "model_module_version": "1.5.0",
          "state": {
            "_dom_classes": [],
            "_model_module": "@jupyter-widgets/controls",
            "_model_module_version": "1.5.0",
            "_model_name": "FloatProgressModel",
            "_view_count": null,
            "_view_module": "@jupyter-widgets/controls",
            "_view_module_version": "1.5.0",
            "_view_name": "ProgressView",
            "bar_style": "success",
            "description": "",
            "description_tooltip": null,
            "layout": "IPY_MODEL_3bb797be83934df9bb29eb3573ec67ce",
            "max": 548105171,
            "min": 0,
            "orientation": "horizontal",
            "style": "IPY_MODEL_a6eab4fda16448fdb9f0b024604922cc",
            "value": 548105171
          }
        },
        "f757f74c1fae47c69cb1833910868fc9": {
          "model_module": "@jupyter-widgets/controls",
          "model_name": "HTMLModel",
          "model_module_version": "1.5.0",
          "state": {
            "_dom_classes": [],
            "_model_module": "@jupyter-widgets/controls",
            "_model_module_version": "1.5.0",
            "_model_name": "HTMLModel",
            "_view_count": null,
            "_view_module": "@jupyter-widgets/controls",
            "_view_module_version": "1.5.0",
            "_view_name": "HTMLView",
            "description": "",
            "description_tooltip": null,
            "layout": "IPY_MODEL_8257133d37ec4f7baf9d26ff0ad923f3",
            "placeholder": "​",
            "style": "IPY_MODEL_780ee282f8084e6eb87a69461cc3dfb5",
            "value": " 548M/548M [00:11&lt;00:00, 41.2MB/s]"
          }
        },
        "b39934df5df74c0195e37e060f2ba575": {
          "model_module": "@jupyter-widgets/base",
          "model_name": "LayoutModel",
          "model_module_version": "1.2.0",
          "state": {
            "_model_module": "@jupyter-widgets/base",
            "_model_module_version": "1.2.0",
            "_model_name": "LayoutModel",
            "_view_count": null,
            "_view_module": "@jupyter-widgets/base",
            "_view_module_version": "1.2.0",
            "_view_name": "LayoutView",
            "align_content": null,
            "align_items": null,
            "align_self": null,
            "border": null,
            "bottom": null,
            "display": null,
            "flex": null,
            "flex_flow": null,
            "grid_area": null,
            "grid_auto_columns": null,
            "grid_auto_flow": null,
            "grid_auto_rows": null,
            "grid_column": null,
            "grid_gap": null,
            "grid_row": null,
            "grid_template_areas": null,
            "grid_template_columns": null,
            "grid_template_rows": null,
            "height": null,
            "justify_content": null,
            "justify_items": null,
            "left": null,
            "margin": null,
            "max_height": null,
            "max_width": null,
            "min_height": null,
            "min_width": null,
            "object_fit": null,
            "object_position": null,
            "order": null,
            "overflow": null,
            "overflow_x": null,
            "overflow_y": null,
            "padding": null,
            "right": null,
            "top": null,
            "visibility": null,
            "width": null
          }
        },
        "029b96369788427a9ad8acce90c5e2ec": {
          "model_module": "@jupyter-widgets/base",
          "model_name": "LayoutModel",
          "model_module_version": "1.2.0",
          "state": {
            "_model_module": "@jupyter-widgets/base",
            "_model_module_version": "1.2.0",
            "_model_name": "LayoutModel",
            "_view_count": null,
            "_view_module": "@jupyter-widgets/base",
            "_view_module_version": "1.2.0",
            "_view_name": "LayoutView",
            "align_content": null,
            "align_items": null,
            "align_self": null,
            "border": null,
            "bottom": null,
            "display": null,
            "flex": null,
            "flex_flow": null,
            "grid_area": null,
            "grid_auto_columns": null,
            "grid_auto_flow": null,
            "grid_auto_rows": null,
            "grid_column": null,
            "grid_gap": null,
            "grid_row": null,
            "grid_template_areas": null,
            "grid_template_columns": null,
            "grid_template_rows": null,
            "height": null,
            "justify_content": null,
            "justify_items": null,
            "left": null,
            "margin": null,
            "max_height": null,
            "max_width": null,
            "min_height": null,
            "min_width": null,
            "object_fit": null,
            "object_position": null,
            "order": null,
            "overflow": null,
            "overflow_x": null,
            "overflow_y": null,
            "padding": null,
            "right": null,
            "top": null,
            "visibility": null,
            "width": null
          }
        },
        "e286b3c745b846b498a56787cf32caed": {
          "model_module": "@jupyter-widgets/controls",
          "model_name": "DescriptionStyleModel",
          "model_module_version": "1.5.0",
          "state": {
            "_model_module": "@jupyter-widgets/controls",
            "_model_module_version": "1.5.0",
            "_model_name": "DescriptionStyleModel",
            "_view_count": null,
            "_view_module": "@jupyter-widgets/base",
            "_view_module_version": "1.2.0",
            "_view_name": "StyleView",
            "description_width": ""
          }
        },
        "3bb797be83934df9bb29eb3573ec67ce": {
          "model_module": "@jupyter-widgets/base",
          "model_name": "LayoutModel",
          "model_module_version": "1.2.0",
          "state": {
            "_model_module": "@jupyter-widgets/base",
            "_model_module_version": "1.2.0",
            "_model_name": "LayoutModel",
            "_view_count": null,
            "_view_module": "@jupyter-widgets/base",
            "_view_module_version": "1.2.0",
            "_view_name": "LayoutView",
            "align_content": null,
            "align_items": null,
            "align_self": null,
            "border": null,
            "bottom": null,
            "display": null,
            "flex": null,
            "flex_flow": null,
            "grid_area": null,
            "grid_auto_columns": null,
            "grid_auto_flow": null,
            "grid_auto_rows": null,
            "grid_column": null,
            "grid_gap": null,
            "grid_row": null,
            "grid_template_areas": null,
            "grid_template_columns": null,
            "grid_template_rows": null,
            "height": null,
            "justify_content": null,
            "justify_items": null,
            "left": null,
            "margin": null,
            "max_height": null,
            "max_width": null,
            "min_height": null,
            "min_width": null,
            "object_fit": null,
            "object_position": null,
            "order": null,
            "overflow": null,
            "overflow_x": null,
            "overflow_y": null,
            "padding": null,
            "right": null,
            "top": null,
            "visibility": null,
            "width": null
          }
        },
        "a6eab4fda16448fdb9f0b024604922cc": {
          "model_module": "@jupyter-widgets/controls",
          "model_name": "ProgressStyleModel",
          "model_module_version": "1.5.0",
          "state": {
            "_model_module": "@jupyter-widgets/controls",
            "_model_module_version": "1.5.0",
            "_model_name": "ProgressStyleModel",
            "_view_count": null,
            "_view_module": "@jupyter-widgets/base",
            "_view_module_version": "1.2.0",
            "_view_name": "StyleView",
            "bar_color": null,
            "description_width": ""
          }
        },
        "8257133d37ec4f7baf9d26ff0ad923f3": {
          "model_module": "@jupyter-widgets/base",
          "model_name": "LayoutModel",
          "model_module_version": "1.2.0",
          "state": {
            "_model_module": "@jupyter-widgets/base",
            "_model_module_version": "1.2.0",
            "_model_name": "LayoutModel",
            "_view_count": null,
            "_view_module": "@jupyter-widgets/base",
            "_view_module_version": "1.2.0",
            "_view_name": "LayoutView",
            "align_content": null,
            "align_items": null,
            "align_self": null,
            "border": null,
            "bottom": null,
            "display": null,
            "flex": null,
            "flex_flow": null,
            "grid_area": null,
            "grid_auto_columns": null,
            "grid_auto_flow": null,
            "grid_auto_rows": null,
            "grid_column": null,
            "grid_gap": null,
            "grid_row": null,
            "grid_template_areas": null,
            "grid_template_columns": null,
            "grid_template_rows": null,
            "height": null,
            "justify_content": null,
            "justify_items": null,
            "left": null,
            "margin": null,
            "max_height": null,
            "max_width": null,
            "min_height": null,
            "min_width": null,
            "object_fit": null,
            "object_position": null,
            "order": null,
            "overflow": null,
            "overflow_x": null,
            "overflow_y": null,
            "padding": null,
            "right": null,
            "top": null,
            "visibility": null,
            "width": null
          }
        },
        "780ee282f8084e6eb87a69461cc3dfb5": {
          "model_module": "@jupyter-widgets/controls",
          "model_name": "DescriptionStyleModel",
          "model_module_version": "1.5.0",
          "state": {
            "_model_module": "@jupyter-widgets/controls",
            "_model_module_version": "1.5.0",
            "_model_name": "DescriptionStyleModel",
            "_view_count": null,
            "_view_module": "@jupyter-widgets/base",
            "_view_module_version": "1.2.0",
            "_view_name": "StyleView",
            "description_width": ""
          }
        },
        "f1ac0884a21d452b9d3e7c1333c6ce81": {
          "model_module": "@jupyter-widgets/controls",
          "model_name": "HBoxModel",
          "model_module_version": "1.5.0",
          "state": {
            "_dom_classes": [],
            "_model_module": "@jupyter-widgets/controls",
            "_model_module_version": "1.5.0",
            "_model_name": "HBoxModel",
            "_view_count": null,
            "_view_module": "@jupyter-widgets/controls",
            "_view_module_version": "1.5.0",
            "_view_name": "HBoxView",
            "box_style": "",
            "children": [
              "IPY_MODEL_51c5a7aa1b384e3b85f01d12dfc405c9",
              "IPY_MODEL_a42c66fde4d646e682c3555cff411525",
              "IPY_MODEL_d26c021e95ef420882c5fb0d6a1dbb55"
            ],
            "layout": "IPY_MODEL_80ccacd8bdfd41189ef3480cb81f1de1"
          }
        },
        "51c5a7aa1b384e3b85f01d12dfc405c9": {
          "model_module": "@jupyter-widgets/controls",
          "model_name": "HTMLModel",
          "model_module_version": "1.5.0",
          "state": {
            "_dom_classes": [],
            "_model_module": "@jupyter-widgets/controls",
            "_model_module_version": "1.5.0",
            "_model_name": "HTMLModel",
            "_view_count": null,
            "_view_module": "@jupyter-widgets/controls",
            "_view_module_version": "1.5.0",
            "_view_name": "HTMLView",
            "description": "",
            "description_tooltip": null,
            "layout": "IPY_MODEL_6256a27c5c114ce790de02e27c4b1fe2",
            "placeholder": "​",
            "style": "IPY_MODEL_93e99cea49784014abaa8814d219a787",
            "value": "generation_config.json: 100%"
          }
        },
        "a42c66fde4d646e682c3555cff411525": {
          "model_module": "@jupyter-widgets/controls",
          "model_name": "FloatProgressModel",
          "model_module_version": "1.5.0",
          "state": {
            "_dom_classes": [],
            "_model_module": "@jupyter-widgets/controls",
            "_model_module_version": "1.5.0",
            "_model_name": "FloatProgressModel",
            "_view_count": null,
            "_view_module": "@jupyter-widgets/controls",
            "_view_module_version": "1.5.0",
            "_view_name": "ProgressView",
            "bar_style": "success",
            "description": "",
            "description_tooltip": null,
            "layout": "IPY_MODEL_341171631c4b45cdbd5979178a7d1291",
            "max": 124,
            "min": 0,
            "orientation": "horizontal",
            "style": "IPY_MODEL_73cd5f3ec4ab49168dbec88ce3a1729b",
            "value": 124
          }
        },
        "d26c021e95ef420882c5fb0d6a1dbb55": {
          "model_module": "@jupyter-widgets/controls",
          "model_name": "HTMLModel",
          "model_module_version": "1.5.0",
          "state": {
            "_dom_classes": [],
            "_model_module": "@jupyter-widgets/controls",
            "_model_module_version": "1.5.0",
            "_model_name": "HTMLModel",
            "_view_count": null,
            "_view_module": "@jupyter-widgets/controls",
            "_view_module_version": "1.5.0",
            "_view_name": "HTMLView",
            "description": "",
            "description_tooltip": null,
            "layout": "IPY_MODEL_868cbc19634649f9ab9970333270f392",
            "placeholder": "​",
            "style": "IPY_MODEL_5894d76d469a4aa29219b5528918b2fa",
            "value": " 124/124 [00:00&lt;00:00, 1.03kB/s]"
          }
        },
        "80ccacd8bdfd41189ef3480cb81f1de1": {
          "model_module": "@jupyter-widgets/base",
          "model_name": "LayoutModel",
          "model_module_version": "1.2.0",
          "state": {
            "_model_module": "@jupyter-widgets/base",
            "_model_module_version": "1.2.0",
            "_model_name": "LayoutModel",
            "_view_count": null,
            "_view_module": "@jupyter-widgets/base",
            "_view_module_version": "1.2.0",
            "_view_name": "LayoutView",
            "align_content": null,
            "align_items": null,
            "align_self": null,
            "border": null,
            "bottom": null,
            "display": null,
            "flex": null,
            "flex_flow": null,
            "grid_area": null,
            "grid_auto_columns": null,
            "grid_auto_flow": null,
            "grid_auto_rows": null,
            "grid_column": null,
            "grid_gap": null,
            "grid_row": null,
            "grid_template_areas": null,
            "grid_template_columns": null,
            "grid_template_rows": null,
            "height": null,
            "justify_content": null,
            "justify_items": null,
            "left": null,
            "margin": null,
            "max_height": null,
            "max_width": null,
            "min_height": null,
            "min_width": null,
            "object_fit": null,
            "object_position": null,
            "order": null,
            "overflow": null,
            "overflow_x": null,
            "overflow_y": null,
            "padding": null,
            "right": null,
            "top": null,
            "visibility": null,
            "width": null
          }
        },
        "6256a27c5c114ce790de02e27c4b1fe2": {
          "model_module": "@jupyter-widgets/base",
          "model_name": "LayoutModel",
          "model_module_version": "1.2.0",
          "state": {
            "_model_module": "@jupyter-widgets/base",
            "_model_module_version": "1.2.0",
            "_model_name": "LayoutModel",
            "_view_count": null,
            "_view_module": "@jupyter-widgets/base",
            "_view_module_version": "1.2.0",
            "_view_name": "LayoutView",
            "align_content": null,
            "align_items": null,
            "align_self": null,
            "border": null,
            "bottom": null,
            "display": null,
            "flex": null,
            "flex_flow": null,
            "grid_area": null,
            "grid_auto_columns": null,
            "grid_auto_flow": null,
            "grid_auto_rows": null,
            "grid_column": null,
            "grid_gap": null,
            "grid_row": null,
            "grid_template_areas": null,
            "grid_template_columns": null,
            "grid_template_rows": null,
            "height": null,
            "justify_content": null,
            "justify_items": null,
            "left": null,
            "margin": null,
            "max_height": null,
            "max_width": null,
            "min_height": null,
            "min_width": null,
            "object_fit": null,
            "object_position": null,
            "order": null,
            "overflow": null,
            "overflow_x": null,
            "overflow_y": null,
            "padding": null,
            "right": null,
            "top": null,
            "visibility": null,
            "width": null
          }
        },
        "93e99cea49784014abaa8814d219a787": {
          "model_module": "@jupyter-widgets/controls",
          "model_name": "DescriptionStyleModel",
          "model_module_version": "1.5.0",
          "state": {
            "_model_module": "@jupyter-widgets/controls",
            "_model_module_version": "1.5.0",
            "_model_name": "DescriptionStyleModel",
            "_view_count": null,
            "_view_module": "@jupyter-widgets/base",
            "_view_module_version": "1.2.0",
            "_view_name": "StyleView",
            "description_width": ""
          }
        },
        "341171631c4b45cdbd5979178a7d1291": {
          "model_module": "@jupyter-widgets/base",
          "model_name": "LayoutModel",
          "model_module_version": "1.2.0",
          "state": {
            "_model_module": "@jupyter-widgets/base",
            "_model_module_version": "1.2.0",
            "_model_name": "LayoutModel",
            "_view_count": null,
            "_view_module": "@jupyter-widgets/base",
            "_view_module_version": "1.2.0",
            "_view_name": "LayoutView",
            "align_content": null,
            "align_items": null,
            "align_self": null,
            "border": null,
            "bottom": null,
            "display": null,
            "flex": null,
            "flex_flow": null,
            "grid_area": null,
            "grid_auto_columns": null,
            "grid_auto_flow": null,
            "grid_auto_rows": null,
            "grid_column": null,
            "grid_gap": null,
            "grid_row": null,
            "grid_template_areas": null,
            "grid_template_columns": null,
            "grid_template_rows": null,
            "height": null,
            "justify_content": null,
            "justify_items": null,
            "left": null,
            "margin": null,
            "max_height": null,
            "max_width": null,
            "min_height": null,
            "min_width": null,
            "object_fit": null,
            "object_position": null,
            "order": null,
            "overflow": null,
            "overflow_x": null,
            "overflow_y": null,
            "padding": null,
            "right": null,
            "top": null,
            "visibility": null,
            "width": null
          }
        },
        "73cd5f3ec4ab49168dbec88ce3a1729b": {
          "model_module": "@jupyter-widgets/controls",
          "model_name": "ProgressStyleModel",
          "model_module_version": "1.5.0",
          "state": {
            "_model_module": "@jupyter-widgets/controls",
            "_model_module_version": "1.5.0",
            "_model_name": "ProgressStyleModel",
            "_view_count": null,
            "_view_module": "@jupyter-widgets/base",
            "_view_module_version": "1.2.0",
            "_view_name": "StyleView",
            "bar_color": null,
            "description_width": ""
          }
        },
        "868cbc19634649f9ab9970333270f392": {
          "model_module": "@jupyter-widgets/base",
          "model_name": "LayoutModel",
          "model_module_version": "1.2.0",
          "state": {
            "_model_module": "@jupyter-widgets/base",
            "_model_module_version": "1.2.0",
            "_model_name": "LayoutModel",
            "_view_count": null,
            "_view_module": "@jupyter-widgets/base",
            "_view_module_version": "1.2.0",
            "_view_name": "LayoutView",
            "align_content": null,
            "align_items": null,
            "align_self": null,
            "border": null,
            "bottom": null,
            "display": null,
            "flex": null,
            "flex_flow": null,
            "grid_area": null,
            "grid_auto_columns": null,
            "grid_auto_flow": null,
            "grid_auto_rows": null,
            "grid_column": null,
            "grid_gap": null,
            "grid_row": null,
            "grid_template_areas": null,
            "grid_template_columns": null,
            "grid_template_rows": null,
            "height": null,
            "justify_content": null,
            "justify_items": null,
            "left": null,
            "margin": null,
            "max_height": null,
            "max_width": null,
            "min_height": null,
            "min_width": null,
            "object_fit": null,
            "object_position": null,
            "order": null,
            "overflow": null,
            "overflow_x": null,
            "overflow_y": null,
            "padding": null,
            "right": null,
            "top": null,
            "visibility": null,
            "width": null
          }
        },
        "5894d76d469a4aa29219b5528918b2fa": {
          "model_module": "@jupyter-widgets/controls",
          "model_name": "DescriptionStyleModel",
          "model_module_version": "1.5.0",
          "state": {
            "_model_module": "@jupyter-widgets/controls",
            "_model_module_version": "1.5.0",
            "_model_name": "DescriptionStyleModel",
            "_view_count": null,
            "_view_module": "@jupyter-widgets/base",
            "_view_module_version": "1.2.0",
            "_view_name": "StyleView",
            "description_width": ""
          }
        }
      }
    }
  },
  "cells": [
    {
      "cell_type": "code",
      "execution_count": null,
      "metadata": {
        "colab": {
          "base_uri": "https://localhost:8080/"
        },
        "id": "uSQT7Q_suWsn",
        "outputId": "c53c34fc-8668-4e5f-ee62-598f3f0e993e"
      },
      "outputs": [
        {
          "output_type": "stream",
          "name": "stdout",
          "text": [
            "Requirement already satisfied: kaggle in /usr/local/lib/python3.11/dist-packages (1.7.4.5)\n",
            "Requirement already satisfied: bleach in /usr/local/lib/python3.11/dist-packages (from kaggle) (6.2.0)\n",
            "Requirement already satisfied: certifi>=14.05.14 in /usr/local/lib/python3.11/dist-packages (from kaggle) (2025.6.15)\n",
            "Requirement already satisfied: charset-normalizer in /usr/local/lib/python3.11/dist-packages (from kaggle) (3.4.2)\n",
            "Requirement already satisfied: idna in /usr/local/lib/python3.11/dist-packages (from kaggle) (3.10)\n",
            "Requirement already satisfied: protobuf in /usr/local/lib/python3.11/dist-packages (from kaggle) (5.29.5)\n",
            "Requirement already satisfied: python-dateutil>=2.5.3 in /usr/local/lib/python3.11/dist-packages (from kaggle) (2.9.0.post0)\n",
            "Requirement already satisfied: python-slugify in /usr/local/lib/python3.11/dist-packages (from kaggle) (8.0.4)\n",
            "Requirement already satisfied: requests in /usr/local/lib/python3.11/dist-packages (from kaggle) (2.32.3)\n",
            "Requirement already satisfied: setuptools>=21.0.0 in /usr/local/lib/python3.11/dist-packages (from kaggle) (75.2.0)\n",
            "Requirement already satisfied: six>=1.10 in /usr/local/lib/python3.11/dist-packages (from kaggle) (1.17.0)\n",
            "Requirement already satisfied: text-unidecode in /usr/local/lib/python3.11/dist-packages (from kaggle) (1.3)\n",
            "Requirement already satisfied: tqdm in /usr/local/lib/python3.11/dist-packages (from kaggle) (4.67.1)\n",
            "Requirement already satisfied: urllib3>=1.15.1 in /usr/local/lib/python3.11/dist-packages (from kaggle) (2.4.0)\n",
            "Requirement already satisfied: webencodings in /usr/local/lib/python3.11/dist-packages (from kaggle) (0.5.1)\n",
            "Collecting gTTS\n",
            "  Downloading gTTS-2.5.4-py3-none-any.whl.metadata (4.1 kB)\n",
            "Requirement already satisfied: requests<3,>=2.27 in /usr/local/lib/python3.11/dist-packages (from gTTS) (2.32.3)\n",
            "Collecting click<8.2,>=7.1 (from gTTS)\n",
            "  Downloading click-8.1.8-py3-none-any.whl.metadata (2.3 kB)\n",
            "Requirement already satisfied: charset-normalizer<4,>=2 in /usr/local/lib/python3.11/dist-packages (from requests<3,>=2.27->gTTS) (3.4.2)\n",
            "Requirement already satisfied: idna<4,>=2.5 in /usr/local/lib/python3.11/dist-packages (from requests<3,>=2.27->gTTS) (3.10)\n",
            "Requirement already satisfied: urllib3<3,>=1.21.1 in /usr/local/lib/python3.11/dist-packages (from requests<3,>=2.27->gTTS) (2.4.0)\n",
            "Requirement already satisfied: certifi>=2017.4.17 in /usr/local/lib/python3.11/dist-packages (from requests<3,>=2.27->gTTS) (2025.6.15)\n",
            "Downloading gTTS-2.5.4-py3-none-any.whl (29 kB)\n",
            "Downloading click-8.1.8-py3-none-any.whl (98 kB)\n",
            "\u001b[2K   \u001b[90m━━━━━━━━━━━━━━━━━━━━━━━━━━━━━━━━━━━━━━━━\u001b[0m \u001b[32m98.2/98.2 kB\u001b[0m \u001b[31m2.7 MB/s\u001b[0m eta \u001b[36m0:00:00\u001b[0m\n",
            "\u001b[?25hInstalling collected packages: click, gTTS\n",
            "  Attempting uninstall: click\n",
            "    Found existing installation: click 8.2.1\n",
            "    Uninstalling click-8.2.1:\n",
            "      Successfully uninstalled click-8.2.1\n",
            "Successfully installed click-8.1.8 gTTS-2.5.4\n",
            "Requirement already satisfied: transformers in /usr/local/lib/python3.11/dist-packages (4.52.4)\n",
            "Requirement already satisfied: filelock in /usr/local/lib/python3.11/dist-packages (from transformers) (3.18.0)\n",
            "Requirement already satisfied: huggingface-hub<1.0,>=0.30.0 in /usr/local/lib/python3.11/dist-packages (from transformers) (0.33.0)\n",
            "Requirement already satisfied: numpy>=1.17 in /usr/local/lib/python3.11/dist-packages (from transformers) (2.0.2)\n",
            "Requirement already satisfied: packaging>=20.0 in /usr/local/lib/python3.11/dist-packages (from transformers) (24.2)\n",
            "Requirement already satisfied: pyyaml>=5.1 in /usr/local/lib/python3.11/dist-packages (from transformers) (6.0.2)\n",
            "Requirement already satisfied: regex!=2019.12.17 in /usr/local/lib/python3.11/dist-packages (from transformers) (2024.11.6)\n",
            "Requirement already satisfied: requests in /usr/local/lib/python3.11/dist-packages (from transformers) (2.32.3)\n",
            "Requirement already satisfied: tokenizers<0.22,>=0.21 in /usr/local/lib/python3.11/dist-packages (from transformers) (0.21.2)\n",
            "Requirement already satisfied: safetensors>=0.4.3 in /usr/local/lib/python3.11/dist-packages (from transformers) (0.5.3)\n",
            "Requirement already satisfied: tqdm>=4.27 in /usr/local/lib/python3.11/dist-packages (from transformers) (4.67.1)\n",
            "Requirement already satisfied: fsspec>=2023.5.0 in /usr/local/lib/python3.11/dist-packages (from huggingface-hub<1.0,>=0.30.0->transformers) (2025.3.2)\n",
            "Requirement already satisfied: typing-extensions>=3.7.4.3 in /usr/local/lib/python3.11/dist-packages (from huggingface-hub<1.0,>=0.30.0->transformers) (4.14.0)\n",
            "Requirement already satisfied: hf-xet<2.0.0,>=1.1.2 in /usr/local/lib/python3.11/dist-packages (from huggingface-hub<1.0,>=0.30.0->transformers) (1.1.5)\n",
            "Requirement already satisfied: charset-normalizer<4,>=2 in /usr/local/lib/python3.11/dist-packages (from requests->transformers) (3.4.2)\n",
            "Requirement already satisfied: idna<4,>=2.5 in /usr/local/lib/python3.11/dist-packages (from requests->transformers) (3.10)\n",
            "Requirement already satisfied: urllib3<3,>=1.21.1 in /usr/local/lib/python3.11/dist-packages (from requests->transformers) (2.4.0)\n",
            "Requirement already satisfied: certifi>=2017.4.17 in /usr/local/lib/python3.11/dist-packages (from requests->transformers) (2025.6.15)\n",
            "Requirement already satisfied: seaborn in /usr/local/lib/python3.11/dist-packages (0.13.2)\n",
            "Requirement already satisfied: numpy!=1.24.0,>=1.20 in /usr/local/lib/python3.11/dist-packages (from seaborn) (2.0.2)\n",
            "Requirement already satisfied: pandas>=1.2 in /usr/local/lib/python3.11/dist-packages (from seaborn) (2.2.2)\n",
            "Requirement already satisfied: matplotlib!=3.6.1,>=3.4 in /usr/local/lib/python3.11/dist-packages (from seaborn) (3.10.0)\n",
            "Requirement already satisfied: contourpy>=1.0.1 in /usr/local/lib/python3.11/dist-packages (from matplotlib!=3.6.1,>=3.4->seaborn) (1.3.2)\n",
            "Requirement already satisfied: cycler>=0.10 in /usr/local/lib/python3.11/dist-packages (from matplotlib!=3.6.1,>=3.4->seaborn) (0.12.1)\n",
            "Requirement already satisfied: fonttools>=4.22.0 in /usr/local/lib/python3.11/dist-packages (from matplotlib!=3.6.1,>=3.4->seaborn) (4.58.4)\n",
            "Requirement already satisfied: kiwisolver>=1.3.1 in /usr/local/lib/python3.11/dist-packages (from matplotlib!=3.6.1,>=3.4->seaborn) (1.4.8)\n",
            "Requirement already satisfied: packaging>=20.0 in /usr/local/lib/python3.11/dist-packages (from matplotlib!=3.6.1,>=3.4->seaborn) (24.2)\n",
            "Requirement already satisfied: pillow>=8 in /usr/local/lib/python3.11/dist-packages (from matplotlib!=3.6.1,>=3.4->seaborn) (11.2.1)\n",
            "Requirement already satisfied: pyparsing>=2.3.1 in /usr/local/lib/python3.11/dist-packages (from matplotlib!=3.6.1,>=3.4->seaborn) (3.2.3)\n",
            "Requirement already satisfied: python-dateutil>=2.7 in /usr/local/lib/python3.11/dist-packages (from matplotlib!=3.6.1,>=3.4->seaborn) (2.9.0.post0)\n",
            "Requirement already satisfied: pytz>=2020.1 in /usr/local/lib/python3.11/dist-packages (from pandas>=1.2->seaborn) (2025.2)\n",
            "Requirement already satisfied: tzdata>=2022.7 in /usr/local/lib/python3.11/dist-packages (from pandas>=1.2->seaborn) (2025.2)\n",
            "Requirement already satisfied: six>=1.5 in /usr/local/lib/python3.11/dist-packages (from python-dateutil>=2.7->matplotlib!=3.6.1,>=3.4->seaborn) (1.17.0)\n"
          ]
        }
      ],
      "source": [
        "# Install all dependencies\n",
        "!pip install kaggle\n",
        "!pip install gTTS\n",
        "!pip install transformers\n",
        "!pip install seaborn\n",
        "\n",
        "# Import all libraries\n",
        "\n",
        "# System & I/O\n",
        "import os\n",
        "import random\n",
        "import numpy as np\n",
        "import pandas as pd\n",
        "\n",
        "# Visualization\n",
        "import matplotlib.pyplot as plt\n",
        "import seaborn as sns\n",
        "\n",
        "# Audio\n",
        "from gtts import gTTS\n",
        "import IPython.display as ipd\n",
        "import tempfile\n",
        "\n",
        "# PyTorch\n",
        "import torch\n",
        "import torch.nn as nn\n",
        "import torch.nn.functional as F\n",
        "import torch.optim as optim\n",
        "from torch.utils.data import Dataset, DataLoader, random_split\n",
        "\n",
        "# Sklearn\n",
        "from sklearn.preprocessing import LabelEncoder, StandardScaler\n",
        "from sklearn.model_selection import train_test_split\n",
        "from sklearn.metrics import classification_report, confusion_matrix\n",
        "\n",
        "# Transformers\n",
        "from transformers import GPT2LMHeadModel, GPT2Tokenizer"
      ]
    },
    {
      "cell_type": "markdown",
      "source": [
        "# Kaggle Setup and Dataset Download"
      ],
      "metadata": {
        "id": "a4zGdmCVupq2"
      }
    },
    {
      "cell_type": "code",
      "source": [
        "# Kaggle API setup\n",
        "\n",
        "!mkdir -p ~/.kaggle\n",
        "!cp /content/kaggle.json ~/.kaggle/\n",
        "!chmod 600 ~/.kaggle/kaggle.json\n",
        "\n",
        "!kaggle datasets download -d birdy654/eeg-brainwave-dataset-feeling-emotions\n",
        "!unzip eeg-brainwave-dataset-feeling-emotions.zip -d eeg_emotion_data"
      ],
      "metadata": {
        "colab": {
          "base_uri": "https://localhost:8080/"
        },
        "id": "CK8PJklguo_v",
        "outputId": "980bc03d-a744-4b82-f62d-2aa2f5171546"
      },
      "execution_count": null,
      "outputs": [
        {
          "output_type": "stream",
          "name": "stdout",
          "text": [
            "Dataset URL: https://www.kaggle.com/datasets/birdy654/eeg-brainwave-dataset-feeling-emotions\n",
            "License(s): copyright-authors\n",
            "Downloading eeg-brainwave-dataset-feeling-emotions.zip to /content\n",
            "  0% 0.00/11.9M [00:00<?, ?B/s]\n",
            "100% 11.9M/11.9M [00:00<00:00, 863MB/s]\n",
            "Archive:  eeg-brainwave-dataset-feeling-emotions.zip\n",
            "  inflating: eeg_emotion_data/emotions.csv  \n"
          ]
        }
      ]
    },
    {
      "cell_type": "code",
      "source": [
        "df = pd.read_csv('/content/eeg_emotion_data/emotions.csv')\n",
        "\n",
        "print(\"Shape:\", df.shape)\n",
        "print(\"Columns:\", df.columns[:5].tolist(), '...')\n",
        "df.head()"
      ],
      "metadata": {
        "colab": {
          "base_uri": "https://localhost:8080/",
          "height": 309
        },
        "id": "tliUKV8LwWTG",
        "outputId": "166816fc-764c-4dc3-bec9-e7d3f738e40c"
      },
      "execution_count": null,
      "outputs": [
        {
          "output_type": "stream",
          "name": "stdout",
          "text": [
            "Shape: (2132, 2549)\n",
            "Columns: ['# mean_0_a', 'mean_1_a', 'mean_2_a', 'mean_3_a', 'mean_4_a'] ...\n"
          ]
        },
        {
          "output_type": "execute_result",
          "data": {
            "text/plain": [
              "   # mean_0_a  mean_1_a  mean_2_a  mean_3_a  mean_4_a  mean_d_0_a  mean_d_1_a  \\\n",
              "0        4.62      30.3    -356.0      15.6      26.3       1.070       0.411   \n",
              "1       28.80      33.1      32.0      25.8      22.8       6.550       1.680   \n",
              "2        8.90      29.4    -416.0      16.7      23.7      79.900       3.360   \n",
              "3       14.90      31.6    -143.0      19.8      24.3      -0.584      -0.284   \n",
              "4       28.30      31.3      45.2      27.3      24.5      34.800      -5.790   \n",
              "\n",
              "   mean_d_2_a  mean_d_3_a  mean_d_4_a  ...  fft_741_b  fft_742_b  fft_743_b  \\\n",
              "0      -15.70        2.06        3.15  ...       23.5       20.3       20.3   \n",
              "1        2.88        3.83       -4.82  ...      -23.3      -21.8      -21.8   \n",
              "2       90.20       89.90        2.03  ...      462.0     -233.0     -233.0   \n",
              "3        8.82        2.30       -1.97  ...      299.0     -243.0     -243.0   \n",
              "4        3.06       41.40        5.52  ...       12.0       38.1       38.1   \n",
              "\n",
              "   fft_744_b  fft_745_b  fft_746_b  fft_747_b  fft_748_b  fft_749_b     label  \n",
              "0       23.5     -215.0     280.00    -162.00    -162.00     280.00  NEGATIVE  \n",
              "1      -23.3      182.0       2.57     -31.60     -31.60       2.57   NEUTRAL  \n",
              "2      462.0     -267.0     281.00    -148.00    -148.00     281.00  POSITIVE  \n",
              "3      299.0      132.0     -12.40       9.53       9.53     -12.40  POSITIVE  \n",
              "4       12.0      119.0     -17.60      23.90      23.90     -17.60   NEUTRAL  \n",
              "\n",
              "[5 rows x 2549 columns]"
            ],
            "text/html": [
              "\n",
              "  <div id=\"df-f93e7d09-a810-4798-b4cc-efb46d81215f\" class=\"colab-df-container\">\n",
              "    <div>\n",
              "<style scoped>\n",
              "    .dataframe tbody tr th:only-of-type {\n",
              "        vertical-align: middle;\n",
              "    }\n",
              "\n",
              "    .dataframe tbody tr th {\n",
              "        vertical-align: top;\n",
              "    }\n",
              "\n",
              "    .dataframe thead th {\n",
              "        text-align: right;\n",
              "    }\n",
              "</style>\n",
              "<table border=\"1\" class=\"dataframe\">\n",
              "  <thead>\n",
              "    <tr style=\"text-align: right;\">\n",
              "      <th></th>\n",
              "      <th># mean_0_a</th>\n",
              "      <th>mean_1_a</th>\n",
              "      <th>mean_2_a</th>\n",
              "      <th>mean_3_a</th>\n",
              "      <th>mean_4_a</th>\n",
              "      <th>mean_d_0_a</th>\n",
              "      <th>mean_d_1_a</th>\n",
              "      <th>mean_d_2_a</th>\n",
              "      <th>mean_d_3_a</th>\n",
              "      <th>mean_d_4_a</th>\n",
              "      <th>...</th>\n",
              "      <th>fft_741_b</th>\n",
              "      <th>fft_742_b</th>\n",
              "      <th>fft_743_b</th>\n",
              "      <th>fft_744_b</th>\n",
              "      <th>fft_745_b</th>\n",
              "      <th>fft_746_b</th>\n",
              "      <th>fft_747_b</th>\n",
              "      <th>fft_748_b</th>\n",
              "      <th>fft_749_b</th>\n",
              "      <th>label</th>\n",
              "    </tr>\n",
              "  </thead>\n",
              "  <tbody>\n",
              "    <tr>\n",
              "      <th>0</th>\n",
              "      <td>4.62</td>\n",
              "      <td>30.3</td>\n",
              "      <td>-356.0</td>\n",
              "      <td>15.6</td>\n",
              "      <td>26.3</td>\n",
              "      <td>1.070</td>\n",
              "      <td>0.411</td>\n",
              "      <td>-15.70</td>\n",
              "      <td>2.06</td>\n",
              "      <td>3.15</td>\n",
              "      <td>...</td>\n",
              "      <td>23.5</td>\n",
              "      <td>20.3</td>\n",
              "      <td>20.3</td>\n",
              "      <td>23.5</td>\n",
              "      <td>-215.0</td>\n",
              "      <td>280.00</td>\n",
              "      <td>-162.00</td>\n",
              "      <td>-162.00</td>\n",
              "      <td>280.00</td>\n",
              "      <td>NEGATIVE</td>\n",
              "    </tr>\n",
              "    <tr>\n",
              "      <th>1</th>\n",
              "      <td>28.80</td>\n",
              "      <td>33.1</td>\n",
              "      <td>32.0</td>\n",
              "      <td>25.8</td>\n",
              "      <td>22.8</td>\n",
              "      <td>6.550</td>\n",
              "      <td>1.680</td>\n",
              "      <td>2.88</td>\n",
              "      <td>3.83</td>\n",
              "      <td>-4.82</td>\n",
              "      <td>...</td>\n",
              "      <td>-23.3</td>\n",
              "      <td>-21.8</td>\n",
              "      <td>-21.8</td>\n",
              "      <td>-23.3</td>\n",
              "      <td>182.0</td>\n",
              "      <td>2.57</td>\n",
              "      <td>-31.60</td>\n",
              "      <td>-31.60</td>\n",
              "      <td>2.57</td>\n",
              "      <td>NEUTRAL</td>\n",
              "    </tr>\n",
              "    <tr>\n",
              "      <th>2</th>\n",
              "      <td>8.90</td>\n",
              "      <td>29.4</td>\n",
              "      <td>-416.0</td>\n",
              "      <td>16.7</td>\n",
              "      <td>23.7</td>\n",
              "      <td>79.900</td>\n",
              "      <td>3.360</td>\n",
              "      <td>90.20</td>\n",
              "      <td>89.90</td>\n",
              "      <td>2.03</td>\n",
              "      <td>...</td>\n",
              "      <td>462.0</td>\n",
              "      <td>-233.0</td>\n",
              "      <td>-233.0</td>\n",
              "      <td>462.0</td>\n",
              "      <td>-267.0</td>\n",
              "      <td>281.00</td>\n",
              "      <td>-148.00</td>\n",
              "      <td>-148.00</td>\n",
              "      <td>281.00</td>\n",
              "      <td>POSITIVE</td>\n",
              "    </tr>\n",
              "    <tr>\n",
              "      <th>3</th>\n",
              "      <td>14.90</td>\n",
              "      <td>31.6</td>\n",
              "      <td>-143.0</td>\n",
              "      <td>19.8</td>\n",
              "      <td>24.3</td>\n",
              "      <td>-0.584</td>\n",
              "      <td>-0.284</td>\n",
              "      <td>8.82</td>\n",
              "      <td>2.30</td>\n",
              "      <td>-1.97</td>\n",
              "      <td>...</td>\n",
              "      <td>299.0</td>\n",
              "      <td>-243.0</td>\n",
              "      <td>-243.0</td>\n",
              "      <td>299.0</td>\n",
              "      <td>132.0</td>\n",
              "      <td>-12.40</td>\n",
              "      <td>9.53</td>\n",
              "      <td>9.53</td>\n",
              "      <td>-12.40</td>\n",
              "      <td>POSITIVE</td>\n",
              "    </tr>\n",
              "    <tr>\n",
              "      <th>4</th>\n",
              "      <td>28.30</td>\n",
              "      <td>31.3</td>\n",
              "      <td>45.2</td>\n",
              "      <td>27.3</td>\n",
              "      <td>24.5</td>\n",
              "      <td>34.800</td>\n",
              "      <td>-5.790</td>\n",
              "      <td>3.06</td>\n",
              "      <td>41.40</td>\n",
              "      <td>5.52</td>\n",
              "      <td>...</td>\n",
              "      <td>12.0</td>\n",
              "      <td>38.1</td>\n",
              "      <td>38.1</td>\n",
              "      <td>12.0</td>\n",
              "      <td>119.0</td>\n",
              "      <td>-17.60</td>\n",
              "      <td>23.90</td>\n",
              "      <td>23.90</td>\n",
              "      <td>-17.60</td>\n",
              "      <td>NEUTRAL</td>\n",
              "    </tr>\n",
              "  </tbody>\n",
              "</table>\n",
              "<p>5 rows × 2549 columns</p>\n",
              "</div>\n",
              "    <div class=\"colab-df-buttons\">\n",
              "\n",
              "  <div class=\"colab-df-container\">\n",
              "    <button class=\"colab-df-convert\" onclick=\"convertToInteractive('df-f93e7d09-a810-4798-b4cc-efb46d81215f')\"\n",
              "            title=\"Convert this dataframe to an interactive table.\"\n",
              "            style=\"display:none;\">\n",
              "\n",
              "  <svg xmlns=\"http://www.w3.org/2000/svg\" height=\"24px\" viewBox=\"0 -960 960 960\">\n",
              "    <path d=\"M120-120v-720h720v720H120Zm60-500h600v-160H180v160Zm220 220h160v-160H400v160Zm0 220h160v-160H400v160ZM180-400h160v-160H180v160Zm440 0h160v-160H620v160ZM180-180h160v-160H180v160Zm440 0h160v-160H620v160Z\"/>\n",
              "  </svg>\n",
              "    </button>\n",
              "\n",
              "  <style>\n",
              "    .colab-df-container {\n",
              "      display:flex;\n",
              "      gap: 12px;\n",
              "    }\n",
              "\n",
              "    .colab-df-convert {\n",
              "      background-color: #E8F0FE;\n",
              "      border: none;\n",
              "      border-radius: 50%;\n",
              "      cursor: pointer;\n",
              "      display: none;\n",
              "      fill: #1967D2;\n",
              "      height: 32px;\n",
              "      padding: 0 0 0 0;\n",
              "      width: 32px;\n",
              "    }\n",
              "\n",
              "    .colab-df-convert:hover {\n",
              "      background-color: #E2EBFA;\n",
              "      box-shadow: 0px 1px 2px rgba(60, 64, 67, 0.3), 0px 1px 3px 1px rgba(60, 64, 67, 0.15);\n",
              "      fill: #174EA6;\n",
              "    }\n",
              "\n",
              "    .colab-df-buttons div {\n",
              "      margin-bottom: 4px;\n",
              "    }\n",
              "\n",
              "    [theme=dark] .colab-df-convert {\n",
              "      background-color: #3B4455;\n",
              "      fill: #D2E3FC;\n",
              "    }\n",
              "\n",
              "    [theme=dark] .colab-df-convert:hover {\n",
              "      background-color: #434B5C;\n",
              "      box-shadow: 0px 1px 3px 1px rgba(0, 0, 0, 0.15);\n",
              "      filter: drop-shadow(0px 1px 2px rgba(0, 0, 0, 0.3));\n",
              "      fill: #FFFFFF;\n",
              "    }\n",
              "  </style>\n",
              "\n",
              "    <script>\n",
              "      const buttonEl =\n",
              "        document.querySelector('#df-f93e7d09-a810-4798-b4cc-efb46d81215f button.colab-df-convert');\n",
              "      buttonEl.style.display =\n",
              "        google.colab.kernel.accessAllowed ? 'block' : 'none';\n",
              "\n",
              "      async function convertToInteractive(key) {\n",
              "        const element = document.querySelector('#df-f93e7d09-a810-4798-b4cc-efb46d81215f');\n",
              "        const dataTable =\n",
              "          await google.colab.kernel.invokeFunction('convertToInteractive',\n",
              "                                                    [key], {});\n",
              "        if (!dataTable) return;\n",
              "\n",
              "        const docLinkHtml = 'Like what you see? Visit the ' +\n",
              "          '<a target=\"_blank\" href=https://colab.research.google.com/notebooks/data_table.ipynb>data table notebook</a>'\n",
              "          + ' to learn more about interactive tables.';\n",
              "        element.innerHTML = '';\n",
              "        dataTable['output_type'] = 'display_data';\n",
              "        await google.colab.output.renderOutput(dataTable, element);\n",
              "        const docLink = document.createElement('div');\n",
              "        docLink.innerHTML = docLinkHtml;\n",
              "        element.appendChild(docLink);\n",
              "      }\n",
              "    </script>\n",
              "  </div>\n",
              "\n",
              "\n",
              "    <div id=\"df-7c01cecf-8178-4da4-8aad-9f12ec76ae41\">\n",
              "      <button class=\"colab-df-quickchart\" onclick=\"quickchart('df-7c01cecf-8178-4da4-8aad-9f12ec76ae41')\"\n",
              "                title=\"Suggest charts\"\n",
              "                style=\"display:none;\">\n",
              "\n",
              "<svg xmlns=\"http://www.w3.org/2000/svg\" height=\"24px\"viewBox=\"0 0 24 24\"\n",
              "     width=\"24px\">\n",
              "    <g>\n",
              "        <path d=\"M19 3H5c-1.1 0-2 .9-2 2v14c0 1.1.9 2 2 2h14c1.1 0 2-.9 2-2V5c0-1.1-.9-2-2-2zM9 17H7v-7h2v7zm4 0h-2V7h2v10zm4 0h-2v-4h2v4z\"/>\n",
              "    </g>\n",
              "</svg>\n",
              "      </button>\n",
              "\n",
              "<style>\n",
              "  .colab-df-quickchart {\n",
              "      --bg-color: #E8F0FE;\n",
              "      --fill-color: #1967D2;\n",
              "      --hover-bg-color: #E2EBFA;\n",
              "      --hover-fill-color: #174EA6;\n",
              "      --disabled-fill-color: #AAA;\n",
              "      --disabled-bg-color: #DDD;\n",
              "  }\n",
              "\n",
              "  [theme=dark] .colab-df-quickchart {\n",
              "      --bg-color: #3B4455;\n",
              "      --fill-color: #D2E3FC;\n",
              "      --hover-bg-color: #434B5C;\n",
              "      --hover-fill-color: #FFFFFF;\n",
              "      --disabled-bg-color: #3B4455;\n",
              "      --disabled-fill-color: #666;\n",
              "  }\n",
              "\n",
              "  .colab-df-quickchart {\n",
              "    background-color: var(--bg-color);\n",
              "    border: none;\n",
              "    border-radius: 50%;\n",
              "    cursor: pointer;\n",
              "    display: none;\n",
              "    fill: var(--fill-color);\n",
              "    height: 32px;\n",
              "    padding: 0;\n",
              "    width: 32px;\n",
              "  }\n",
              "\n",
              "  .colab-df-quickchart:hover {\n",
              "    background-color: var(--hover-bg-color);\n",
              "    box-shadow: 0 1px 2px rgba(60, 64, 67, 0.3), 0 1px 3px 1px rgba(60, 64, 67, 0.15);\n",
              "    fill: var(--button-hover-fill-color);\n",
              "  }\n",
              "\n",
              "  .colab-df-quickchart-complete:disabled,\n",
              "  .colab-df-quickchart-complete:disabled:hover {\n",
              "    background-color: var(--disabled-bg-color);\n",
              "    fill: var(--disabled-fill-color);\n",
              "    box-shadow: none;\n",
              "  }\n",
              "\n",
              "  .colab-df-spinner {\n",
              "    border: 2px solid var(--fill-color);\n",
              "    border-color: transparent;\n",
              "    border-bottom-color: var(--fill-color);\n",
              "    animation:\n",
              "      spin 1s steps(1) infinite;\n",
              "  }\n",
              "\n",
              "  @keyframes spin {\n",
              "    0% {\n",
              "      border-color: transparent;\n",
              "      border-bottom-color: var(--fill-color);\n",
              "      border-left-color: var(--fill-color);\n",
              "    }\n",
              "    20% {\n",
              "      border-color: transparent;\n",
              "      border-left-color: var(--fill-color);\n",
              "      border-top-color: var(--fill-color);\n",
              "    }\n",
              "    30% {\n",
              "      border-color: transparent;\n",
              "      border-left-color: var(--fill-color);\n",
              "      border-top-color: var(--fill-color);\n",
              "      border-right-color: var(--fill-color);\n",
              "    }\n",
              "    40% {\n",
              "      border-color: transparent;\n",
              "      border-right-color: var(--fill-color);\n",
              "      border-top-color: var(--fill-color);\n",
              "    }\n",
              "    60% {\n",
              "      border-color: transparent;\n",
              "      border-right-color: var(--fill-color);\n",
              "    }\n",
              "    80% {\n",
              "      border-color: transparent;\n",
              "      border-right-color: var(--fill-color);\n",
              "      border-bottom-color: var(--fill-color);\n",
              "    }\n",
              "    90% {\n",
              "      border-color: transparent;\n",
              "      border-bottom-color: var(--fill-color);\n",
              "    }\n",
              "  }\n",
              "</style>\n",
              "\n",
              "      <script>\n",
              "        async function quickchart(key) {\n",
              "          const quickchartButtonEl =\n",
              "            document.querySelector('#' + key + ' button');\n",
              "          quickchartButtonEl.disabled = true;  // To prevent multiple clicks.\n",
              "          quickchartButtonEl.classList.add('colab-df-spinner');\n",
              "          try {\n",
              "            const charts = await google.colab.kernel.invokeFunction(\n",
              "                'suggestCharts', [key], {});\n",
              "          } catch (error) {\n",
              "            console.error('Error during call to suggestCharts:', error);\n",
              "          }\n",
              "          quickchartButtonEl.classList.remove('colab-df-spinner');\n",
              "          quickchartButtonEl.classList.add('colab-df-quickchart-complete');\n",
              "        }\n",
              "        (() => {\n",
              "          let quickchartButtonEl =\n",
              "            document.querySelector('#df-7c01cecf-8178-4da4-8aad-9f12ec76ae41 button');\n",
              "          quickchartButtonEl.style.display =\n",
              "            google.colab.kernel.accessAllowed ? 'block' : 'none';\n",
              "        })();\n",
              "      </script>\n",
              "    </div>\n",
              "\n",
              "    </div>\n",
              "  </div>\n"
            ],
            "application/vnd.google.colaboratory.intrinsic+json": {
              "type": "dataframe",
              "variable_name": "df"
            }
          },
          "metadata": {},
          "execution_count": 3
        }
      ]
    },
    {
      "cell_type": "markdown",
      "source": [
        "# Preprocess the Data"
      ],
      "metadata": {
        "id": "iAWfBeUzwwL0"
      }
    },
    {
      "cell_type": "code",
      "source": [
        "# Encode emotion labels and normalize EEG features\n",
        "\n",
        "label_encoder = LabelEncoder()\n",
        "df['label_encoded'] = label_encoder.fit_transform(df['label'])\n",
        "\n",
        "X = df.drop(['label', 'label_encoded'], axis=1).values\n",
        "y = df['label_encoded'].values\n",
        "\n",
        "scaler = StandardScaler()\n",
        "X_scaled = scaler.fit_transform(X)\n",
        "\n",
        "print(\"Encoded labels:\", dict(zip(label_encoder.classes_, label_encoder.transform(label_encoder.classes_))))\n",
        "print(\"Feature shape:\", X_scaled.shape)"
      ],
      "metadata": {
        "colab": {
          "base_uri": "https://localhost:8080/"
        },
        "id": "j00BpFqpwyeh",
        "outputId": "b934d426-7077-4f60-c36e-ff0352de05de"
      },
      "execution_count": null,
      "outputs": [
        {
          "output_type": "stream",
          "name": "stdout",
          "text": [
            "Encoded labels: {'NEGATIVE': np.int64(0), 'NEUTRAL': np.int64(1), 'POSITIVE': np.int64(2)}\n",
            "Feature shape: (2132, 2548)\n"
          ]
        }
      ]
    },
    {
      "cell_type": "markdown",
      "source": [
        "# Train/Validation/Test Split"
      ],
      "metadata": {
        "id": "Ho5gXxmKxDuY"
      }
    },
    {
      "cell_type": "code",
      "source": [
        "# Stratified train/validation/test split\n",
        "\n",
        "X_train, X_temp, y_train, y_temp = train_test_split(X_scaled, y, test_size=0.3, random_state=42, stratify=y)\n",
        "X_val, X_test, y_val, y_test = train_test_split(X_temp, y_temp, test_size=0.5, random_state=42, stratify=y_temp)\n",
        "\n",
        "print(\"Train size:\", len(X_train))\n",
        "print(\"Validation size:\", len(X_val))\n",
        "print(\"Test size:\", len(X_test))"
      ],
      "metadata": {
        "colab": {
          "base_uri": "https://localhost:8080/"
        },
        "id": "AqYKxgY_w1M4",
        "outputId": "4a2589a7-5ad7-44c2-f748-0523d42354f0"
      },
      "execution_count": null,
      "outputs": [
        {
          "output_type": "stream",
          "name": "stdout",
          "text": [
            "Train size: 1492\n",
            "Validation size: 320\n",
            "Test size: 320\n"
          ]
        }
      ]
    },
    {
      "cell_type": "markdown",
      "source": [
        "# PyTorch Dataset and DataLoaders"
      ],
      "metadata": {
        "id": "20FB_MT5xV0z"
      }
    },
    {
      "cell_type": "code",
      "source": [
        "# Creating EEGDataset class and DataLoaders\n",
        "\n",
        "class EEGDataset(Dataset):\n",
        "    def __init__(self, X, y):\n",
        "        self.X = torch.tensor(X, dtype=torch.float32)\n",
        "        self.y = torch.tensor(y, dtype=torch.long)\n",
        "\n",
        "    def __len__(self):\n",
        "        return len(self.y)\n",
        "\n",
        "    def __getitem__(self, idx):\n",
        "        return self.X[idx], self.y[idx]\n",
        "\n",
        "batch_size = 64\n",
        "\n",
        "train_dataset = EEGDataset(X_train, y_train)\n",
        "val_dataset = EEGDataset(X_val, y_val)\n",
        "test_dataset = EEGDataset(X_test, y_test)\n",
        "\n",
        "train_loader = DataLoader(train_dataset, batch_size=batch_size, shuffle=True)\n",
        "val_loader = DataLoader(val_dataset, batch_size=batch_size)\n",
        "test_loader = DataLoader(test_dataset, batch_size=batch_size)"
      ],
      "metadata": {
        "id": "wIVzdrDFxWzd"
      },
      "execution_count": null,
      "outputs": []
    },
    {
      "cell_type": "markdown",
      "source": [
        "# CNN"
      ],
      "metadata": {
        "id": "sXPMRSL5xhl1"
      }
    },
    {
      "cell_type": "code",
      "source": [
        "class EEG_CNN(nn.Module):\n",
        "    def __init__(self, input_size, num_classes):\n",
        "        super(EEG_CNN, self).__init__()\n",
        "        self.conv1 = nn.Conv1d(1, 16, kernel_size=5, stride=1)\n",
        "        self.pool = nn.MaxPool1d(kernel_size=2)\n",
        "        self.conv2 = nn.Conv1d(16, 32, kernel_size=3, stride=1)\n",
        "        conv_output_size = ((input_size - 4) // 2 - 2) // 2\n",
        "        self.fc1 = nn.Linear(32 * conv_output_size, 64)\n",
        "        self.fc2 = nn.Linear(64, num_classes)\n",
        "\n",
        "    def forward(self, x):\n",
        "        x = x.unsqueeze(1)\n",
        "        x = self.pool(F.relu(self.conv1(x)))\n",
        "        x = self.pool(F.relu(self.conv2(x)))\n",
        "        x = x.view(x.size(0), -1)\n",
        "        x = F.relu(self.fc1(x))\n",
        "        return self.fc2(x)\n",
        "\n",
        "input_size = X_train.shape[1]\n",
        "num_classes = 3\n",
        "\n",
        "model = EEG_CNN(input_size=input_size, num_classes=num_classes)\n",
        "device = torch.device(\"cuda\" if torch.cuda.is_available() else \"cpu\")\n",
        "model.to(device)\n"
      ],
      "metadata": {
        "colab": {
          "base_uri": "https://localhost:8080/"
        },
        "id": "17pn0n9UxZi6",
        "outputId": "47c44ba6-152c-45fb-bdec-226f571549cb"
      },
      "execution_count": null,
      "outputs": [
        {
          "output_type": "execute_result",
          "data": {
            "text/plain": [
              "EEG_CNN(\n",
              "  (conv1): Conv1d(1, 16, kernel_size=(5,), stride=(1,))\n",
              "  (pool): MaxPool1d(kernel_size=2, stride=2, padding=0, dilation=1, ceil_mode=False)\n",
              "  (conv2): Conv1d(16, 32, kernel_size=(3,), stride=(1,))\n",
              "  (fc1): Linear(in_features=20320, out_features=64, bias=True)\n",
              "  (fc2): Linear(in_features=64, out_features=3, bias=True)\n",
              ")"
            ]
          },
          "metadata": {},
          "execution_count": 9
        }
      ]
    },
    {
      "cell_type": "code",
      "source": [
        "# Training the CNN model\n",
        "\n",
        "def train_model(model, train_loader, val_loader, epochs=20, lr=0.001):\n",
        "    criterion = nn.CrossEntropyLoss()\n",
        "    optimizer = optim.Adam(model.parameters(), lr=lr)\n",
        "\n",
        "    for epoch in range(epochs):\n",
        "        model.train()\n",
        "        total_loss = 0\n",
        "        correct = 0\n",
        "\n",
        "        for inputs, labels in train_loader:\n",
        "            inputs, labels = inputs.to(device), labels.to(device)\n",
        "            optimizer.zero_grad()\n",
        "            outputs = model(inputs)\n",
        "            loss = criterion(outputs, labels)\n",
        "            loss.backward()\n",
        "            optimizer.step()\n",
        "\n",
        "            total_loss += loss.item()\n",
        "            _, predicted = torch.max(outputs, 1)\n",
        "            correct += (predicted == labels).sum().item()\n",
        "\n",
        "        train_acc = correct / len(train_loader.dataset)\n",
        "\n",
        "        # Validation\n",
        "        model.eval()\n",
        "        val_correct = 0\n",
        "        with torch.no_grad():\n",
        "            for inputs, labels in val_loader:\n",
        "                inputs, labels = inputs.to(device), labels.to(device)\n",
        "                outputs = model(inputs)\n",
        "                _, predicted = torch.max(outputs, 1)\n",
        "                val_correct += (predicted == labels).sum().item()\n",
        "\n",
        "        val_acc = val_correct / len(val_loader.dataset)\n",
        "\n",
        "        print(f\"Epoch {epoch+1}: Loss = {total_loss:.4f}, Train Acc = {train_acc:.4f}, Val Acc = {val_acc:.4f}\")\n",
        "\n",
        "train_model(model, train_loader, val_loader, epochs=20, lr=0.001)"
      ],
      "metadata": {
        "colab": {
          "base_uri": "https://localhost:8080/"
        },
        "id": "StGYM1rFxmNO",
        "outputId": "37e268f2-081f-4020-efa1-49b13bd6ebed"
      },
      "execution_count": null,
      "outputs": [
        {
          "output_type": "stream",
          "name": "stdout",
          "text": [
            "Epoch 1: Loss = 14.2442, Train Acc = 0.7782, Val Acc = 0.8875\n",
            "Epoch 2: Loss = 4.7892, Train Acc = 0.9249, Val Acc = 0.9125\n",
            "Epoch 3: Loss = 3.1486, Train Acc = 0.9531, Val Acc = 0.9469\n",
            "Epoch 4: Loss = 2.2585, Train Acc = 0.9718, Val Acc = 0.9531\n",
            "Epoch 5: Loss = 1.5816, Train Acc = 0.9759, Val Acc = 0.9563\n",
            "Epoch 6: Loss = 0.9918, Train Acc = 0.9899, Val Acc = 0.9719\n",
            "Epoch 7: Loss = 0.6185, Train Acc = 0.9966, Val Acc = 0.9500\n",
            "Epoch 8: Loss = 0.3827, Train Acc = 0.9993, Val Acc = 0.9656\n",
            "Epoch 9: Loss = 0.2600, Train Acc = 0.9993, Val Acc = 0.9688\n",
            "Epoch 10: Loss = 0.1704, Train Acc = 1.0000, Val Acc = 0.9656\n",
            "Epoch 11: Loss = 0.1262, Train Acc = 1.0000, Val Acc = 0.9625\n",
            "Epoch 12: Loss = 0.1079, Train Acc = 1.0000, Val Acc = 0.9688\n",
            "Epoch 13: Loss = 0.1204, Train Acc = 1.0000, Val Acc = 0.9656\n",
            "Epoch 14: Loss = 0.0592, Train Acc = 1.0000, Val Acc = 0.9688\n",
            "Epoch 15: Loss = 0.0434, Train Acc = 1.0000, Val Acc = 0.9688\n",
            "Epoch 16: Loss = 0.0412, Train Acc = 1.0000, Val Acc = 0.9625\n",
            "Epoch 17: Loss = 0.0340, Train Acc = 1.0000, Val Acc = 0.9656\n",
            "Epoch 18: Loss = 0.0285, Train Acc = 1.0000, Val Acc = 0.9656\n",
            "Epoch 19: Loss = 0.0246, Train Acc = 1.0000, Val Acc = 0.9656\n",
            "Epoch 20: Loss = 0.0208, Train Acc = 1.0000, Val Acc = 0.9656\n"
          ]
        }
      ]
    },
    {
      "cell_type": "code",
      "source": [
        "# Evaluation of the model on test set\n",
        "\n",
        "model.eval()\n",
        "all_preds = []\n",
        "all_labels = []\n",
        "\n",
        "with torch.no_grad():\n",
        "    for inputs, labels in test_loader:\n",
        "        inputs, labels = inputs.to(device), labels.to(device)\n",
        "        outputs = model(inputs)\n",
        "        _, predicted = torch.max(outputs, 1)\n",
        "        all_preds.extend(predicted.cpu().numpy())\n",
        "        all_labels.extend(labels.cpu().numpy())\n",
        "\n",
        "print(classification_report(all_labels, all_preds, target_names=label_encoder.classes_))\n",
        "\n",
        "# Confusion matrix\n",
        "cm = confusion_matrix(all_labels, all_preds)\n",
        "plt.figure(figsize=(6, 4))\n",
        "sns.heatmap(cm, annot=True, fmt='d', cmap='Blues',\n",
        "            xticklabels=label_encoder.classes_, yticklabels=label_encoder.classes_)\n",
        "plt.xlabel(\"Predicted\")\n",
        "plt.ylabel(\"True\")\n",
        "plt.title(\"Confusion Matrix\")\n",
        "plt.show()"
      ],
      "metadata": {
        "colab": {
          "base_uri": "https://localhost:8080/",
          "height": 589
        },
        "id": "RCwmXfA4ysQT",
        "outputId": "58ddd01c-b9a3-415e-e19c-49098dc73ce2"
      },
      "execution_count": null,
      "outputs": [
        {
          "output_type": "stream",
          "name": "stdout",
          "text": [
            "              precision    recall  f1-score   support\n",
            "\n",
            "    NEGATIVE       0.97      0.99      0.98       107\n",
            "     NEUTRAL       1.00      0.97      0.99       107\n",
            "    POSITIVE       0.96      0.97      0.97       106\n",
            "\n",
            "    accuracy                           0.98       320\n",
            "   macro avg       0.98      0.98      0.98       320\n",
            "weighted avg       0.98      0.98      0.98       320\n",
            "\n"
          ]
        },
        {
          "output_type": "display_data",
          "data": {
            "text/plain": [
              "<Figure size 600x400 with 2 Axes>"
            ],
            "image/png": "[encoded data removed]"
          },
          "metadata": {}
        }
      ]
    },
    {
      "cell_type": "markdown",
      "source": [
        "# EEGNet"
      ],
      "metadata": {
        "id": "1sCTj9rpy4-2"
      }
    },
    {
      "cell_type": "code",
      "source": [
        "class EEGNet(nn.Module):\n",
        "    def __init__(self, input_size, num_classes):\n",
        "        super(EEGNet, self).__init__()\n",
        "        self.layer1 = nn.Sequential(\n",
        "            nn.Conv1d(1, 8, kernel_size=64, padding=32, bias=False),\n",
        "            nn.BatchNorm1d(8),\n",
        "            nn.Conv1d(8, 16, kernel_size=1, bias=False),\n",
        "            nn.BatchNorm1d(16),\n",
        "            nn.ELU(),\n",
        "            nn.AvgPool1d(kernel_size=4),\n",
        "            nn.Dropout(0.25)\n",
        "        )\n",
        "        self.layer2 = nn.Sequential(\n",
        "            nn.Conv1d(16, 32, kernel_size=16, padding=8, bias=False),\n",
        "            nn.BatchNorm1d(32),\n",
        "            nn.ELU(),\n",
        "            nn.AvgPool1d(kernel_size=8),\n",
        "            nn.Dropout(0.25)\n",
        "        )\n",
        "        self.fc = nn.Linear(self._get_flattened_size(input_size), num_classes)\n",
        "\n",
        "    def _get_flattened_size(self, input_size):\n",
        "        with torch.no_grad():\n",
        "            x = torch.zeros(1, 1, input_size)\n",
        "            x = self.layer1(x)\n",
        "            x = self.layer2(x)\n",
        "            return x.shape[1] * x.shape[2]\n",
        "\n",
        "    def forward(self, x):\n",
        "        x = x.unsqueeze(1)\n",
        "        x = self.layer1(x)\n",
        "        x = self.layer2(x)\n",
        "        x = x.view(x.size(0), -1)\n",
        "        return self.fc(x)\n",
        "\n",
        "# Initialize EEGNet\n",
        "\n",
        "eegnet_model = EEGNet(input_size=X_train.shape[1], num_classes=3)\n",
        "eegnet_model.to(device)"
      ],
      "metadata": {
        "colab": {
          "base_uri": "https://localhost:8080/"
        },
        "id": "qTgYSWSZys6x",
        "outputId": "8851704c-a226-4f0c-82a8-ca6a0a208a19"
      },
      "execution_count": null,
      "outputs": [
        {
          "output_type": "execute_result",
          "data": {
            "text/plain": [
              "EEGNet(\n",
              "  (layer1): Sequential(\n",
              "    (0): Conv1d(1, 8, kernel_size=(64,), stride=(1,), padding=(32,), bias=False)\n",
              "    (1): BatchNorm1d(8, eps=1e-05, momentum=0.1, affine=True, track_running_stats=True)\n",
              "    (2): Conv1d(8, 16, kernel_size=(1,), stride=(1,), bias=False)\n",
              "    (3): BatchNorm1d(16, eps=1e-05, momentum=0.1, affine=True, track_running_stats=True)\n",
              "    (4): ELU(alpha=1.0)\n",
              "    (5): AvgPool1d(kernel_size=(4,), stride=(4,), padding=(0,))\n",
              "    (6): Dropout(p=0.25, inplace=False)\n",
              "  )\n",
              "  (layer2): Sequential(\n",
              "    (0): Conv1d(16, 32, kernel_size=(16,), stride=(1,), padding=(8,), bias=False)\n",
              "    (1): BatchNorm1d(32, eps=1e-05, momentum=0.1, affine=True, track_running_stats=True)\n",
              "    (2): ELU(alpha=1.0)\n",
              "    (3): AvgPool1d(kernel_size=(8,), stride=(8,), padding=(0,))\n",
              "    (4): Dropout(p=0.25, inplace=False)\n",
              "  )\n",
              "  (fc): Linear(in_features=2528, out_features=3, bias=True)\n",
              ")"
            ]
          },
          "metadata": {},
          "execution_count": 14
        }
      ]
    },
    {
      "cell_type": "code",
      "source": [
        "# Train EEGNet\n",
        "train_model(eegnet_model, train_loader, val_loader, epochs=20, lr=0.001)"
      ],
      "metadata": {
        "colab": {
          "base_uri": "https://localhost:8080/"
        },
        "id": "6-CNz8FczKl9",
        "outputId": "9db10470-e90b-4c74-90d9-9f04998bdccf"
      },
      "execution_count": null,
      "outputs": [
        {
          "output_type": "stream",
          "name": "stdout",
          "text": [
            "Epoch 1: Loss = 9.2684, Train Acc = 0.8378, Val Acc = 0.9000\n",
            "Epoch 2: Loss = 5.0652, Train Acc = 0.9109, Val Acc = 0.9031\n",
            "Epoch 3: Loss = 4.4548, Train Acc = 0.9202, Val Acc = 0.9344\n",
            "Epoch 4: Loss = 4.0270, Train Acc = 0.9363, Val Acc = 0.9094\n",
            "Epoch 5: Loss = 3.3650, Train Acc = 0.9497, Val Acc = 0.9094\n",
            "Epoch 6: Loss = 3.6429, Train Acc = 0.9424, Val Acc = 0.9187\n",
            "Epoch 7: Loss = 3.0913, Train Acc = 0.9450, Val Acc = 0.9375\n",
            "Epoch 8: Loss = 3.0892, Train Acc = 0.9471, Val Acc = 0.9375\n",
            "Epoch 9: Loss = 2.4034, Train Acc = 0.9665, Val Acc = 0.9375\n",
            "Epoch 10: Loss = 2.3157, Train Acc = 0.9685, Val Acc = 0.9500\n",
            "Epoch 11: Loss = 2.4081, Train Acc = 0.9638, Val Acc = 0.9344\n",
            "Epoch 12: Loss = 2.0207, Train Acc = 0.9665, Val Acc = 0.9469\n",
            "Epoch 13: Loss = 1.8968, Train Acc = 0.9745, Val Acc = 0.9375\n",
            "Epoch 14: Loss = 1.7525, Train Acc = 0.9739, Val Acc = 0.9187\n",
            "Epoch 15: Loss = 1.9263, Train Acc = 0.9718, Val Acc = 0.9437\n",
            "Epoch 16: Loss = 1.8572, Train Acc = 0.9725, Val Acc = 0.9531\n",
            "Epoch 17: Loss = 1.8019, Train Acc = 0.9712, Val Acc = 0.9500\n",
            "Epoch 18: Loss = 1.6709, Train Acc = 0.9725, Val Acc = 0.9531\n",
            "Epoch 19: Loss = 1.3716, Train Acc = 0.9819, Val Acc = 0.9594\n",
            "Epoch 20: Loss = 1.2041, Train Acc = 0.9853, Val Acc = 0.9563\n"
          ]
        }
      ]
    },
    {
      "cell_type": "code",
      "source": [
        "# Evaluate EEGNet on test set\n",
        "eegnet_model.eval()\n",
        "all_preds = []\n",
        "all_labels = []\n",
        "\n",
        "with torch.no_grad():\n",
        "    for inputs, labels in test_loader:\n",
        "        inputs, labels = inputs.to(device), labels.to(device)\n",
        "        outputs = eegnet_model(inputs)\n",
        "        _, predicted = torch.max(outputs, 1)\n",
        "        all_preds.extend(predicted.cpu().numpy())\n",
        "        all_labels.extend(labels.cpu().numpy())\n",
        "\n",
        "print(classification_report(all_labels, all_preds, target_names=label_encoder.classes_))\n",
        "\n",
        "cm = confusion_matrix(all_labels, all_preds)\n",
        "plt.figure(figsize=(6, 4))\n",
        "sns.heatmap(cm, annot=True, fmt='d', cmap='Blues',\n",
        "            xticklabels=label_encoder.classes_, yticklabels=label_encoder.classes_)\n",
        "plt.xlabel(\"Predicted\")\n",
        "plt.ylabel(\"True\")\n",
        "plt.title(\"EEGNet – Confusion Matrix\")\n",
        "plt.show()"
      ],
      "metadata": {
        "colab": {
          "base_uri": "https://localhost:8080/",
          "height": 589
        },
        "id": "c0ufch5ezgIC",
        "outputId": "8637d5e5-82f3-4bee-bf27-9415e48f81e9"
      },
      "execution_count": null,
      "outputs": [
        {
          "output_type": "stream",
          "name": "stdout",
          "text": [
            "              precision    recall  f1-score   support\n",
            "\n",
            "    NEGATIVE       0.95      0.97      0.96       107\n",
            "     NEUTRAL       0.99      0.97      0.98       107\n",
            "    POSITIVE       0.94      0.94      0.94       106\n",
            "\n",
            "    accuracy                           0.96       320\n",
            "   macro avg       0.96      0.96      0.96       320\n",
            "weighted avg       0.96      0.96      0.96       320\n",
            "\n"
          ]
        },
        {
          "output_type": "display_data",
          "data": {
            "text/plain": [
              "<Figure size 600x400 with 2 Axes>"
            ],
            "image/png": "[encoded data removed]"
          },
          "metadata": {}
        }
      ]
    },
    {
      "cell_type": "markdown",
      "source": [
        "# LSTM"
      ],
      "metadata": {
        "id": "pnLOMpdP0pLp"
      }
    },
    {
      "cell_type": "code",
      "source": [
        "# Reshaping the features for LSTM input\n",
        "\n",
        "time_steps = 49\n",
        "features_per_step = 52\n",
        "\n",
        "X_train_seq = X_train.reshape(-1, time_steps, features_per_step)\n",
        "X_val_seq   = X_val.reshape(-1, time_steps, features_per_step)\n",
        "X_test_seq  = X_test.reshape(-1, time_steps, features_per_step)\n",
        "\n",
        "print(\"Reshaped X_train:\", X_train_seq.shape)"
      ],
      "metadata": {
        "colab": {
          "base_uri": "https://localhost:8080/"
        },
        "id": "RFaB27V70TjY",
        "outputId": "67100bf2-7668-4d2a-ad03-40d5d342f4d2"
      },
      "execution_count": null,
      "outputs": [
        {
          "output_type": "stream",
          "name": "stdout",
          "text": [
            "Reshaped X_train: (1492, 49, 52)\n"
          ]
        }
      ]
    },
    {
      "cell_type": "code",
      "source": [
        "# PyTorch Dataset for LSTM\n",
        "class EEGLSTMDataset(Dataset):\n",
        "    def __init__(self, X, y):\n",
        "        self.X = torch.tensor(X, dtype=torch.float32)\n",
        "        self.y = torch.tensor(y, dtype=torch.long)\n",
        "\n",
        "    def __len__(self):\n",
        "        return len(self.y)\n",
        "\n",
        "    def __getitem__(self, idx):\n",
        "        return self.X[idx], self.y[idx]\n",
        "\n",
        "batch_size = 64\n",
        "\n",
        "train_dataset_lstm = EEGLSTMDataset(X_train_seq, y_train)\n",
        "val_dataset_lstm = EEGLSTMDataset(X_val_seq, y_val)\n",
        "test_dataset_lstm = EEGLSTMDataset(X_test_seq, y_test)\n",
        "\n",
        "train_loader_lstm = DataLoader(train_dataset_lstm, batch_size=batch_size, shuffle=True)\n",
        "val_loader_lstm = DataLoader(val_dataset_lstm, batch_size=batch_size)\n",
        "test_loader_lstm = DataLoader(test_dataset_lstm, batch_size=batch_size)\n"
      ],
      "metadata": {
        "id": "phArQLFN1BCz"
      },
      "execution_count": null,
      "outputs": []
    },
    {
      "cell_type": "code",
      "source": [
        "class EEG_LSTM(nn.Module):\n",
        "    def __init__(self, input_size, hidden_size, num_layers, num_classes, dropout=0.5):\n",
        "        super(EEG_LSTM, self).__init__()\n",
        "        self.lstm = nn.LSTM(input_size, hidden_size, num_layers, batch_first=True, dropout=dropout)\n",
        "        self.fc = nn.Linear(hidden_size, num_classes)\n",
        "\n",
        "    def forward(self, x):\n",
        "        h0 = torch.zeros(self.lstm.num_layers, x.size(0), self.lstm.hidden_size).to(x.device)\n",
        "        c0 = torch.zeros(self.lstm.num_layers, x.size(0), self.lstm.hidden_size).to(x.device)\n",
        "        out, _ = self.lstm(x, (h0, c0))\n",
        "        out = out[:, -1, :]  # Taking the last time step output\n",
        "        out = self.fc(out)\n",
        "        return out"
      ],
      "metadata": {
        "id": "1o5O30Ns1HjF"
      },
      "execution_count": null,
      "outputs": []
    },
    {
      "cell_type": "code",
      "source": [
        "input_size = 52\n",
        "hidden_size = 64\n",
        "num_layers = 2\n",
        "num_classes = 3\n",
        "\n",
        "model_lstm = EEG_LSTM(input_size, hidden_size, num_layers, num_classes).to(device)"
      ],
      "metadata": {
        "id": "39rwPaIj1Mug"
      },
      "execution_count": null,
      "outputs": []
    },
    {
      "cell_type": "code",
      "source": [
        "# Training the LSTM model\n",
        "train_model(model_lstm, train_loader_lstm, val_loader_lstm, epochs=20, lr=0.001)"
      ],
      "metadata": {
        "colab": {
          "base_uri": "https://localhost:8080/"
        },
        "id": "VJsvWJpb1V2M",
        "outputId": "37f4de23-77ad-4eaa-95fc-36a5c63e2ff1"
      },
      "execution_count": null,
      "outputs": [
        {
          "output_type": "stream",
          "name": "stdout",
          "text": [
            "Epoch 1: Loss = 24.0584, Train Acc = 0.7346, Val Acc = 0.8063\n",
            "Epoch 2: Loss = 11.8329, Train Acc = 0.8465, Val Acc = 0.8906\n",
            "Epoch 3: Loss = 6.2079, Train Acc = 0.9021, Val Acc = 0.8938\n",
            "Epoch 4: Loss = 5.2315, Train Acc = 0.9196, Val Acc = 0.9094\n",
            "Epoch 5: Loss = 4.3209, Train Acc = 0.9390, Val Acc = 0.9094\n",
            "Epoch 6: Loss = 4.0621, Train Acc = 0.9444, Val Acc = 0.9281\n",
            "Epoch 7: Loss = 3.2838, Train Acc = 0.9564, Val Acc = 0.9281\n",
            "Epoch 8: Loss = 3.4444, Train Acc = 0.9564, Val Acc = 0.9406\n",
            "Epoch 9: Loss = 2.8172, Train Acc = 0.9645, Val Acc = 0.9563\n",
            "Epoch 10: Loss = 2.4677, Train Acc = 0.9651, Val Acc = 0.9344\n",
            "Epoch 11: Loss = 2.1837, Train Acc = 0.9772, Val Acc = 0.9625\n",
            "Epoch 12: Loss = 2.0869, Train Acc = 0.9765, Val Acc = 0.9500\n",
            "Epoch 13: Loss = 2.4838, Train Acc = 0.9705, Val Acc = 0.9469\n",
            "Epoch 14: Loss = 2.4851, Train Acc = 0.9712, Val Acc = 0.9563\n",
            "Epoch 15: Loss = 2.1554, Train Acc = 0.9765, Val Acc = 0.9469\n",
            "Epoch 16: Loss = 1.7251, Train Acc = 0.9846, Val Acc = 0.9531\n",
            "Epoch 17: Loss = 1.7228, Train Acc = 0.9826, Val Acc = 0.9375\n",
            "Epoch 18: Loss = 1.8373, Train Acc = 0.9779, Val Acc = 0.9531\n",
            "Epoch 19: Loss = 1.7740, Train Acc = 0.9792, Val Acc = 0.9594\n",
            "Epoch 20: Loss = 1.5863, Train Acc = 0.9806, Val Acc = 0.9563\n"
          ]
        }
      ]
    },
    {
      "cell_type": "code",
      "source": [
        "# Evaluating LSTM on test set\n",
        "model_lstm.eval()\n",
        "all_preds = []\n",
        "all_labels = []\n",
        "\n",
        "with torch.no_grad():\n",
        "    for inputs, labels in test_loader_lstm:\n",
        "        inputs, labels = inputs.to(device), labels.to(device)\n",
        "        outputs = model_lstm(inputs)\n",
        "        _, predicted = torch.max(outputs, 1)\n",
        "        all_preds.extend(predicted.cpu().numpy())\n",
        "        all_labels.extend(labels.cpu().numpy())\n",
        "\n",
        "print(classification_report(all_labels, all_preds, target_names=label_encoder.classes_))\n",
        "\n",
        "cm = confusion_matrix(all_labels, all_preds)\n",
        "plt.figure(figsize=(6, 4))\n",
        "sns.heatmap(cm, annot=True, fmt='d', cmap='Blues',\n",
        "            xticklabels=label_encoder.classes_, yticklabels=label_encoder.classes_)\n",
        "plt.xlabel(\"Predicted\")\n",
        "plt.ylabel(\"True\")\n",
        "plt.title(\"LSTM – Confusion Matrix\")\n",
        "plt.show()"
      ],
      "metadata": {
        "colab": {
          "base_uri": "https://localhost:8080/",
          "height": 589
        },
        "id": "1kJ_VnuN2E91",
        "outputId": "a76a1865-05e6-42c5-ffdc-3fdb87d6700a"
      },
      "execution_count": null,
      "outputs": [
        {
          "output_type": "stream",
          "name": "stdout",
          "text": [
            "              precision    recall  f1-score   support\n",
            "\n",
            "    NEGATIVE       0.90      0.97      0.94       107\n",
            "     NEUTRAL       0.98      0.95      0.97       107\n",
            "    POSITIVE       0.92      0.88      0.90       106\n",
            "\n",
            "    accuracy                           0.93       320\n",
            "   macro avg       0.94      0.93      0.93       320\n",
            "weighted avg       0.94      0.93      0.93       320\n",
            "\n"
          ]
        },
        {
          "output_type": "display_data",
          "data": {
            "text/plain": [
              "<Figure size 600x400 with 2 Axes>"
            ],
            "image/png": "[encoded data removed]"
          },
          "metadata": {}
        }
      ]
    },
    {
      "cell_type": "markdown",
      "source": [
        "# Knowledge Distillation"
      ],
      "metadata": {
        "id": "n1USxHsR3YdW"
      }
    },
    {
      "cell_type": "code",
      "source": [
        "# Smaller Student Model\n",
        "class StudentCNN(nn.Module):\n",
        "    def __init__(self, input_size, num_classes):\n",
        "        super(StudentCNN, self).__init__()\n",
        "        self.conv = nn.Conv1d(1, 8, kernel_size=5, stride=1)\n",
        "        self.pool = nn.MaxPool1d(2)\n",
        "        conv_output_size = (input_size - 4) // 2\n",
        "        self.fc1 = nn.Linear(8 * conv_output_size, 32)\n",
        "        self.fc2 = nn.Linear(32, num_classes)\n",
        "\n",
        "    def forward(self, x):\n",
        "        x = x.unsqueeze(1)\n",
        "        x = self.pool(F.relu(self.conv(x)))\n",
        "        x = x.view(x.size(0), -1)\n",
        "        x = F.relu(self.fc1(x))\n",
        "        return self.fc2(x)\n",
        "\n",
        "student_model = StudentCNN(input_size=X_train.shape[1], num_classes=3).to(device)"
      ],
      "metadata": {
        "id": "KxjLbqH42FrQ"
      },
      "execution_count": null,
      "outputs": []
    },
    {
      "cell_type": "code",
      "source": [
        "# Distillation Loss Function\n",
        "def distillation_loss(y_student, y_teacher, y_true, temperature=4, alpha=0.7):\n",
        "    \"\"\"\n",
        "    y_student: logits from student\n",
        "    y_teacher: logits from teacher\n",
        "    y_true: true labels\n",
        "    temperature: softening temperature\n",
        "    alpha: weight for soft loss\n",
        "    \"\"\"\n",
        "    soft_loss = nn.KLDivLoss()(F.log_softmax(y_student/temperature, dim=1),\n",
        "                               F.softmax(y_teacher/temperature, dim=1)) * (temperature**2)\n",
        "    hard_loss = F.cross_entropy(y_student, y_true)\n",
        "    return alpha * soft_loss + (1 - alpha) * hard_loss"
      ],
      "metadata": {
        "id": "0Hei2rRr3mI4"
      },
      "execution_count": null,
      "outputs": []
    },
    {
      "cell_type": "code",
      "source": [
        "# Training student with distillation\n",
        "def train_distillation(student_model, teacher_model, train_loader, val_loader, epochs=20, lr=0.001):\n",
        "    optimizer = optim.Adam(student_model.parameters(), lr=lr)\n",
        "    teacher_model.eval()\n",
        "\n",
        "    for epoch in range(epochs):\n",
        "        student_model.train()\n",
        "        total_loss = 0\n",
        "        correct = 0\n",
        "\n",
        "        for inputs, labels in train_loader:\n",
        "            inputs, labels = inputs.to(device), labels.to(device)\n",
        "\n",
        "            with torch.no_grad():\n",
        "                teacher_outputs = teacher_model(inputs)\n",
        "\n",
        "            optimizer.zero_grad()\n",
        "            student_outputs = student_model(inputs)\n",
        "\n",
        "            loss = distillation_loss(student_outputs, teacher_outputs, labels)\n",
        "            loss.backward()\n",
        "            optimizer.step()\n",
        "\n",
        "            total_loss += loss.item()\n",
        "            _, predicted = torch.max(student_outputs, 1)\n",
        "            correct += (predicted == labels).sum().item()\n",
        "\n",
        "        train_acc = correct / len(train_loader.dataset)\n",
        "\n",
        "        # Validation\n",
        "        student_model.eval()\n",
        "        val_correct = 0\n",
        "        with torch.no_grad():\n",
        "            for inputs, labels in val_loader:\n",
        "                inputs, labels = inputs.to(device), labels.to(device)\n",
        "                outputs = student_model(inputs)\n",
        "                _, predicted = torch.max(outputs, 1)\n",
        "                val_correct += (predicted == labels).sum().item()\n",
        "\n",
        "        val_acc = val_correct / len(val_loader.dataset)\n",
        "\n",
        "        print(f\"Epoch {epoch+1}: Loss = {total_loss:.4f}, Train Acc = {train_acc:.4f}, Val Acc = {val_acc:.4f}\")\n"
      ],
      "metadata": {
        "id": "gdJFB6nN32ov"
      },
      "execution_count": null,
      "outputs": []
    },
    {
      "cell_type": "code",
      "source": [
        "# distillation training\n",
        "train_distillation(student_model, model, train_loader, val_loader, epochs=20, lr=0.001)"
      ],
      "metadata": {
        "colab": {
          "base_uri": "https://localhost:8080/"
        },
        "id": "aXVryTUC4A0s",
        "outputId": "f9f63b38-8234-42dc-997f-8d111689fcfe"
      },
      "execution_count": null,
      "outputs": [
        {
          "output_type": "stream",
          "name": "stderr",
          "text": [
            "/usr/local/lib/python3.11/dist-packages/torch/nn/functional.py:3384: UserWarning: reduction: 'mean' divides the total loss by both the batch size and the support size.'batchmean' divides only by the batch size, and aligns with the KL div math definition.'mean' will be changed to behave the same as 'batchmean' in the next major release.\n",
            "  warnings.warn(\n",
            "/usr/local/lib/python3.11/dist-packages/torch/nn/functional.py:3384: UserWarning: reduction: 'mean' divides the total loss by both the batch size and the support size.'batchmean' divides only by the batch size, and aligns with the KL div math definition.'mean' will be changed to behave the same as 'batchmean' in the next major release.\n",
            "  warnings.warn(\n"
          ]
        },
        {
          "output_type": "stream",
          "name": "stdout",
          "text": [
            "Epoch 1: Loss = 42.4772, Train Acc = 0.7332, Val Acc = 0.8469\n"
          ]
        },
        {
          "output_type": "stream",
          "name": "stderr",
          "text": [
            "/usr/local/lib/python3.11/dist-packages/torch/nn/functional.py:3384: UserWarning: reduction: 'mean' divides the total loss by both the batch size and the support size.'batchmean' divides only by the batch size, and aligns with the KL div math definition.'mean' will be changed to behave the same as 'batchmean' in the next major release.\n",
            "  warnings.warn(\n"
          ]
        },
        {
          "output_type": "stream",
          "name": "stdout",
          "text": [
            "Epoch 2: Loss = 15.9601, Train Acc = 0.8995, Val Acc = 0.9125\n"
          ]
        },
        {
          "output_type": "stream",
          "name": "stderr",
          "text": [
            "/usr/local/lib/python3.11/dist-packages/torch/nn/functional.py:3384: UserWarning: reduction: 'mean' divides the total loss by both the batch size and the support size.'batchmean' divides only by the batch size, and aligns with the KL div math definition.'mean' will be changed to behave the same as 'batchmean' in the next major release.\n",
            "  warnings.warn(\n"
          ]
        },
        {
          "output_type": "stream",
          "name": "stdout",
          "text": [
            "Epoch 3: Loss = 7.8356, Train Acc = 0.9403, Val Acc = 0.9281\n"
          ]
        },
        {
          "output_type": "stream",
          "name": "stderr",
          "text": [
            "/usr/local/lib/python3.11/dist-packages/torch/nn/functional.py:3384: UserWarning: reduction: 'mean' divides the total loss by both the batch size and the support size.'batchmean' divides only by the batch size, and aligns with the KL div math definition.'mean' will be changed to behave the same as 'batchmean' in the next major release.\n",
            "  warnings.warn(\n"
          ]
        },
        {
          "output_type": "stream",
          "name": "stdout",
          "text": [
            "Epoch 4: Loss = 5.9324, Train Acc = 0.9511, Val Acc = 0.9563\n"
          ]
        },
        {
          "output_type": "stream",
          "name": "stderr",
          "text": [
            "/usr/local/lib/python3.11/dist-packages/torch/nn/functional.py:3384: UserWarning: reduction: 'mean' divides the total loss by both the batch size and the support size.'batchmean' divides only by the batch size, and aligns with the KL div math definition.'mean' will be changed to behave the same as 'batchmean' in the next major release.\n",
            "  warnings.warn(\n",
            "/usr/local/lib/python3.11/dist-packages/torch/nn/functional.py:3384: UserWarning: reduction: 'mean' divides the total loss by both the batch size and the support size.'batchmean' divides only by the batch size, and aligns with the KL div math definition.'mean' will be changed to behave the same as 'batchmean' in the next major release.\n",
            "  warnings.warn(\n"
          ]
        },
        {
          "output_type": "stream",
          "name": "stdout",
          "text": [
            "Epoch 5: Loss = 4.3534, Train Acc = 0.9665, Val Acc = 0.9594\n"
          ]
        },
        {
          "output_type": "stream",
          "name": "stderr",
          "text": [
            "/usr/local/lib/python3.11/dist-packages/torch/nn/functional.py:3384: UserWarning: reduction: 'mean' divides the total loss by both the batch size and the support size.'batchmean' divides only by the batch size, and aligns with the KL div math definition.'mean' will be changed to behave the same as 'batchmean' in the next major release.\n",
            "  warnings.warn(\n",
            "/usr/local/lib/python3.11/dist-packages/torch/nn/functional.py:3384: UserWarning: reduction: 'mean' divides the total loss by both the batch size and the support size.'batchmean' divides only by the batch size, and aligns with the KL div math definition.'mean' will be changed to behave the same as 'batchmean' in the next major release.\n",
            "  warnings.warn(\n"
          ]
        },
        {
          "output_type": "stream",
          "name": "stdout",
          "text": [
            "Epoch 6: Loss = 3.0638, Train Acc = 0.9745, Val Acc = 0.9688\n"
          ]
        },
        {
          "output_type": "stream",
          "name": "stderr",
          "text": [
            "/usr/local/lib/python3.11/dist-packages/torch/nn/functional.py:3384: UserWarning: reduction: 'mean' divides the total loss by both the batch size and the support size.'batchmean' divides only by the batch size, and aligns with the KL div math definition.'mean' will be changed to behave the same as 'batchmean' in the next major release.\n",
            "  warnings.warn(\n"
          ]
        },
        {
          "output_type": "stream",
          "name": "stdout",
          "text": [
            "Epoch 7: Loss = 2.0988, Train Acc = 0.9859, Val Acc = 0.9500\n"
          ]
        },
        {
          "output_type": "stream",
          "name": "stderr",
          "text": [
            "/usr/local/lib/python3.11/dist-packages/torch/nn/functional.py:3384: UserWarning: reduction: 'mean' divides the total loss by both the batch size and the support size.'batchmean' divides only by the batch size, and aligns with the KL div math definition.'mean' will be changed to behave the same as 'batchmean' in the next major release.\n",
            "  warnings.warn(\n",
            "/usr/local/lib/python3.11/dist-packages/torch/nn/functional.py:3384: UserWarning: reduction: 'mean' divides the total loss by both the batch size and the support size.'batchmean' divides only by the batch size, and aligns with the KL div math definition.'mean' will be changed to behave the same as 'batchmean' in the next major release.\n",
            "  warnings.warn(\n"
          ]
        },
        {
          "output_type": "stream",
          "name": "stdout",
          "text": [
            "Epoch 8: Loss = 1.6254, Train Acc = 0.9920, Val Acc = 0.9375\n"
          ]
        },
        {
          "output_type": "stream",
          "name": "stderr",
          "text": [
            "/usr/local/lib/python3.11/dist-packages/torch/nn/functional.py:3384: UserWarning: reduction: 'mean' divides the total loss by both the batch size and the support size.'batchmean' divides only by the batch size, and aligns with the KL div math definition.'mean' will be changed to behave the same as 'batchmean' in the next major release.\n",
            "  warnings.warn(\n"
          ]
        },
        {
          "output_type": "stream",
          "name": "stdout",
          "text": [
            "Epoch 9: Loss = 1.4427, Train Acc = 0.9933, Val Acc = 0.9563\n"
          ]
        },
        {
          "output_type": "stream",
          "name": "stderr",
          "text": [
            "/usr/local/lib/python3.11/dist-packages/torch/nn/functional.py:3384: UserWarning: reduction: 'mean' divides the total loss by both the batch size and the support size.'batchmean' divides only by the batch size, and aligns with the KL div math definition.'mean' will be changed to behave the same as 'batchmean' in the next major release.\n",
            "  warnings.warn(\n",
            "/usr/local/lib/python3.11/dist-packages/torch/nn/functional.py:3384: UserWarning: reduction: 'mean' divides the total loss by both the batch size and the support size.'batchmean' divides only by the batch size, and aligns with the KL div math definition.'mean' will be changed to behave the same as 'batchmean' in the next major release.\n",
            "  warnings.warn(\n"
          ]
        },
        {
          "output_type": "stream",
          "name": "stdout",
          "text": [
            "Epoch 10: Loss = 1.2117, Train Acc = 0.9953, Val Acc = 0.9719\n"
          ]
        },
        {
          "output_type": "stream",
          "name": "stderr",
          "text": [
            "/usr/local/lib/python3.11/dist-packages/torch/nn/functional.py:3384: UserWarning: reduction: 'mean' divides the total loss by both the batch size and the support size.'batchmean' divides only by the batch size, and aligns with the KL div math definition.'mean' will be changed to behave the same as 'batchmean' in the next major release.\n",
            "  warnings.warn(\n",
            "/usr/local/lib/python3.11/dist-packages/torch/nn/functional.py:3384: UserWarning: reduction: 'mean' divides the total loss by both the batch size and the support size.'batchmean' divides only by the batch size, and aligns with the KL div math definition.'mean' will be changed to behave the same as 'batchmean' in the next major release.\n",
            "  warnings.warn(\n"
          ]
        },
        {
          "output_type": "stream",
          "name": "stdout",
          "text": [
            "Epoch 11: Loss = 0.7865, Train Acc = 0.9993, Val Acc = 0.9594\n",
            "Epoch 12: Loss = 0.7395, Train Acc = 1.0000, Val Acc = 0.9531\n"
          ]
        },
        {
          "output_type": "stream",
          "name": "stderr",
          "text": [
            "/usr/local/lib/python3.11/dist-packages/torch/nn/functional.py:3384: UserWarning: reduction: 'mean' divides the total loss by both the batch size and the support size.'batchmean' divides only by the batch size, and aligns with the KL div math definition.'mean' will be changed to behave the same as 'batchmean' in the next major release.\n",
            "  warnings.warn(\n",
            "/usr/local/lib/python3.11/dist-packages/torch/nn/functional.py:3384: UserWarning: reduction: 'mean' divides the total loss by both the batch size and the support size.'batchmean' divides only by the batch size, and aligns with the KL div math definition.'mean' will be changed to behave the same as 'batchmean' in the next major release.\n",
            "  warnings.warn(\n"
          ]
        },
        {
          "output_type": "stream",
          "name": "stdout",
          "text": [
            "Epoch 13: Loss = 0.6163, Train Acc = 1.0000, Val Acc = 0.9625\n"
          ]
        },
        {
          "output_type": "stream",
          "name": "stderr",
          "text": [
            "/usr/local/lib/python3.11/dist-packages/torch/nn/functional.py:3384: UserWarning: reduction: 'mean' divides the total loss by both the batch size and the support size.'batchmean' divides only by the batch size, and aligns with the KL div math definition.'mean' will be changed to behave the same as 'batchmean' in the next major release.\n",
            "  warnings.warn(\n",
            "/usr/local/lib/python3.11/dist-packages/torch/nn/functional.py:3384: UserWarning: reduction: 'mean' divides the total loss by both the batch size and the support size.'batchmean' divides only by the batch size, and aligns with the KL div math definition.'mean' will be changed to behave the same as 'batchmean' in the next major release.\n",
            "  warnings.warn(\n"
          ]
        },
        {
          "output_type": "stream",
          "name": "stdout",
          "text": [
            "Epoch 14: Loss = 0.5088, Train Acc = 1.0000, Val Acc = 0.9750\n"
          ]
        },
        {
          "output_type": "stream",
          "name": "stderr",
          "text": [
            "/usr/local/lib/python3.11/dist-packages/torch/nn/functional.py:3384: UserWarning: reduction: 'mean' divides the total loss by both the batch size and the support size.'batchmean' divides only by the batch size, and aligns with the KL div math definition.'mean' will be changed to behave the same as 'batchmean' in the next major release.\n",
            "  warnings.warn(\n"
          ]
        },
        {
          "output_type": "stream",
          "name": "stdout",
          "text": [
            "Epoch 15: Loss = 0.3888, Train Acc = 1.0000, Val Acc = 0.9719\n"
          ]
        },
        {
          "output_type": "stream",
          "name": "stderr",
          "text": [
            "/usr/local/lib/python3.11/dist-packages/torch/nn/functional.py:3384: UserWarning: reduction: 'mean' divides the total loss by both the batch size and the support size.'batchmean' divides only by the batch size, and aligns with the KL div math definition.'mean' will be changed to behave the same as 'batchmean' in the next major release.\n",
            "  warnings.warn(\n"
          ]
        },
        {
          "output_type": "stream",
          "name": "stdout",
          "text": [
            "Epoch 16: Loss = 0.3437, Train Acc = 1.0000, Val Acc = 0.9688\n"
          ]
        },
        {
          "output_type": "stream",
          "name": "stderr",
          "text": [
            "/usr/local/lib/python3.11/dist-packages/torch/nn/functional.py:3384: UserWarning: reduction: 'mean' divides the total loss by both the batch size and the support size.'batchmean' divides only by the batch size, and aligns with the KL div math definition.'mean' will be changed to behave the same as 'batchmean' in the next major release.\n",
            "  warnings.warn(\n"
          ]
        },
        {
          "output_type": "stream",
          "name": "stdout",
          "text": [
            "Epoch 17: Loss = 0.3079, Train Acc = 1.0000, Val Acc = 0.9688\n"
          ]
        },
        {
          "output_type": "stream",
          "name": "stderr",
          "text": [
            "/usr/local/lib/python3.11/dist-packages/torch/nn/functional.py:3384: UserWarning: reduction: 'mean' divides the total loss by both the batch size and the support size.'batchmean' divides only by the batch size, and aligns with the KL div math definition.'mean' will be changed to behave the same as 'batchmean' in the next major release.\n",
            "  warnings.warn(\n",
            "/usr/local/lib/python3.11/dist-packages/torch/nn/functional.py:3384: UserWarning: reduction: 'mean' divides the total loss by both the batch size and the support size.'batchmean' divides only by the batch size, and aligns with the KL div math definition.'mean' will be changed to behave the same as 'batchmean' in the next major release.\n",
            "  warnings.warn(\n"
          ]
        },
        {
          "output_type": "stream",
          "name": "stdout",
          "text": [
            "Epoch 18: Loss = 0.4888, Train Acc = 0.9993, Val Acc = 0.9781\n"
          ]
        },
        {
          "output_type": "stream",
          "name": "stderr",
          "text": [
            "/usr/local/lib/python3.11/dist-packages/torch/nn/functional.py:3384: UserWarning: reduction: 'mean' divides the total loss by both the batch size and the support size.'batchmean' divides only by the batch size, and aligns with the KL div math definition.'mean' will be changed to behave the same as 'batchmean' in the next major release.\n",
            "  warnings.warn(\n"
          ]
        },
        {
          "output_type": "stream",
          "name": "stdout",
          "text": [
            "Epoch 19: Loss = 0.7783, Train Acc = 1.0000, Val Acc = 0.9750\n"
          ]
        },
        {
          "output_type": "stream",
          "name": "stderr",
          "text": [
            "/usr/local/lib/python3.11/dist-packages/torch/nn/functional.py:3384: UserWarning: reduction: 'mean' divides the total loss by both the batch size and the support size.'batchmean' divides only by the batch size, and aligns with the KL div math definition.'mean' will be changed to behave the same as 'batchmean' in the next major release.\n",
            "  warnings.warn(\n"
          ]
        },
        {
          "output_type": "stream",
          "name": "stdout",
          "text": [
            "Epoch 20: Loss = 0.4780, Train Acc = 1.0000, Val Acc = 0.9688\n"
          ]
        }
      ]
    },
    {
      "cell_type": "code",
      "source": [
        "# evaluating distilled student model on test set\n",
        "student_model.eval()\n",
        "all_preds = []\n",
        "all_labels = []\n",
        "\n",
        "with torch.no_grad():\n",
        "    for inputs, labels in test_loader:\n",
        "        inputs, labels = inputs.to(device), labels.to(device)\n",
        "        outputs = student_model(inputs)\n",
        "        _, predicted = torch.max(outputs, 1)\n",
        "        all_preds.extend(predicted.cpu().numpy())\n",
        "        all_labels.extend(labels.cpu().numpy())\n",
        "\n",
        "print(classification_report(all_labels, all_preds, target_names=label_encoder.classes_))\n",
        "\n",
        "cm = confusion_matrix(all_labels, all_preds)\n",
        "plt.figure(figsize=(6, 4))\n",
        "sns.heatmap(cm, annot=True, fmt='d', cmap='Blues',\n",
        "            xticklabels=label_encoder.classes_, yticklabels=label_encoder.classes_)\n",
        "plt.xlabel(\"Predicted\")\n",
        "plt.ylabel(\"True\")\n",
        "plt.title(\"Distilled Student Model – Confusion Matrix\")\n",
        "plt.show()\n"
      ],
      "metadata": {
        "colab": {
          "base_uri": "https://localhost:8080/",
          "height": 589
        },
        "id": "LxylV8Pa4ZY6",
        "outputId": "52de009e-2cff-4956-bdca-b8aa64b317d0"
      },
      "execution_count": null,
      "outputs": [
        {
          "output_type": "stream",
          "name": "stdout",
          "text": [
            "              precision    recall  f1-score   support\n",
            "\n",
            "    NEGATIVE       0.96      0.99      0.98       107\n",
            "     NEUTRAL       0.99      0.96      0.98       107\n",
            "    POSITIVE       0.95      0.95      0.95       106\n",
            "\n",
            "    accuracy                           0.97       320\n",
            "   macro avg       0.97      0.97      0.97       320\n",
            "weighted avg       0.97      0.97      0.97       320\n",
            "\n"
          ]
        },
        {
          "output_type": "display_data",
          "data": {
            "text/plain": [
              "<Figure size 600x400 with 2 Axes>"
            ],
            "image/png": "[encoded data removed]"
          },
          "metadata": {}
        }
      ]
    },
    {
      "cell_type": "markdown",
      "source": [
        "# Comparative Analysis"
      ],
      "metadata": {
        "id": "rnJw4NDz5d8e"
      }
    },
    {
      "cell_type": "code",
      "source": [
        "model_results = {\n",
        "    'Model': ['1D CNN (Teacher)', 'EEGNet', 'LSTM', 'Distilled CNN'],\n",
        "    'Test Accuracy': [0.98, 0.96, 0.93, 0.97],\n",
        "    'Macro F1 Score': [0.98, 0.96, 0.93, 0.97],\n",
        "    'Notes': [\n",
        "        'Largest model, highest accuracy',\n",
        "        'EEG-specific, compact',\n",
        "        'Temporal dynamics captured',\n",
        "        'Smallest, nearly same accuracy'\n",
        "    ]\n",
        "}\n",
        "\n",
        "results_df = pd.DataFrame(model_results)\n",
        "print(results_df)\n"
      ],
      "metadata": {
        "colab": {
          "base_uri": "https://localhost:8080/"
        },
        "id": "iVlcREtk4aB5",
        "outputId": "a819ac45-0c08-4c3e-ab7c-c5f7f3a18647"
      },
      "execution_count": null,
      "outputs": [
        {
          "output_type": "stream",
          "name": "stdout",
          "text": [
            "              Model  Test Accuracy  Macro F1 Score  \\\n",
            "0  1D CNN (Teacher)           0.98            0.98   \n",
            "1            EEGNet           0.96            0.96   \n",
            "2              LSTM           0.93            0.93   \n",
            "3     Distilled CNN           0.97            0.97   \n",
            "\n",
            "                             Notes  \n",
            "0  Largest model, highest accuracy  \n",
            "1            EEG-specific, compact  \n",
            "2       Temporal dynamics captured  \n",
            "3   Smallest, nearly same accuracy  \n"
          ]
        }
      ]
    },
    {
      "cell_type": "code",
      "source": [
        "plt.figure(figsize=(8,5))\n",
        "plt.bar(results_df['Model'], results_df['Test Accuracy'], color=['blue', 'orange', 'green', 'red'])\n",
        "plt.ylim([0.9, 1.0])\n",
        "plt.title('Test Accuracy Comparison of Models')\n",
        "plt.ylabel('Accuracy')\n",
        "plt.xticks(rotation=15)\n",
        "plt.grid(axis='y')\n",
        "plt.show()\n"
      ],
      "metadata": {
        "colab": {
          "base_uri": "https://localhost:8080/",
          "height": 499
        },
        "id": "_OmhClNe5rg1",
        "outputId": "6ea5d64c-9695-4c31-d249-fa39f4e5dc5a"
      },
      "execution_count": null,
      "outputs": [
        {
          "output_type": "display_data",
          "data": {
            "text/plain": [
              "<Figure size 800x500 with 1 Axes>"
            ],
            "image/png": "[encoded data removed]"
          },
          "metadata": {}
        }
      ]
    },
    {
      "cell_type": "markdown",
      "source": [
        "# GPT-2 Text Generation + TTS"
      ],
      "metadata": {
        "id": "rHP6RZhd6K8f"
      }
    },
    {
      "cell_type": "code",
      "source": [
        "# GPT-2 Text Generation\n",
        "tokenizer = GPT2Tokenizer.from_pretrained(\"gpt2\")\n",
        "model_gpt2 = GPT2LMHeadModel.from_pretrained(\"gpt2\")\n",
        "model_gpt2.eval()\n",
        "\n",
        "def generate_sentence_gpt2(emotion_label, max_length=30):\n",
        "    prompt = f\"The person is feeling {emotion_label.lower()}. Encourage them with a helpful sentence:\"\n",
        "    input_ids = tokenizer.encode(prompt, return_tensors='pt')\n",
        "\n",
        "    with torch.no_grad():\n",
        "        output = model_gpt2.generate(\n",
        "            input_ids,\n",
        "            max_length=max_length,\n",
        "            num_return_sequences=1,\n",
        "            no_repeat_ngram_size=2,\n",
        "            pad_token_id=tokenizer.eos_token_id\n",
        "        )\n",
        "\n",
        "    generated_text = tokenizer.decode(output[0], skip_special_tokens=True)\n",
        "    sentence = generated_text.replace(prompt, \"\").strip()\n",
        "    return sentence\n",
        "\n",
        "# Example\n",
        "for emotion in ['NEGATIVE', 'NEUTRAL', 'POSITIVE']:\n",
        "    print(f\"{emotion} → {generate_sentence_gpt2(emotion)}\")"
      ],
      "metadata": {
        "colab": {
          "base_uri": "https://localhost:8080/",
          "height": 511,
          "referenced_widgets": [
            "0d63e9b1228947b09595ae95a777d32c",
            "421cc7b70896442ebe598ef9f0fba39f",
            "9628e475184b410b9408a731d591f1a8",
            "ef2cff96014a4dc290162b1b1f967edd",
            "7e3d4666d1d348af826208977df0db7f",
            "9fd7511d96eb44b788e16bd0a2c5150a",
            "c4b8b3c087e8470080f99b0a9995c42e",
            "5bfbb2249b3741f38e5827edb19e94b8",
            "b7a760689831411895c8a5fa6231a4f3",
            "33ad19174283447eaf86f22b8a8a597d",
            "078f8982b7c24be4b8995b19b79b719e",
            "97e31012b21b4cb4a8e492e434feea28",
            "e53cb8c9842e4099baad88e67394e6a2",
            "287e8b9f9b504f3f9d0a0ab050280f64",
            "edba276851e5415ebcf043550c2f0845",
            "5c912e04e4844fcdaac98a139200cb48",
            "f7509f8775614d23a4b39708de416e6e",
            "c70125eacc6448cd8585207951902ab5",
            "7baf2bf45f19445494013aefebb4b596",
            "2278a460b15c4335a9e1ce0db8d17583",
            "9d44bbfed6b642b2ab93a3f861fc15d9",
            "7323308982d84492a586020075f0baf2",
            "8266612919194c1caf8825ef93615ea6",
            "ad5632a1141a4cbda51237f9ba61d365",
            "ec786c2a5eb24d38803a95988d0afaa8",
            "7cf88a576d1743e9addf1f307ee145ba",
            "a1821bcd32a242ee92a1900157f2b88c",
            "4af7bbd0d5554202ad36b6f081325f9d",
            "a32ae0c247b84349bb2c68b3c10d2b23",
            "5ee682f5517341c98e39f9e3b72809cf",
            "fcd79654dc464cc389606f515bd861a6",
            "e602af1bb7c34be7918c52bb671aa099",
            "41d8bdc438134eb28b2860e2fb917071",
            "0f53071d02f149569c33d5c526b89e42",
            "349dd3a029c14d45a57b4e3d1b4fdeba",
            "94192f9c27cb49ed8a28a5801a8bff86",
            "94d67a903734458d8accfd8006e88f5b",
            "384c03d7bde64678af6b03f1ea9025d8",
            "977033b136194f3f907100eaf5d8340b",
            "d884f1546a9248e5a8769c50b95459e3",
            "3a6b2b37aabc46ea90507a6dc9b2f979",
            "29fd9f5d8bd04551af5aa6250a0be936",
            "c7c1b1bc2f04486d86c6d8d61bfee8be",
            "d48f9ca5ecde480f8415cf3aadf0f1fb",
            "34e9f4bacb7f48e288b37c72ce202909",
            "0b162979e24e4112bddeee3394460352",
            "9d105f89936a4990bf3034f5066baffe",
            "73979543e3074384b34b20c5867253e9",
            "f9b510abb58342109fc30e572feb2976",
            "c3a06632620944a084ceaf6cecfc9521",
            "6a74dbe0a04c49d0b36a607ec496618d",
            "1189223c807c4cbeb4df92793bd259f4",
            "fe3baadfed8944fbbae22908c36d15bf",
            "9ecd1f2828a642aeab31227361734b7b",
            "f1e743f79fcb4c209d000577b1403f50",
            "f7b019965fcc4dd5a2e658352956bbb2",
            "4eddf79fdddc4638bb9a4563d344a27c",
            "bc74b3f4d23b46c6895f6c6f2f1ada30",
            "f757f74c1fae47c69cb1833910868fc9",
            "b39934df5df74c0195e37e060f2ba575",
            "029b96369788427a9ad8acce90c5e2ec",
            "e286b3c745b846b498a56787cf32caed",
            "3bb797be83934df9bb29eb3573ec67ce",
            "a6eab4fda16448fdb9f0b024604922cc",
            "8257133d37ec4f7baf9d26ff0ad923f3",
            "780ee282f8084e6eb87a69461cc3dfb5",
            "f1ac0884a21d452b9d3e7c1333c6ce81",
            "51c5a7aa1b384e3b85f01d12dfc405c9",
            "a42c66fde4d646e682c3555cff411525",
            "d26c021e95ef420882c5fb0d6a1dbb55",
            "80ccacd8bdfd41189ef3480cb81f1de1",
            "6256a27c5c114ce790de02e27c4b1fe2",
            "93e99cea49784014abaa8814d219a787",
            "341171631c4b45cdbd5979178a7d1291",
            "73cd5f3ec4ab49168dbec88ce3a1729b",
            "868cbc19634649f9ab9970333270f392",
            "5894d76d469a4aa29219b5528918b2fa"
          ]
        },
        "id": "N0eIa51D50hE",
        "outputId": "50b19297-6bba-410a-d84b-c896a99ef936"
      },
      "execution_count": null,
      "outputs": [
        {
          "output_type": "stream",
          "name": "stderr",
          "text": [
            "/usr/local/lib/python3.11/dist-packages/huggingface_hub/utils/_auth.py:94: UserWarning: \n",
            "The secret `HF_TOKEN` does not exist in your Colab secrets.\n",
            "To authenticate with the Hugging Face Hub, create a token in your settings tab (https://huggingface.co/settings/tokens), set it as secret in your Google Colab and restart your session.\n",
            "You will be able to reuse this secret in all of your notebooks.\n",
            "Please note that authentication is recommended but still optional to access public models or datasets.\n",
            "  warnings.warn(\n"
          ]
        },
        {
          "output_type": "display_data",
          "data": {
            "text/plain": [
              "tokenizer_config.json:   0%|          | 0.00/26.0 [00:00<?, ?B/s]"
            ],
            "application/vnd.jupyter.widget-view+json": {
              "version_major": 2,
              "version_minor": 0,
              "model_id": "0d63e9b1228947b09595ae95a777d32c"
            }
          },
          "metadata": {}
        },
        {
          "output_type": "display_data",
          "data": {
            "text/plain": [
              "vocab.json:   0%|          | 0.00/1.04M [00:00<?, ?B/s]"
            ],
            "application/vnd.jupyter.widget-view+json": {
              "version_major": 2,
              "version_minor": 0,
              "model_id": "97e31012b21b4cb4a8e492e434feea28"
            }
          },
          "metadata": {}
        },
        {
          "output_type": "display_data",
          "data": {
            "text/plain": [
              "merges.txt:   0%|          | 0.00/456k [00:00<?, ?B/s]"
            ],
            "application/vnd.jupyter.widget-view+json": {
              "version_major": 2,
              "version_minor": 0,
              "model_id": "8266612919194c1caf8825ef93615ea6"
            }
          },
          "metadata": {}
        },
        {
          "output_type": "display_data",
          "data": {
            "text/plain": [
              "tokenizer.json:   0%|          | 0.00/1.36M [00:00<?, ?B/s]"
            ],
            "application/vnd.jupyter.widget-view+json": {
              "version_major": 2,
              "version_minor": 0,
              "model_id": "0f53071d02f149569c33d5c526b89e42"
            }
          },
          "metadata": {}
        },
        {
          "output_type": "display_data",
          "data": {
            "text/plain": [
              "config.json:   0%|          | 0.00/665 [00:00<?, ?B/s]"
            ],
            "application/vnd.jupyter.widget-view+json": {
              "version_major": 2,
              "version_minor": 0,
              "model_id": "34e9f4bacb7f48e288b37c72ce202909"
            }
          },
          "metadata": {}
        },
        {
          "output_type": "display_data",
          "data": {
            "text/plain": [
              "model.safetensors:   0%|          | 0.00/548M [00:00<?, ?B/s]"
            ],
            "application/vnd.jupyter.widget-view+json": {
              "version_major": 2,
              "version_minor": 0,
              "model_id": "f7b019965fcc4dd5a2e658352956bbb2"
            }
          },
          "metadata": {}
        },
        {
          "output_type": "display_data",
          "data": {
            "text/plain": [
              "generation_config.json:   0%|          | 0.00/124 [00:00<?, ?B/s]"
            ],
            "application/vnd.jupyter.widget-view+json": {
              "version_major": 2,
              "version_minor": 0,
              "model_id": "f1ac0884a21d452b9d3e7c1333c6ce81"
            }
          },
          "metadata": {}
        },
        {
          "output_type": "stream",
          "name": "stderr",
          "text": [
            "The attention mask is not set and cannot be inferred from input because pad token is same as eos token. As a consequence, you may observe unexpected behavior. Please pass your input's `attention_mask` to obtain reliable results.\n"
          ]
        },
        {
          "output_type": "stream",
          "name": "stdout",
          "text": [
            "NEGATIVE → \"I'm sorry, but I'm not sure what to do.\"\n",
            "NEUTRAL → \"I'm not going to hurt you.\"\n",
            "\n",
            "\"I don't know\n",
            "POSITIVE → \"I'm feeling good.\"\n",
            "\n",
            "\"I feel good,\" says the person\n"
          ]
        }
      ]
    },
    {
      "cell_type": "code",
      "source": [
        "# Text-to-Speech (TTS) Using gTTS\n",
        "def speak_text(text, lang='en'):\n",
        "    tts = gTTS(text=text, lang=lang)\n",
        "    with tempfile.NamedTemporaryFile(delete=True) as fp:\n",
        "        tts.save(\"temp.mp3\")\n",
        "        return ipd.Audio(\"temp.mp3\")\n",
        "\n",
        "# Example\n",
        "sample_text = generate_sentence_gpt2('POSITIVE')\n",
        "print(\"Generated sentence:\", sample_text)\n",
        "speak_text(sample_text)\n"
      ],
      "metadata": {
        "colab": {
          "base_uri": "https://localhost:8080/",
          "height": 128
        },
        "id": "VF58PECK6WnV",
        "outputId": "b4c27466-90ed-4a5f-9e85-42fc773b5f73"
      },
      "execution_count": null,
      "outputs": [
        {
          "output_type": "stream",
          "name": "stdout",
          "text": [
            "Generated sentence: \"I'm feeling good.\"\n",
            "\n",
            "\"I feel good,\" says the person\n"
          ]
        },
        {
          "output_type": "execute_result",
          "data": {
            "text/plain": [
              "<IPython.lib.display.Audio object>"
            ],
            "text/html": [
              "\n",
              "                <audio  controls=\"controls\" >\n",
              "                    <source src=\"data:audio/mpeg;base64,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\" type=\"audio/mpeg\" />\n",
              "                    Your browser does not support the audio element.\n",
              "                </audio>\n",
              "              "
            ]
          },
          "metadata": {},
          "execution_count": 41
        }
      ]
    },
    {
      "cell_type": "markdown",
      "source": [
        "# Sample Predictions and Outputs"
      ],
      "metadata": {
        "id": "t7U9F0AU7RQC"
      }
    },
    {
      "cell_type": "code",
      "source": [
        "emotions = ['NEGATIVE', 'NEUTRAL', 'POSITIVE']\n",
        "\n",
        "for emotion in emotions:\n",
        "    sentence = generate_sentence_gpt2(emotion)\n",
        "    print(f\"Emotion: {emotion}\")\n",
        "    print(f\"Generated sentence: {sentence}\")\n",
        "    display(speak_text(sentence))\n",
        "    print('---')"
      ],
      "metadata": {
        "colab": {
          "base_uri": "https://localhost:8080/",
          "height": 423
        },
        "id": "jZJwlIoc7M2Z",
        "outputId": "c9321241-e97c-4ea0-a747-f4f843c0e54e"
      },
      "execution_count": null,
      "outputs": [
        {
          "output_type": "stream",
          "name": "stdout",
          "text": [
            "Emotion: NEGATIVE\n",
            "Generated sentence: \"I'm sorry, but I'm not sure what to do.\"\n"
          ]
        },
        {
          "output_type": "display_data",
          "data": {
            "text/plain": [
              "<IPython.lib.display.Audio object>"
            ],
            "text/html": [
              "\n",
              "                <audio  controls=\"controls\" >\n",
              "                    <source src=\"data:audio/mpeg;base64,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\" type=\"audio/mpeg\" />\n",
              "                    Your browser does not support the audio element.\n",
              "                </audio>\n",
              "              "
            ]
          },
          "metadata": {}
        },
        {
          "output_type": "stream",
          "name": "stdout",
          "text": [
            "---\n",
            "Emotion: NEUTRAL\n",
            "Generated sentence: \"I'm not going to hurt you.\"\n",
            "\n",
            "\"I don't know\n"
          ]
        },
        {
          "output_type": "display_data",
          "data": {
            "text/plain": [
              "<IPython.lib.display.Audio object>"
            ],
            "text/html": [
              "\n",
              "                <audio  controls=\"controls\" >\n",
              "                    <source src=\"data:audio/mpeg;base64,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\" type=\"audio/mpeg\" />\n",
              "                    Your browser does not support the audio element.\n",
              "                </audio>\n",
              "              "
            ]
          },
          "metadata": {}
        },
        {
          "output_type": "stream",
          "name": "stdout",
          "text": [
            "---\n",
            "Emotion: POSITIVE\n",
            "Generated sentence: \"I'm feeling good.\"\n",
            "\n",
            "\"I feel good,\" says the person\n"
          ]
        },
        {
          "output_type": "display_data",
          "data": {
            "text/plain": [
              "<IPython.lib.display.Audio object>"
            ],
            "text/html": [
              "\n",
              "                <audio  controls=\"controls\" >\n",
              "                    <source src=\"data:audio/mpeg;base64,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\" type=\"audio/mpeg\" />\n",
              "                    Your browser does not support the audio element.\n",
              "                </audio>\n",
              "              "
            ]
          },
          "metadata": {}
        },
        {
          "output_type": "stream",
          "name": "stdout",
          "text": [
            "---\n"
          ]
        }
      ]
    }
  ]
}